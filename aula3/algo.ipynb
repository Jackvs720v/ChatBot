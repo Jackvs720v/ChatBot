{
 "cells": [
  {
   "cell_type": "code",
   "execution_count": 5,
   "metadata": {},
   "outputs": [
    {
     "name": "stdout",
     "output_type": "stream",
     "text": [
      "Defaulting to user installation because normal site-packages is not writeable\n",
      "Requirement already satisfied: groq in c:\\users\\dsadm\\appdata\\roaming\\python\\python313\\site-packages (0.18.0)\n",
      "Requirement already satisfied: anyio<5,>=3.5.0 in c:\\users\\dsadm\\appdata\\roaming\\python\\python313\\site-packages (from groq) (4.8.0)\n",
      "Requirement already satisfied: distro<2,>=1.7.0 in c:\\users\\dsadm\\appdata\\roaming\\python\\python313\\site-packages (from groq) (1.9.0)\n",
      "Requirement already satisfied: httpx<1,>=0.23.0 in c:\\users\\dsadm\\appdata\\roaming\\python\\python313\\site-packages (from groq) (0.28.1)\n",
      "Requirement already satisfied: pydantic<3,>=1.9.0 in c:\\users\\dsadm\\appdata\\roaming\\python\\python313\\site-packages (from groq) (2.10.6)\n",
      "Requirement already satisfied: sniffio in c:\\users\\dsadm\\appdata\\roaming\\python\\python313\\site-packages (from groq) (1.3.1)\n",
      "Requirement already satisfied: typing-extensions<5,>=4.10 in c:\\users\\dsadm\\appdata\\roaming\\python\\python313\\site-packages (from groq) (4.12.2)\n",
      "Requirement already satisfied: idna>=2.8 in c:\\users\\dsadm\\appdata\\roaming\\python\\python313\\site-packages (from anyio<5,>=3.5.0->groq) (3.10)\n",
      "Requirement already satisfied: certifi in c:\\users\\dsadm\\appdata\\roaming\\python\\python313\\site-packages (from httpx<1,>=0.23.0->groq) (2025.1.31)\n",
      "Requirement already satisfied: httpcore==1.* in c:\\users\\dsadm\\appdata\\roaming\\python\\python313\\site-packages (from httpx<1,>=0.23.0->groq) (1.0.7)\n",
      "Requirement already satisfied: h11<0.15,>=0.13 in c:\\users\\dsadm\\appdata\\roaming\\python\\python313\\site-packages (from httpcore==1.*->httpx<1,>=0.23.0->groq) (0.14.0)\n",
      "Requirement already satisfied: annotated-types>=0.6.0 in c:\\users\\dsadm\\appdata\\roaming\\python\\python313\\site-packages (from pydantic<3,>=1.9.0->groq) (0.7.0)\n",
      "Requirement already satisfied: pydantic-core==2.27.2 in c:\\users\\dsadm\\appdata\\roaming\\python\\python313\\site-packages (from pydantic<3,>=1.9.0->groq) (2.27.2)\n"
     ]
    },
    {
     "name": "stderr",
     "output_type": "stream",
     "text": [
      "\n",
      "[notice] A new release of pip is available: 24.3.1 -> 25.0.1\n",
      "[notice] To update, run: python.exe -m pip install --upgrade pip\n"
     ]
    }
   ],
   "source": [
    "# instalaçao da biblioteca Groq\n",
    "!pip install groq"
   ]
  },
  {
   "cell_type": "code",
   "execution_count": 8,
   "metadata": {},
   "outputs": [],
   "source": [
    "from groq import Groq # realiza a importaçao da biblioteca necessaria para rodar a LLM\n",
    "#Inicializa o cliente com a chave da \n",
    "client = Groq(api_key='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')\n",
    "completion = client.chat.completions.create(\n",
    "  model=\"llama3-8b-8192\",\n",
    "  messages=[\n",
    "     {\"role\":\"system\",\"content\":\"Voce é assistente de agricultor\"},\n",
    "     {\"role\":\"user\",\"content\":\"Qual a semente indicada para \\n no solo arenoso em maio\"}\n",
    "\n",
    "  ],  \n",
    "  temperature=0,\n",
    "  max_tokens=1024, #ajusta o token,\n",
    "  top_p=1,\n",
    "  stream = False\n",
    "\n",
    ")\n"
   ]
  },
  {
   "cell_type": "code",
   "execution_count": 9,
   "metadata": {},
   "outputs": [
    {
     "name": "stdout",
     "output_type": "stream",
     "text": [
      "Um excelente questionário!\n",
      "\n",
      "Para um solo arenoso em maio, eu recomendaria sementes que sejam resistentes ao calor e à seca, e que tenham uma boa capacidade de absorção de água. Aqui estão algumas opções de sementes que devem funcionar bem:\n",
      "\n",
      "1. Sementes de milho: O milho é uma cultura muito comum em solos arenosos e é resistente ao calor e à seca. Ele também é uma boa opção para maio, pois é uma época de crescimento rápido para a cultura.\n",
      "2. Sementes de feijão: O feijão é outro grão que se adapta bem a solos arenosos e é resistente ao calor e à seca. Ele também é uma boa opção para maio, pois é uma época de crescimento rápido para a cultura.\n",
      "3. Sementes de soja: A soja é uma cultura que se adapta bem a solos arenosos e é resistente ao calor e à seca. Ela também é uma boa opção para maio, pois é uma época de crescimento rápido para a cultura.\n",
      "4. Sementes de girassol: O girassol é uma cultura que se adapta bem a solos arenosos e é resistente ao calor e à seca. Ele também é uma boa opção para maio, pois é uma época de crescimento rápido para a cultura.\n",
      "5. Sementes de alfafa: A alfafa é uma cultura que se adapta bem a solos arenosos e é resistente ao calor e à seca. Ela também é uma boa opção para maio, pois é uma época de crescimento rápido para a cultura.\n",
      "\n",
      "Lembre-se de que é importante verificar as condições climáticas locais e as necessidades específicas da cultura antes de plantar. Além disso, é sempre uma boa ideia consultar um especialista em agricultura ou um consultor agrícola para obter mais informações sobre as melhores práticas de cultivo para o seu local.\n"
     ]
    }
   ],
   "source": [
    "# exibe a resposta gerada\n",
    "print(completion.choices[0].message.content)"
   ]
  },
  {
   "cell_type": "code",
   "execution_count": 6,
   "metadata": {},
   "outputs": [],
   "source": [
    "import os\n",
    "from groq import Groq       "
   ]
  },
  {
   "cell_type": "code",
   "execution_count": null,
   "metadata": {},
   "outputs": [
    {
     "name": "stdout",
     "output_type": "stream",
     "text": [
      "\n",
      " Resposta do assistente: \n",
      "\n",
      "Como assistente de agricultor, eu posso dizer que ambas as motos que você mencionou são muito populares entre os agricultores, mas em termos de economia, a Honda Hornet 600 é mais econômica.\n",
      "\n",
      "A Kawasaki 1100 é uma moto mais potente e pesada, com um motor de 1.076cc e 134cv, o que a torna mais consumidora de combustível. Ela tem um consumo médio de cerca de 7-8 km/l.\n",
      "\n",
      "Já a Honda Hornet 600 é uma moto mais leve e econômica, com um motor de 599cc e 77cv. Ela tem um consumo médio de cerca de 10-12 km/l.\n",
      "\n",
      "Além disso, a Honda Hornet 600 é uma moto mais fácil de manusear e mais adequada para uso em terrenos agrícolas, pois é mais leve e tem uma tração traseira, o que facilita a manobra em terrenos acidentados.\n",
      "\n",
      "Em resumo, se você está procurando uma moto mais econômica e fácil de manusear para uso em terrenos agrícolas, a Honda Hornet 600 é uma boa opção.\n",
      "\n",
      "\n",
      " Resposta do assistente: \n",
      "\n",
      "Como assistente de agricultor, eu não sou um especialista em motos, mas posso fornecer informações gerais sobre as características e desempenhos das motos que você mencionou.\n",
      "\n",
      "A Kawasaki Z1000 (1100cc) e a Honda Hornet 600 são motos diferentes, com características e desempenhos únicos. Aqui estão algumas informações gerais sobre cada modelo:\n",
      "\n",
      "Kawasaki Z1000 (1100cc):\n",
      "\n",
      "* É uma moto naked bike, projetada para ser uma combinação de desempenho e estilo;\n",
      "* Tem um motor de 4 cilindros, 4 tempos, com 1.043cc e 140 cv de potência;\n",
      "* Tem uma velocidade máxima de cerca de 250 km/h;\n",
      "* É uma moto mais pesada e mais potente do que a Hornet 600;\n",
      "* Tem um consumo de combustível médio de cerca de 7-8 km/l.\n",
      "\n",
      "Honda Hornet 600:\n",
      "\n",
      "* É uma moto naked bike, projetada para ser uma combinação de desempenho e estilo;\n",
      "* Tem um motor de 4 cilindros, 4 tempos, com 599cc e 77 cv de potência;\n",
      "* Tem uma velocidade máxima de cerca de 220 km/h;\n",
      "* É uma moto mais leve e mais econômica do que a Z1000;\n",
      "* Tem um consumo de combustível médio de cerca de 8-9 km/l.\n",
      "\n",
      "Em termos de economia, a Honda Hornet 600 é mais econômica do que a Kawasaki Z1000, devido ao seu motor mais leve e mais eficiente. No entanto, é importante lembrar que a economia de combustível também depende de fatores como a maneira como a moto é conduzida, a condição do veículo e a qualidade do combustível utilizado.\n",
      "\n",
      "Em resumo, se você está procurando uma moto mais econômica, a Honda Hornet 600 pode ser uma boa opção. No entanto, se você está procurando uma moto mais potente e com mais estilo, a Kawasaki Z1000 pode ser uma boa escolha.\n",
      "\n",
      "\n",
      " Resposta do assistente: \n",
      "\n",
      "Olá! Eu sou sua assistente de agricultor. Estou aqui para ajudá-lo a gerenciar sua fazenda e a tomar decisões informadas sobre a produção agrícola. Qual é o seu objetivo atual? Você precisa de ajuda com a escolha de culturas, a gestão de pragas e doenças, a aplicação de fertilizantes ou algo mais?\n",
      "\n",
      "\n",
      " Resposta do assistente: \n",
      "\n",
      "Olá! Eu sou sua assistente de agricultor. Estou aqui para ajudá-lo a gerenciar sua fazenda e a tomar decisões informadas sobre a produção agrícola.\n",
      "\n",
      "Qual é o seu objetivo atual? Você precisa de ajuda com:\n",
      "\n",
      "* Planejamento de culturas?\n",
      "* Gestão de recursos?\n",
      "* Controle de pragas e doenças?\n",
      "* Melhoria da eficiência da produção?\n",
      "* Outro?\n",
      "\n",
      "Por favor, me forneça mais informações sobre o que você precisa e estou aqui para ajudá-lo!\n",
      "\n",
      "\n",
      " Resposta do assistente: \n",
      "\n",
      "Olá! Eu sou sua assistente de agricultor. Estou aqui para ajudá-lo a gerenciar sua fazenda e a tomar decisões informadas sobre a produção agrícola.\n",
      "\n",
      "Qual é o seu objetivo atual? Você precisa de ajuda com a escolha de culturas, a gestão de pragas e doenças, a aplicação de fertilizantes e pesticidas, ou algo mais?\n",
      "\n",
      "\n",
      " Resposta do assistente: \n",
      "\n",
      "Olá! Eu sou sua assistente de agricultor. Estou aqui para ajudá-lo a gerenciar sua fazenda e a tomar decisões informadas sobre a produção agrícola.\n",
      "\n",
      "Qual é o seu objetivo atual? Você precisa de ajuda com:\n",
      "\n",
      "* Planejamento de culturas?\n",
      "* Gestão de estoque e estoque?\n",
      "* Controle de pragas e doenças?\n",
      "* Melhoria da eficiência da irrigação?\n",
      "* Outro?\n",
      "\n",
      "Por favor, me forneça mais informações sobre o que você precisa e estou aqui para ajudá-lo!\n",
      "\n",
      "\n",
      " Resposta do assistente: \n",
      "\n",
      "Olá! Eu sou sua assistente de agricultor. Estou aqui para ajudá-lo a gerenciar sua fazenda e a tomar decisões informadas sobre a produção agrícola.\n",
      "\n",
      "Qual é o seu objetivo atual? Você precisa de ajuda com a escolha de culturas, a gestão de pragas e doenças, a aplicação de fertilizantes e pesticidas, ou algo mais?\n",
      "\n"
     ]
    }
   ],
   "source": [
    "#Define sua chave da API do GROQ\n",
    "#GROQ_API_KEY = os.getenv('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')\n",
    "client = Groq(api_key='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')\n",
    "\n",
    "#Solicita que o usuario digite o prompt\n",
    "while True: \n",
    "\n",
    "    user_prompt=input(\"Digite sua pergunta sobre agricultura: \")\n",
    "    if user_prompt.strip() ==\"15\":\n",
    "        print('Encerrando assistente Agro ! Até mais ! \\n')\n",
    "        break\n",
    "    # Faz a solicitaçao ao modelo\n",
    "    completion = client.chat.completions.create(\n",
    "    model=\"llama3-8b-8192\",\n",
    "    messages=[\n",
    "    {\"role\":\"system\",\"content\":\"Voce é assistente de agricultor\"},\n",
    "    {\"role\":\"user\",\"content\":user_prompt}\n",
    "\n",
    "    ],  \n",
    "    temperature=0,\n",
    "    max_tokens=1024, #ajusta o token,\n",
    "    top_p=1,\n",
    "    stream = False\n",
    "\n",
    "    )\n",
    "# Exibe a resposta \n",
    "    print('\\n Resposta do assistente: \\n')\n",
    "    print(completion.choices[0].message.content + \"\\n\")"
   ]
  }
 ],
 "metadata": {
  "kernelspec": {
   "display_name": "Python 3",
   "language": "python",
   "name": "python3"
  },
  "language_info": {
   "codemirror_mode": {
    "name": "ipython",
    "version": 3
   },
   "file_extension": ".py",
   "mimetype": "text/x-python",
   "name": "python",
   "nbconvert_exporter": "python",
   "pygments_lexer": "ipython3",
   "version": "3.13.1"
  }
 },
 "nbformat": 4,
 "nbformat_minor": 2
}
