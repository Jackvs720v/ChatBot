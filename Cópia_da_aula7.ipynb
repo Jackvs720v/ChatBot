{
  "cells": [
    {
      "cell_type": "markdown",
      "metadata": {
        "id": "view-in-github",
        "colab_type": "text"
      },
      "source": [
        "<a href=\"https://colab.research.google.com/github/Jackvs720v/ChatBot/blob/main/C%C3%B3pia_da_aula7.ipynb\" target=\"_parent\"><img src=\"https://colab.research.google.com/assets/colab-badge.svg\" alt=\"Open In Colab\"/></a>"
      ]
    },
    {
      "cell_type": "code",
      "execution_count": null,
      "metadata": {
        "id": "zwFnJsE6vjf8"
      },
      "outputs": [],
      "source": [
        "#Instalando a biblioteca Llama index\n",
        "!pip install -q llama-index"
      ]
    },
    {
      "cell_type": "code",
      "execution_count": null,
      "metadata": {
        "id": "DMKNCJBdm8as"
      },
      "outputs": [],
      "source": [
        "#Biblioteca para permitir a leitura de arquivos\n",
        "from llama_index.core import SimpleDirectoryReader"
      ]
    },
    {
      "cell_type": "code",
      "execution_count": null,
      "metadata": {
        "id": "CfQK5sNRnSZL"
      },
      "outputs": [],
      "source": [
        "documentos = SimpleDirectoryReader(input_dir='agricultura')"
      ]
    },
    {
      "cell_type": "code",
      "execution_count": null,
      "metadata": {
        "id": "RUoq2ob9oCPh"
      },
      "outputs": [],
      "source": [
        "documentos.input_files"
      ]
    },
    {
      "cell_type": "code",
      "execution_count": null,
      "metadata": {
        "id": "sL0bGcKgoFqB"
      },
      "outputs": [],
      "source": [
        "docs = documentos.load_data()"
      ]
    },
    {
      "cell_type": "code",
      "execution_count": null,
      "metadata": {
        "id": "BBPZOtmSoI_x"
      },
      "outputs": [],
      "source": [
        "docs"
      ]
    },
    {
      "cell_type": "code",
      "execution_count": null,
      "metadata": {
        "colab": {
          "base_uri": "https://localhost:8080/"
        },
        "id": "Q1fYouYJoNUg",
        "outputId": "07bf18b2-d54c-4b27-9be5-5dd145d2a23f"
      },
      "outputs": [
        {
          "data": {
            "text/plain": [
              "26"
            ]
          },
          "execution_count": 8,
          "metadata": {},
          "output_type": "execute_result"
        }
      ],
      "source": [
        "len(docs)"
      ]
    },
    {
      "cell_type": "code",
      "execution_count": null,
      "metadata": {
        "colab": {
          "base_uri": "https://localhost:8080/"
        },
        "id": "4gtM6UGOpzN6",
        "outputId": "3c110b3c-b1df-41f2-b37e-cf4b88f1f7b4"
      },
      "outputs": [
        {
          "name": "stdout",
          "output_type": "stream",
          "text": [
            "page_label: 1\n",
            "file_name: chatbotAula7.pdf\n",
            "file_path: /content/agricultura/chatbotAula7.pdf\n",
            "file_type: application/pdf\n",
            "file_size: 321540\n",
            "creation_date: 2025-03-20\n",
            "last_modified_date: 2025-03-20\n"
          ]
        }
      ],
      "source": [
        "print(docs[0].get_metadata_str())"
      ]
    },
    {
      "cell_type": "code",
      "execution_count": null,
      "metadata": {
        "colab": {
          "base_uri": "https://localhost:8080/"
        },
        "id": "ja8xocwxp4GL",
        "outputId": "1ad792aa-edc4-40f1-c448-90b967f1250f"
      },
      "outputs": [
        {
          "data": {
            "text/plain": [
              "{'id_': 'e8d4beaf-7198-4cb3-a412-6b25a515321e',\n",
              " 'embedding': None,\n",
              " 'metadata': {'page_label': '1',\n",
              "  'file_name': 'chatbotAula7.pdf',\n",
              "  'file_path': '/content/agricultura/chatbotAula7.pdf',\n",
              "  'file_type': 'application/pdf',\n",
              "  'file_size': 321540,\n",
              "  'creation_date': '2025-03-20',\n",
              "  'last_modified_date': '2025-03-20'},\n",
              " 'excluded_embed_metadata_keys': ['file_name',\n",
              "  'file_type',\n",
              "  'file_size',\n",
              "  'creation_date',\n",
              "  'last_modified_date',\n",
              "  'last_accessed_date'],\n",
              " 'excluded_llm_metadata_keys': ['file_name',\n",
              "  'file_type',\n",
              "  'file_size',\n",
              "  'creation_date',\n",
              "  'last_modified_date',\n",
              "  'last_accessed_date'],\n",
              " 'relationships': {},\n",
              " 'metadata_template': '{key}: {value}',\n",
              " 'metadata_separator': '\\n',\n",
              " 'text_resource': MediaResource(embeddings=None, data=None, text='Informações para o Chatbot do Projeto \\nIntegrador \\nSistemas de Automação com CLP para Agricultura \\nFundamentos de CLP para Sistemas de Irrigação \\n1. Tipos de CLPs adequados para aplicações agrícolas:  \\na. CLPs compactos: Ideais para pequenas propriedades, com 8-32 pontos \\nde I/O \\nb. CLPs modulares: Recomendados para médias e grandes propriedades, \\npermitindo expansão conforme necessidade \\nc. CLPs com comunicação sem fio: Facilitam a integração com sensores \\nIoT distribuídos pelo campo \\n2. Interfaces de comunicação relevantes:  \\na. Protocolos industriais: Modbus RTU/TCP, Profinet, EtherNet/IP \\nb. Protocolos IoT: MQTT, HTTP/REST, CoAP \\nc. Comunicação com sensores: I2C, SPI, 4-20mA, 0-10V \\n3. Programação de CLPs para controle de irrigação:  \\na. Linguagens recomendadas: Ladder, Structured Text (ST), Function Block \\nDiagram (FBD) \\nb. Principais blocos funcionais: Timers, Contadores, PID, Operações \\nmatemáticas \\nc. Estruturas de controle: Histerese para controle de umidade, Controle PID \\npara ajuste de frequência dos inversores \\nIntegração CLP-Sensores-Inversores \\n1. Conexão de sensores ao CLP:  \\na. Entradas analógicas: Para sensores de umidade capacitivos/resistivos \\n(4-20mA ou 0-10V) \\nb. Entradas digitais: Para sensores on/off ou de pulso \\nc. Módulos de expansão específicos: Para sensores de temperatura \\nPT100/PT1000 \\n2. Integração com inversores de frequência:  \\na. Comunicação via fieldbus (Modbus RTU é comum em inversores \\nagrícolas) \\nb. Controle direto por saída analógica (0-10V) ', path=None, url=None, mimetype=None),\n",
              " 'image_resource': None,\n",
              " 'audio_resource': None,\n",
              " 'video_resource': None,\n",
              " 'text_template': '{metadata_str}\\n\\n{content}'}"
            ]
          },
          "execution_count": 10,
          "metadata": {},
          "output_type": "execute_result"
        }
      ],
      "source": [
        "docs[0].__dict__"
      ]
    },
    {
      "cell_type": "code",
      "execution_count": null,
      "metadata": {
        "id": "nz9eo3IBp74r"
      },
      "outputs": [],
      "source": [
        "#Importando a biblioteca\n",
        "from llama_index.core.node_parser import SentenceSplitter\n",
        "node_parser = SentenceSplitter(chunk_size=1200)"
      ]
    },
    {
      "cell_type": "code",
      "execution_count": null,
      "metadata": {
        "colab": {
          "base_uri": "https://localhost:8080/",
          "height": 49,
          "referenced_widgets": [
            "1ac184256df245d986ee6ba75e42cfd2",
            "8b9843860653463a98965c940dea99dc",
            "22558a287077429c9ff4f00205b19ade",
            "fdb53af8b2f6426db6de461cfa89759b",
            "c0e9ae9d001a45ed9b44f28f6968d04d",
            "6e77859b9e88478db5a1f0d129de7c35",
            "834beddc9ae941d2b6bd61ec5e999078",
            "227d57e2979d496b9b9807bca19293cb",
            "eb8122b67c6c47a8ae77a6cc7fe78f02",
            "e1e36bfd48af4d72a9d9c3bed1d0069e",
            "58104b0e965a4e13994b2fe76b32988b"
          ]
        },
        "id": "nR4MeqQDqLbZ",
        "outputId": "143b36cd-c803-4ae5-9034-11edab958482"
      },
      "outputs": [
        {
          "data": {
            "application/vnd.jupyter.widget-view+json": {
              "model_id": "1ac184256df245d986ee6ba75e42cfd2",
              "version_major": 2,
              "version_minor": 0
            },
            "text/plain": [
              "Parsing nodes:   0%|          | 0/26 [00:00<?, ?it/s]"
            ]
          },
          "metadata": {},
          "output_type": "display_data"
        }
      ],
      "source": [
        "nodes = node_parser.get_nodes_from_documents(docs, show_progress=True)"
      ]
    },
    {
      "cell_type": "code",
      "execution_count": null,
      "metadata": {
        "colab": {
          "base_uri": "https://localhost:8080/"
        },
        "id": "mo33NbJgqUpn",
        "outputId": "6c92948b-6051-4baa-909a-c2fddfc7e42b"
      },
      "outputs": [
        {
          "data": {
            "text/plain": [
              "[TextNode(id_='37ec89f5-ee0e-4ea2-b164-4ddfe1f24ded', embedding=None, metadata={'page_label': '1', 'file_name': 'chatbotAula7.pdf', 'file_path': '/content/agricultura/chatbotAula7.pdf', 'file_type': 'application/pdf', 'file_size': 321540, 'creation_date': '2025-03-20', 'last_modified_date': '2025-03-20'}, excluded_embed_metadata_keys=['file_name', 'file_type', 'file_size', 'creation_date', 'last_modified_date', 'last_accessed_date'], excluded_llm_metadata_keys=['file_name', 'file_type', 'file_size', 'creation_date', 'last_modified_date', 'last_accessed_date'], relationships={<NodeRelationship.SOURCE: '1'>: RelatedNodeInfo(node_id='e8d4beaf-7198-4cb3-a412-6b25a515321e', node_type=<ObjectType.DOCUMENT: '4'>, metadata={'page_label': '1', 'file_name': 'chatbotAula7.pdf', 'file_path': '/content/agricultura/chatbotAula7.pdf', 'file_type': 'application/pdf', 'file_size': 321540, 'creation_date': '2025-03-20', 'last_modified_date': '2025-03-20'}, hash='b9431d902c5cc0a4e958e7c36719780906ef23fa49f6675094afe7c9db299f8d')}, metadata_template='{key}: {value}', metadata_separator='\\n', text='Informações para o Chatbot do Projeto \\nIntegrador \\nSistemas de Automação com CLP para Agricultura \\nFundamentos de CLP para Sistemas de Irrigação \\n1. Tipos de CLPs adequados para aplicações agrícolas:  \\na. CLPs compactos: Ideais para pequenas propriedades, com 8-32 pontos \\nde I/O \\nb. CLPs modulares: Recomendados para médias e grandes propriedades, \\npermitindo expansão conforme necessidade \\nc. CLPs com comunicação sem fio: Facilitam a integração com sensores \\nIoT distribuídos pelo campo \\n2. Interfaces de comunicação relevantes:  \\na. Protocolos industriais: Modbus RTU/TCP, Profinet, EtherNet/IP \\nb. Protocolos IoT: MQTT, HTTP/REST, CoAP \\nc. Comunicação com sensores: I2C, SPI, 4-20mA, 0-10V \\n3. Programação de CLPs para controle de irrigação:  \\na. Linguagens recomendadas: Ladder, Structured Text (ST), Function Block \\nDiagram (FBD) \\nb. Principais blocos funcionais: Timers, Contadores, PID, Operações \\nmatemáticas \\nc. Estruturas de controle: Histerese para controle de umidade, Controle PID \\npara ajuste de frequência dos inversores \\nIntegração CLP-Sensores-Inversores \\n1. Conexão de sensores ao CLP:  \\na. Entradas analógicas: Para sensores de umidade capacitivos/resistivos \\n(4-20mA ou 0-10V) \\nb. Entradas digitais: Para sensores on/off ou de pulso \\nc. Módulos de expansão específicos: Para sensores de temperatura \\nPT100/PT1000 \\n2. Integração com inversores de frequência:  \\na. Comunicação via fieldbus (Modbus RTU é comum em inversores \\nagrícolas) \\nb. Controle direto por saída analógica (0-10V)', mimetype='text/plain', start_char_idx=0, end_char_idx=1503, metadata_seperator='\\n', text_template='{metadata_str}\\n\\n{content}'),\n",
              " TextNode(id_='cea22cba-cdee-4d86-895e-15e9cc6dda26', embedding=None, metadata={'page_label': '2', 'file_name': 'chatbotAula7.pdf', 'file_path': '/content/agricultura/chatbotAula7.pdf', 'file_type': 'application/pdf', 'file_size': 321540, 'creation_date': '2025-03-20', 'last_modified_date': '2025-03-20'}, excluded_embed_metadata_keys=['file_name', 'file_type', 'file_size', 'creation_date', 'last_modified_date', 'last_accessed_date'], excluded_llm_metadata_keys=['file_name', 'file_type', 'file_size', 'creation_date', 'last_modified_date', 'last_accessed_date'], relationships={<NodeRelationship.SOURCE: '1'>: RelatedNodeInfo(node_id='5a04683d-cac2-4a39-867f-7b907027b776', node_type=<ObjectType.DOCUMENT: '4'>, metadata={'page_label': '2', 'file_name': 'chatbotAula7.pdf', 'file_path': '/content/agricultura/chatbotAula7.pdf', 'file_type': 'application/pdf', 'file_size': 321540, 'creation_date': '2025-03-20', 'last_modified_date': '2025-03-20'}, hash='0d92c6c686c6e39714c68a0f2222e6a18d24a12a777f9259c3fc6f3a3b221780')}, metadata_template='{key}: {value}', metadata_separator='\\n', text='c. Parâmetros de configuração essenciais: rampa de \\naceleração/desaceleração, frequência mínima/máxima \\n3. Lógica de controle otimizada:  \\na. Ajuste de frequência baseado em níveis de umidade em diferentes zonas \\ndo solo \\nb. Algoritmos de economia de energia: operação em horários de tarifa \\nreduzida \\nc. Proteção contra cavitação das bombas: controle de pressão mínima \\nComunicação CLP-Nuvem \\n1. Gateways de comunicação:  \\na. Módulos de comunicação Ethernet/Wi-Fi para CLPs \\nb. Conversores de protocolo: Modbus para MQTT/HTTP \\nc. Edge computing para processamento local antes do envio à nuvem \\n2. Segurança na comunicação:  \\na. Implementação de TLS/SSL para comunicação segura \\nb. Autenticação via tokens ou certificados \\nc. Segregação de redes OT (Operational Technology) e IT (Information \\nTechnology) \\n3. Estrutura de dados para integração:  \\na. Formato JSON para troca de dados entre CLP e APIs \\nb. Estrutura de payload otimizada para reduzir consumo de banda \\nc. Timestamping para garantir integridade temporal dos dados \\nExemplos de Regras de Controle para Irrigação Inteligente \\n1. Controle baseado em umidade:  \\nCopiar \\nSE umidade_solo < limiar_minimo ENTÃO \\n   acionar_bomba(velocidade_proporcional) \\nSE umidade_solo > limiar_maximo ENTÃO \\n   desligar_bomba() \\n2. Controle com previsão meteorológica:  \\nCopiar \\nSE previsao_chuva_proximas_24h > 10mm ENTÃO \\n   reduzir_irrigacao(50%) \\nSE temperatura_prevista > 35°C ENTÃO \\n   aumentar_irrigacao(20%) \\n3. Controle de rotação baseado em demanda:  \\nCopiar', mimetype='text/plain', start_char_idx=0, end_char_idx=1510, metadata_seperator='\\n', text_template='{metadata_str}\\n\\n{content}'),\n",
              " TextNode(id_='e8f819d2-cc4d-4a0d-8d86-e1748f964847', embedding=None, metadata={'page_label': '3', 'file_name': 'chatbotAula7.pdf', 'file_path': '/content/agricultura/chatbotAula7.pdf', 'file_type': 'application/pdf', 'file_size': 321540, 'creation_date': '2025-03-20', 'last_modified_date': '2025-03-20'}, excluded_embed_metadata_keys=['file_name', 'file_type', 'file_size', 'creation_date', 'last_modified_date', 'last_accessed_date'], excluded_llm_metadata_keys=['file_name', 'file_type', 'file_size', 'creation_date', 'last_modified_date', 'last_accessed_date'], relationships={<NodeRelationship.SOURCE: '1'>: RelatedNodeInfo(node_id='6adfcf0f-648d-423f-bcd7-21e11e5099b2', node_type=<ObjectType.DOCUMENT: '4'>, metadata={'page_label': '3', 'file_name': 'chatbotAula7.pdf', 'file_path': '/content/agricultura/chatbotAula7.pdf', 'file_type': 'application/pdf', 'file_size': 321540, 'creation_date': '2025-03-20', 'last_modified_date': '2025-03-20'}, hash='776bef9346f52cd561a055b388ae5190d3f317bfea5c71dc31fcf11b1d9a7e17')}, metadata_template='{key}: {value}', metadata_separator='\\n', text='frequencia_bomba = 20 + ((80 - umidade_solo) / 30) * 40 \\nLIMITAR frequencia_bomba ENTRE 20 E 60 Hz \\nConsiderações para Implementação do CLP \\n1. Localização do painel de controle:  \\na. Instalação em local protegido contra intempéries (IP65 ou superior) \\nb. Proximidade com quadro de distribuição elétrica \\nc. Acesso para manutenção facilitado \\n2. Redundância e segurança:  \\na. Backup de energia: UPS ou gerador \\nb. Backup de comunicação: rede celular secundária \\nc. Modo de operação manual em caso de falha \\n3. Manutenção preventiva:  \\na. Verificação periódica de terminais e conexões (trimestral) \\nb. Limpeza de filtros de ar do painel (mensal) \\nc. Backup da programação do CLP (após cada alteração) \\nCálculos Importantes para Dimensionamento \\n1. Estimativa da vazão de irrigação:  \\nCopiar \\nVazão (m³/h) = Área (hectares) × Taxa de aplicação (mm/dia) × \\n10 / Tempo de operação (horas) \\n2. Dimensionamento da potência do inversor:  \\nCopiar \\nPotência (kW) = (Vazão (m³/h) × Altura manométrica (m) × 9,8) \\n/ (3600 × Eficiência da bomba) \\n3. Economia de energia estimada com controle de frequência:  \\nCopiar \\nEconomia (%) = 100 - ((Frequência nova / Frequência nominal)³ \\n× 100) \\nIntegração com o Chatbot \\n1. Perguntas e respostas sobre operação do sistema:  \\na. \"Qual a umidade ideal para o cultivo de milho?\" \\nb. \"Como ajustar a frequência do inversor para economizar energia?\" \\nc. \"Qual o melhor horário para irrigação considerando tarifas de energia?\" \\n2. Troubleshooting comum:  \\na. \"Bomba não está ligando mesmo com baixa umidade\"', mimetype='text/plain', start_char_idx=0, end_char_idx=1532, metadata_seperator='\\n', text_template='{metadata_str}\\n\\n{content}'),\n",
              " TextNode(id_='7b13e048-7359-473f-b486-83e3a04ed450', embedding=None, metadata={'page_label': '4', 'file_name': 'chatbotAula7.pdf', 'file_path': '/content/agricultura/chatbotAula7.pdf', 'file_type': 'application/pdf', 'file_size': 321540, 'creation_date': '2025-03-20', 'last_modified_date': '2025-03-20'}, excluded_embed_metadata_keys=['file_name', 'file_type', 'file_size', 'creation_date', 'last_modified_date', 'last_accessed_date'], excluded_llm_metadata_keys=['file_name', 'file_type', 'file_size', 'creation_date', 'last_modified_date', 'last_accessed_date'], relationships={<NodeRelationship.SOURCE: '1'>: RelatedNodeInfo(node_id='6cd3dc7a-ddf5-4be0-a212-dcb15bd5f7dd', node_type=<ObjectType.DOCUMENT: '4'>, metadata={'page_label': '4', 'file_name': 'chatbotAula7.pdf', 'file_path': '/content/agricultura/chatbotAula7.pdf', 'file_type': 'application/pdf', 'file_size': 321540, 'creation_date': '2025-03-20', 'last_modified_date': '2025-03-20'}, hash='12eca0a5e2679fd97be41c158c03a04c70dd99f171c1193e97791d55a5600dd4')}, metadata_template='{key}: {value}', metadata_separator='\\n', text='b. \"Sensores de umidade apresentando leituras inconsistentes\" \\nc. \"Falha na comunicação entre CLP e aplicativo\" \\n3. Auxílio na interpretação de dados:  \\na. \"O que significa uma queda brusca na umidade do solo?\" \\nb. \"Como interpretar os gráficos de consumo de água do sistema?\" \\nc. \"Qual a relação entre temperatura ambiente e necessidade de \\nirrigação?\" \\nInformações sobre Plantas para o Sistema de Irrigação \\nAutomatizado \\nNecessidades Hídricas por Tipo de Cultura \\n1. Culturas de Ciclo Curto:  \\na. Alface: Requer solo constantemente úmido, umidade ideal entre 80-\\n90%, irrigações leves e frequentes \\nb. Cenoura: Sensível à falta d\\'água, umidade ideal entre 70-80%, evitar \\nencharcamento na fase inicial \\nc. Feijão: Períodos críticos de necessidade hídrica na floração e \\nenchimento de vagens, umidade ideal 60-70% \\n2. Culturas de Grãos:  \\na. Milho: Alta demanda durante pendoamento e enchimento de grãos, \\numidade ideal do solo 65-75% \\nb. Soja: Necessidade crítica na floração e formação de vagens, umidade \\nideal 60-70%, sensível ao excesso de água \\nc. Trigo: Menor exigência hídrica, umidade ideal 55-65%, período crítico no \\nespigamento \\n3. Frutíferas:  \\na. Citros: Necessidades variáveis conforme estágio fenológico, umidade \\nideal 60-70%, irrigação reduzida antes da colheita \\nb. Uva: Controle preciso para qualidade dos frutos, redução hídrica na \\nmaturação, umidade ideal 50-60% \\nc. Banana: Alta exigência hídrica, umidade constante entre 75-85%, não \\ntolera períodos secos \\nParametrização do CLP por Cultura \\n1. Variação de Setpoints:  \\na. Variáveis de controle para hortaliças:  \\nCopiar', mimetype='text/plain', start_char_idx=0, end_char_idx=1597, metadata_seperator='\\n', text_template='{metadata_str}\\n\\n{content}'),\n",
              " TextNode(id_='451aae60-f8f3-4915-b35c-350b9cc8e23b', embedding=None, metadata={'page_label': '5', 'file_name': 'chatbotAula7.pdf', 'file_path': '/content/agricultura/chatbotAula7.pdf', 'file_type': 'application/pdf', 'file_size': 321540, 'creation_date': '2025-03-20', 'last_modified_date': '2025-03-20'}, excluded_embed_metadata_keys=['file_name', 'file_type', 'file_size', 'creation_date', 'last_modified_date', 'last_accessed_date'], excluded_llm_metadata_keys=['file_name', 'file_type', 'file_size', 'creation_date', 'last_modified_date', 'last_accessed_date'], relationships={<NodeRelationship.SOURCE: '1'>: RelatedNodeInfo(node_id='6c838e11-63f0-4bba-a726-02214f9bd42c', node_type=<ObjectType.DOCUMENT: '4'>, metadata={'page_label': '5', 'file_name': 'chatbotAula7.pdf', 'file_path': '/content/agricultura/chatbotAula7.pdf', 'file_type': 'application/pdf', 'file_size': 321540, 'creation_date': '2025-03-20', 'last_modified_date': '2025-03-20'}, hash='d041dc44dcc5f40116bdc0b95ff5220befad988cd337acb06af1509d408423d8')}, metadata_template='{key}: {value}', metadata_separator='\\n', text='umidade_minima = 75% \\numidade_maxima = 85% \\ntempo_min_entre_irrigacoes = 8h \\nb. Variáveis de controle para grãos:  \\nCopiar \\numidade_minima = 60% \\numidade_maxima = 75% \\ntempo_min_entre_irrigacoes = 24h \\nc. Variáveis para frutíferas:  \\nCopiar \\numidade_minima = 55% \\numidade_maxima = 70% \\ntempo_min_entre_irrigacoes = 48h \\n2. Ajustes Sazonais por Fase Fenológica:  \\na. Germinação/Emergência: Irrigações mais frequentes e menos intensas \\nb. Desenvolvimento Vegetativo: Aumento gradual do volume de água \\nc. Floração/Frutificação: Período crítico, máxima precisão no controle de \\numidade \\nd. Maturação/Colheita: Redução estratégica da irrigação para algumas \\nculturas \\nCondições Edafoclimáticas e Sensores \\n1. Relação Solo-Planta-Água:  \\na. Em solos arenosos: posicionar sensores mais profundos e aumentar \\nfrequência de irrigação \\nb. Em solos argilosos: maior intervalo entre irrigações e monitoramento de \\nencharcamento \\nc. Em solos francos: melhores condições para automação padrão \\n2. Ajustes por Profundidade Radicular:  \\na. Hortaliças (15-30cm): sensores posicionados a 15cm \\nb. Grãos (50-100cm): sensores em duas profundidades (20cm e 50cm) \\nc. Frutíferas (100-200cm): sensores em múltiplas profundidades para perfil \\ncompleto de umidade \\nEstresse Hídrico e Sinais de Alerta \\n1. Indicadores de Déficit Hídrico:  \\na. Folhas murchas nas horas mais quentes \\nb. Enrolamento foliar (milho)', mimetype='text/plain', start_char_idx=0, end_char_idx=1386, metadata_seperator='\\n', text_template='{metadata_str}\\n\\n{content}'),\n",
              " TextNode(id_='13d7f986-d6c5-48b4-af31-e8c267a000a9', embedding=None, metadata={'page_label': '6', 'file_name': 'chatbotAula7.pdf', 'file_path': '/content/agricultura/chatbotAula7.pdf', 'file_type': 'application/pdf', 'file_size': 321540, 'creation_date': '2025-03-20', 'last_modified_date': '2025-03-20'}, excluded_embed_metadata_keys=['file_name', 'file_type', 'file_size', 'creation_date', 'last_modified_date', 'last_accessed_date'], excluded_llm_metadata_keys=['file_name', 'file_type', 'file_size', 'creation_date', 'last_modified_date', 'last_accessed_date'], relationships={<NodeRelationship.SOURCE: '1'>: RelatedNodeInfo(node_id='343f2f11-4cbf-4fa7-b850-821da605de48', node_type=<ObjectType.DOCUMENT: '4'>, metadata={'page_label': '6', 'file_name': 'chatbotAula7.pdf', 'file_path': '/content/agricultura/chatbotAula7.pdf', 'file_type': 'application/pdf', 'file_size': 321540, 'creation_date': '2025-03-20', 'last_modified_date': '2025-03-20'}, hash='88bdc93db90a00b8d7cf9c566e5e041aa3656ce5231b4e50dd15af21deb97955')}, metadata_template='{key}: {value}', metadata_separator='\\n', text='c. Amarelecimento prematuro de folhas baixeiras \\nd. Redução do crescimento vegetativo \\n2. Configuração de Alertas no Sistema:  \\nCopiar \\nSE umidade_solo < limiar_critico_cultura E temperatura > 30°C \\nENTÃO \\n   alerta_emergencia = VERDADEIRO \\n   aumentar_frequencia_medicao() \\nEficiência do Uso da Água por Cultura \\n1. Coeficientes de Cultura (Kc):  \\na. Milho: Kc inicial = 0.3, Kc meio = 1.2, Kc final = 0.6 \\nb. Soja: Kc inicial = 0.4, Kc meio = 1.15, Kc final = 0.5 \\nc. Café: Kc inicial = 0.9, Kc meio = 1.1, Kc final = 1.0 \\nd. Cana-de-açúcar: Kc inicial = 0.4, Kc meio = 1.25, Kc final = 0.75 \\n2. Cálculo de Evapotranspiração:  \\nCopiar \\nETc = ETo × Kc \\n \\nOnde: \\nETc = Evapotranspiração da cultura (mm/dia) \\nETo = Evapotranspiração de referência (mm/dia) \\nKc = Coeficiente da cultura (adimensional) \\nCorrelação com Dados Meteorológicos \\n1. Ajuste de Irrigação Baseado em Clima:  \\nCopiar \\nvolume_irrigacao = ETc - precipitacao_efetiva \\n \\nSE temperatura_maxima > 35°C ENTÃO \\n   aumentar_irrigacao(15%) \\nSE umidade_relativa_ar < 30% ENTÃO \\n   aumentar_irrigacao(20%) \\n2. Integração com Previsão Meteorológica:  \\na. Suspensão automática da irrigação com previsão de chuva >10mm nas \\npróximas 12h \\nb. Irrigação preventiva antes de ondas de calor previstas', mimetype='text/plain', start_char_idx=0, end_char_idx=1250, metadata_seperator='\\n', text_template='{metadata_str}\\n\\n{content}'),\n",
              " TextNode(id_='e555fc67-69d5-4dac-93a4-f3df324ba92f', embedding=None, metadata={'page_label': '7', 'file_name': 'chatbotAula7.pdf', 'file_path': '/content/agricultura/chatbotAula7.pdf', 'file_type': 'application/pdf', 'file_size': 321540, 'creation_date': '2025-03-20', 'last_modified_date': '2025-03-20'}, excluded_embed_metadata_keys=['file_name', 'file_type', 'file_size', 'creation_date', 'last_modified_date', 'last_accessed_date'], excluded_llm_metadata_keys=['file_name', 'file_type', 'file_size', 'creation_date', 'last_modified_date', 'last_accessed_date'], relationships={<NodeRelationship.SOURCE: '1'>: RelatedNodeInfo(node_id='0a342841-3889-45c5-9c3d-a8cec8eab9b7', node_type=<ObjectType.DOCUMENT: '4'>, metadata={'page_label': '7', 'file_name': 'chatbotAula7.pdf', 'file_path': '/content/agricultura/chatbotAula7.pdf', 'file_type': 'application/pdf', 'file_size': 321540, 'creation_date': '2025-03-20', 'last_modified_date': '2025-03-20'}, hash='a6df76dfc72c233d9f412c850e0245822df1e823da9bf419ee98b4ef96d7793c')}, metadata_template='{key}: {value}', metadata_separator='\\n', text='Calendário Agrícola e Sazonalidade \\n1. Épocas Ideais de Plantio:  \\na. Região Sul: Milho (set-out), Soja (out-nov), Trigo (maio-jul) \\nb. Região Sudeste: Milho (out-nov), Café (out-dez), Cana (jan-mar) \\nc. Região Centro-Oeste: Soja (out-nov), Milho safrinha (jan-fev) \\nd. Região Nordeste: Feijão (mar-abr), Milho (nov-dez) \\n2. Requisitos de Temperatura:  \\na. Culturas de clima frio: Trigo, batata, alface (15-21°C) \\nb. Culturas de clima moderado: Milho, feijão, tomate (18-28°C) \\nc. Culturas de clima quente: Cana-de-açúcar, manga, melancia (23-35°C) \\nRecomendações de Plantio e Irrigação \\n1. Baseado em Textura do Solo:  \\na. Solo arenoso: Irrigações frequentes (2-3 dias), menor volume por vez \\nb. Solo argiloso: Irrigações espaçadas (6-7 dias), maior volume por vez \\nc. Solo franco: Intervalo médio (4-5 dias), volume moderado \\n2. Baseado em Eficiência do Sistema:  \\na. Gotejamento: Eficiência 90-95%, redução do setpoint de umidade em \\n5% \\nb. Microaspersão: Eficiência 85-90%, manutenção do setpoint padrão \\nc. Aspersão convencional: Eficiência 70-80%, aumento do setpoint em \\n10% \\nInformações para Alimentar Decisões do Chatbot \\n1. Recomendações específicas por cultura:  \\na. \"Qual a melhor hora para irrigar o tomate?\" \\nb. \"Quanto tempo devo deixar a irrigação ligada para o milho?\" \\nc. \"Como ajustar a irrigação na fase de floração da soja?\" \\n2. Reconhecimento de problemas específicos:  \\na. \"Folhas da alface estão murchas mesmo com solo úmido\" \\nb. \"Frutos do tomate estão rachando após irrigação\" \\nc. \"Folhas amareladas na base do milho\" \\n3. Orientação de manejo integrado:  \\na. \"Qual a relação entre irrigação e incidência de fungos no feijão?\" \\nb. \"Como ajustar a fertirrigação para diferentes fases do cultivo?\" \\nc. \"Quais os sinais de que a planta está recebendo água em excesso?\" \\n \\nGuia de Preparo do Solo para Plantio', mimetype='text/plain', start_char_idx=0, end_char_idx=1830, metadata_seperator='\\n', text_template='{metadata_str}\\n\\n{content}'),\n",
              " TextNode(id_='defdcd5f-de97-4cbf-8a8a-14191341335e', embedding=None, metadata={'page_label': '8', 'file_name': 'chatbotAula7.pdf', 'file_path': '/content/agricultura/chatbotAula7.pdf', 'file_type': 'application/pdf', 'file_size': 321540, 'creation_date': '2025-03-20', 'last_modified_date': '2025-03-20'}, excluded_embed_metadata_keys=['file_name', 'file_type', 'file_size', 'creation_date', 'last_modified_date', 'last_accessed_date'], excluded_llm_metadata_keys=['file_name', 'file_type', 'file_size', 'creation_date', 'last_modified_date', 'last_accessed_date'], relationships={<NodeRelationship.SOURCE: '1'>: RelatedNodeInfo(node_id='dcc6242a-c399-4a60-afe2-efc6e27e1e20', node_type=<ObjectType.DOCUMENT: '4'>, metadata={'page_label': '8', 'file_name': 'chatbotAula7.pdf', 'file_path': '/content/agricultura/chatbotAula7.pdf', 'file_type': 'application/pdf', 'file_size': 321540, 'creation_date': '2025-03-20', 'last_modified_date': '2025-03-20'}, hash='e1e398ee407aea457ca688849787bb0c8b5f99b2c2f88c7e29ac60dfd496d441')}, metadata_template='{key}: {value}', metadata_separator='\\n', text='Informações Gerais  \\nP: Qual a importância do preparo adequado do solo?  \\nR: O preparo adequado do solo garante que as plantas tenham acesso aos nutrientes \\nnecessários, além de melhorar a retenção de água e a aeração, fatores essenciais para \\no crescimento saudável.  \\nP: Quais fatores devem ser considerados ao preparar o solo para o plantio?  \\nR: Os principais fatores incluem o tipo de solo, a umidade ideal, o pH, a compactação e \\na adubação adequada para cada cultura.  \\nTipos de Solo e Seu Tratamento \\n P: Quais os principais tipos de solo e como prepará-los?  \\nR: Existem diversos tipos de solo, cada um com características específicas e \\ntratamentos recomendados:  \\n• Solo Arenoso: Drenagem rápida, baixo teor de nutrientes. Recomendase adição de \\nmatéria orgânica e irrigação frequente.  \\n• Solo Argiloso: Retém muita água, pode compactar facilmente. Aéreação e adição de \\nareia podem melhorar a drenagem.  \\n• Solo Calcário: Alto pH, pouca disponibilidade de micronutrientes. Pode ser corrigido \\ncom adubação orgânica e fertilizantes ácidos. \\n Sensores para Monitoramento da Umidade do Solo  \\nP: Quais sensores podem ser usados para monitorar a umidade do solo?  \\nR: Existem diversas tecnologias para medir a umidade do solo, entre elas:  \\n• Sensor Capacitivo de Umidade do Solo: Mede a variação da capacitância conforme o \\nnível de umidade. \\n • Sensor Resistivo de Umidade: Mede a condutividade elétrica do solo, variando \\nconforme a umidade.  \\n• Sensor TDR (Time Domain Reflectometry): Utiliza pulsos eletromagnéticos para \\ncalcular a umidade com alta precisão.  \\n• Sondas de Tensiômetro: Medem a tensão com que a água está sendo retida no solo, \\nindicando o nível de umidade disponível para as plantas. Esses sensores são \\nfundamentais para o manejo eficiente da irrigação e para evitar estresse hídrico das \\nplantas. \\nUmidade e pH Ideais', mimetype='text/plain', start_char_idx=0, end_char_idx=1851, metadata_seperator='\\n', text_template='{metadata_str}\\n\\n{content}'),\n",
              " TextNode(id_='db680638-2ab5-48b1-97a1-9ae3e11bd81d', embedding=None, metadata={'page_label': '9', 'file_name': 'chatbotAula7.pdf', 'file_path': '/content/agricultura/chatbotAula7.pdf', 'file_type': 'application/pdf', 'file_size': 321540, 'creation_date': '2025-03-20', 'last_modified_date': '2025-03-20'}, excluded_embed_metadata_keys=['file_name', 'file_type', 'file_size', 'creation_date', 'last_modified_date', 'last_accessed_date'], excluded_llm_metadata_keys=['file_name', 'file_type', 'file_size', 'creation_date', 'last_modified_date', 'last_accessed_date'], relationships={<NodeRelationship.SOURCE: '1'>: RelatedNodeInfo(node_id='795949f3-6d11-4219-802c-84519b02d4c9', node_type=<ObjectType.DOCUMENT: '4'>, metadata={'page_label': '9', 'file_name': 'chatbotAula7.pdf', 'file_path': '/content/agricultura/chatbotAula7.pdf', 'file_type': 'application/pdf', 'file_size': 321540, 'creation_date': '2025-03-20', 'last_modified_date': '2025-03-20'}, hash='2a739b4d17b9eced642e931bed049edb3d31f662cbf21747b989c5be788ebbb0')}, metadata_template='{key}: {value}', metadata_separator='\\n', text='P: Como medir e ajustar a umidade do solo?  \\nR: A umidade pode ser medida com sensores ou testes simples (amassando o solo na \\nmão). Para solos muito secos, a irrigação regular é essencial; para solos muito úmidos, \\ndrenagem adequada deve ser aplicada.  \\nP: Como ajustar o pH do solo para diferentes culturas?  \\nR: O pH do solo pode ser medido com kits de teste. \\nPara correção:  \\n• Solo ácido (pH baixo): Aplicação de calcário.  \\n• Solo alcalino (pH alto): Uso de enxofre ou fertilizantes ácidos. Culturas e Suas \\nNecessidades \\n P: Quais são as recomendações de preparo do solo para diferentes sementes? \\n R: Cada semente tem exigências específicas:  \\n• Milho: Prefere solo bem drenado, pH entre 5,5 e 7,0, rico em nitrogênio.  \\n• Soja: Solo com boa retenção de umidade, pH entre 6,0 e 7,0, necessária fixação \\nbiológica de nitrogênio.  \\n• Trigo: Prefere solos profundos e bem drenados, pH entre 6,0 e 7,5, rico em fósforo.  \\n• Hortaliças (alface, tomate, cenoura): Solo leve, bem drenado e rico em matéria \\norgânica, pH entre 5,5 e 6,8.  \\nP: Como garantir a fertilidade do solo? \\nR: O solo deve ser adubado de acordo com as necessidades da cultura. A adubação \\npode ser orgânica (composto, esterco) ou química (NPK). A análise do solo é \\nfundamental para determinar os nutrientes necessários.  \\nTipos de Fertilizantes  \\nP: Quais são os principais fertilizantes usados no solo?  \\nR: Os fertilizantes podem ser classificados em:  \\n• Fertilizantes Orgânicos: Compostos naturais como esterco, húmus de minhoca, \\nfarinha de ossos e restos vegetais.  \\n• Fertilizantes Químicos: Compostos sintéticos como NPK (Nitrogênio, Fósforo e \\nPotássio), ureia, superfosfato e cloreto de potássio.  \\n• Fertilizantes de Liberação Controlada: Gradualmente liberam os nutrientes no solo \\nao longo do tempo, otimizando o aproveitamento pelas plantas.', mimetype='text/plain', start_char_idx=0, end_char_idx=1830, metadata_seperator='\\n', text_template='{metadata_str}\\n\\n{content}'),\n",
              " TextNode(id_='607caa42-a130-4003-8758-85194ae00a23', embedding=None, metadata={'page_label': '10', 'file_name': 'chatbotAula7.pdf', 'file_path': '/content/agricultura/chatbotAula7.pdf', 'file_type': 'application/pdf', 'file_size': 321540, 'creation_date': '2025-03-20', 'last_modified_date': '2025-03-20'}, excluded_embed_metadata_keys=['file_name', 'file_type', 'file_size', 'creation_date', 'last_modified_date', 'last_accessed_date'], excluded_llm_metadata_keys=['file_name', 'file_type', 'file_size', 'creation_date', 'last_modified_date', 'last_accessed_date'], relationships={<NodeRelationship.SOURCE: '1'>: RelatedNodeInfo(node_id='30661760-21c6-4ddf-a4be-b28eae5f6ffc', node_type=<ObjectType.DOCUMENT: '4'>, metadata={'page_label': '10', 'file_name': 'chatbotAula7.pdf', 'file_path': '/content/agricultura/chatbotAula7.pdf', 'file_type': 'application/pdf', 'file_size': 321540, 'creation_date': '2025-03-20', 'last_modified_date': '2025-03-20'}, hash='4fa06547f5adb179c5fe3213f5df66fa0bfc03075c9546e3ee631c56849e5bca')}, metadata_template='{key}: {value}', metadata_separator='\\n', text='Preparo do Solo Passo a Passo \\n 1. Análise do Solo: Coletar amostras e verificar pH, umidade e nutrientes.  \\n2. Correção do Solo: Aplicar calcário, adubos e melhoradores conforme necessidade. \\n3. Aragem e Gradagem: Revolver o solo para aeração e nivelamento.  \\n4. Adubação: Incorporar fertilizantes e matéria orgânica.  \\n5. Preparo Final: Nivelar o solo e preparar os espaçamentos para a sementeira ou \\nmudas.  \\nDicas Gerais \\n• Evite compactação excessiva: Use rotação de culturas e cobertura vegetal.  \\n• Mantenha umidade ideal: Planeje irrigação conforme a cultura.  \\n• Proteja contra erosão: Utilize cobertura morta e curvas de nível em terrenos \\ninclinados. Onde obter mais informações? Para mais detalhes sobre preparo do solo e \\nescolha de sementes, consulte um agrônomo ou acesse fontes confiáveis de pesquisa \\nagrícola \\nRespostas para Chatbot Agrícola \\n1) Por que é importante preparar o solo \\nadequadamente antes do plantio? \\nO preparo adequado do solo é fundamental para o sucesso do plantio pelos seguintes \\nmotivos: \\n• Acesso a nutrientes: Um solo bem preparado disponibiliza os nutrientes \\nessenciais para o desenvolvimento das plantas. \\n• Retenção de água: Melhora a capacidade de retenção e distribuição da água no \\nsolo. \\n• Aeração: Permite a circulação adequada de ar nas raízes, essencial para a \\nrespiração das plantas. \\n• Desenvolvimento radicular: Facilita o crescimento das raízes, permitindo \\nmelhor absorção de nutrientes e água. \\n• Controle de pragas e doenças: Reduz a incidência de patógenos e ervas \\ndaninhas. \\n• Produtividade: Solos bem preparados resultam em plantas mais saudáveis e \\nprodutivas.', mimetype='text/plain', start_char_idx=0, end_char_idx=1626, metadata_seperator='\\n', text_template='{metadata_str}\\n\\n{content}'),\n",
              " TextNode(id_='1b769761-fe69-467b-aff4-48e3667fa16f', embedding=None, metadata={'page_label': '11', 'file_name': 'chatbotAula7.pdf', 'file_path': '/content/agricultura/chatbotAula7.pdf', 'file_type': 'application/pdf', 'file_size': 321540, 'creation_date': '2025-03-20', 'last_modified_date': '2025-03-20'}, excluded_embed_metadata_keys=['file_name', 'file_type', 'file_size', 'creation_date', 'last_modified_date', 'last_accessed_date'], excluded_llm_metadata_keys=['file_name', 'file_type', 'file_size', 'creation_date', 'last_modified_date', 'last_accessed_date'], relationships={<NodeRelationship.SOURCE: '1'>: RelatedNodeInfo(node_id='60478384-7396-4d1c-b383-bdefb54d9902', node_type=<ObjectType.DOCUMENT: '4'>, metadata={'page_label': '11', 'file_name': 'chatbotAula7.pdf', 'file_path': '/content/agricultura/chatbotAula7.pdf', 'file_type': 'application/pdf', 'file_size': 321540, 'creation_date': '2025-03-20', 'last_modified_date': '2025-03-20'}, hash='6e4a53a37b73ffe4b4e31ab676b6b55a798468efef9376cac18d573ade1ac35f')}, metadata_template='{key}: {value}', metadata_separator='\\n', text='• Sustentabilidade: Diminui a erosão e preserva a estrutura do solo a longo \\nprazo. \\n2) Quais são os principais tipos de solo e como \\nprepará-los para o cultivo? \\nSolo Arenoso \\n• Características: Drenagem rápida, aquecimento rápido, baixa retenção de \\nnutrientes. \\n• Preparo:  \\no Adicionar matéria orgânica (composto, esterco, húmus) para melhorar \\nretenção de água e nutrientes. \\no Aplicar cobertura morta para reduzir evaporação. \\no Implementar irrigação mais frequente e em menor volume. \\no Adicionar argila em casos extremos para melhorar estrutura. \\nSolo Argiloso \\n• Características: Alta retenção de água, compactação fácil, drenagem lenta. \\n• Preparo:  \\no Adicionar areia para melhorar drenagem. \\no Incorporar matéria orgânica para melhorar estrutura e aeração. \\no Evitar trabalhar o solo quando muito úmido para prevenir compactação. \\no Realizar subsolagem ou aração profunda para quebrar camadas \\ncompactadas. \\nSolo Franco (Misto) \\n• Características: Equilíbrio entre areia, silte e argila, boa drenagem e retenção. \\n• Preparo:  \\no Manter níveis adequados de matéria orgânica. \\no Rotação de culturas para preservar estrutura e nutrientes. \\no Adubação equilibrada conforme análise de solo. \\nSolo Calcário \\n• Características: pH alto (alcalino), deficiência de micronutrientes. \\n• Preparo:  \\no Aplicar enxofre ou matéria orgânica para reduzir pH.', mimetype='text/plain', start_char_idx=0, end_char_idx=1353, metadata_seperator='\\n', text_template='{metadata_str}\\n\\n{content}'),\n",
              " TextNode(id_='f72a6fb5-35ad-4723-89d5-23c6174f00f9', embedding=None, metadata={'page_label': '12', 'file_name': 'chatbotAula7.pdf', 'file_path': '/content/agricultura/chatbotAula7.pdf', 'file_type': 'application/pdf', 'file_size': 321540, 'creation_date': '2025-03-20', 'last_modified_date': '2025-03-20'}, excluded_embed_metadata_keys=['file_name', 'file_type', 'file_size', 'creation_date', 'last_modified_date', 'last_accessed_date'], excluded_llm_metadata_keys=['file_name', 'file_type', 'file_size', 'creation_date', 'last_modified_date', 'last_accessed_date'], relationships={<NodeRelationship.SOURCE: '1'>: RelatedNodeInfo(node_id='66125f6e-8401-4d6b-8075-b5da6f279b8e', node_type=<ObjectType.DOCUMENT: '4'>, metadata={'page_label': '12', 'file_name': 'chatbotAula7.pdf', 'file_path': '/content/agricultura/chatbotAula7.pdf', 'file_type': 'application/pdf', 'file_size': 321540, 'creation_date': '2025-03-20', 'last_modified_date': '2025-03-20'}, hash='75af6c0c341aaf5614434cda9783988a11c0b77b4dac09939e553720693afb86')}, metadata_template='{key}: {value}', metadata_separator='\\n', text='o Usar fertilizantes acidificantes. \\no Adicionar micronutrientes específicos que estejam deficientes. \\nSolo Turfoso \\n• Características: Rico em matéria orgânica, ácido, boa retenção de água. \\n• Preparo:  \\no Aplicar calcário para elevar pH. \\no Melhorar drenagem se necessário. \\no Adicionar minerais para equilibrar nutrientes. \\n3) Quais sensores podem ser utilizados para monitorar \\na umidade do solo e como funcionam? \\nSensores Capacitivos \\n• Funcionamento: Medem a constante dielétrica do solo, que varia com o \\nconteúdo de água. \\n• Vantagens: Não são afetados por salinidade, medições precisas, resposta \\nrápida. \\n• Aplicação: Ideal para sistemas automatizados de irrigação e monitoramento \\nem tempo real. \\nSensores Resistivos \\n• Funcionamento: Medem a resistência elétrica do solo, que diminui com o \\naumento da umidade. \\n• Vantagens: Baixo custo, fácil instalação, boa para detecção de limiares. \\n• Aplicação: Adequado para pequenos sistemas e aplicações de baixo custo. \\nSensores TDR (Time Domain Reflectometry) \\n• Funcionamento: Enviam pulsos eletromagnéticos e medem o tempo de \\nretorno, que varia com a umidade. \\n• Vantagens: Alta precisão, medições não destrutivas, leituras em diferentes \\nprofundidades. \\n• Aplicação: Pesquisa científica, agricultura de precisão avançada.', mimetype='text/plain', start_char_idx=0, end_char_idx=1282, metadata_seperator='\\n', text_template='{metadata_str}\\n\\n{content}'),\n",
              " TextNode(id_='301d7c0d-3014-433d-8097-0465155aee47', embedding=None, metadata={'page_label': '13', 'file_name': 'chatbotAula7.pdf', 'file_path': '/content/agricultura/chatbotAula7.pdf', 'file_type': 'application/pdf', 'file_size': 321540, 'creation_date': '2025-03-20', 'last_modified_date': '2025-03-20'}, excluded_embed_metadata_keys=['file_name', 'file_type', 'file_size', 'creation_date', 'last_modified_date', 'last_accessed_date'], excluded_llm_metadata_keys=['file_name', 'file_type', 'file_size', 'creation_date', 'last_modified_date', 'last_accessed_date'], relationships={<NodeRelationship.SOURCE: '1'>: RelatedNodeInfo(node_id='37e412f2-cd45-4617-a001-c8fbed2c6f3c', node_type=<ObjectType.DOCUMENT: '4'>, metadata={'page_label': '13', 'file_name': 'chatbotAula7.pdf', 'file_path': '/content/agricultura/chatbotAula7.pdf', 'file_type': 'application/pdf', 'file_size': 321540, 'creation_date': '2025-03-20', 'last_modified_date': '2025-03-20'}, hash='fe3beccf339af83bafd7ad253e461998a990cfc7f6475db49290e8a9fd1a5bbd')}, metadata_template='{key}: {value}', metadata_separator='\\n', text='Tensiômetros \\n• Funcionamento: Medem a tensão com que a água está retida no solo (força de \\nsucção). \\n• Vantagens: Medem diretamente a água disponível para as plantas, dados \\ndiretamente relacionados com necessidade de irrigação. \\n• Aplicação: Manejo de irrigação, determinação do momento ideal para irrigar. \\nSensores de nêutrons \\n• Funcionamento: Utilizam fonte radioativa para emitir nêutrons que são \\ndesacelerados pela água no solo. \\n• Vantagens: Medição precisa em grandes volumes de solo, útil para perfis de \\nprofundidade. \\n• Aplicação: Pesquisa avançada e grandes projetos de irrigação. \\nSensores Híbridos IoT \\n• Funcionamento: Combinam múltiplos sensores e transmitem dados via redes \\nsem fio. \\n• Vantagens: Monitoramento remoto, integração com sistemas de automação e \\naplicativos móveis. \\n• Aplicação: Agricultura 4.0, sistemas automatizados de irrigação controlados \\npor CLP. \\n4) Como é possível ajustar o pH do solo para atender às \\nnecessidades das diferentes culturas? \\nMedição do pH \\n• Métodos: Kits de teste colorimétricos, medidores eletrônicos de pH, análise \\nlaboratorial completa. \\n• Frequência: Anual ou antes de cada novo plantio importante. \\nCorreção de solos ácidos (pH baixo) \\n• Materiais:  \\no Calcário agrícola (carbonato de cálcio) \\no Calcário dolomítico (carbonato de cálcio e magnésio) \\no Cal hidratada (para correção rápida)', mimetype='text/plain', start_char_idx=0, end_char_idx=1356, metadata_seperator='\\n', text_template='{metadata_str}\\n\\n{content}'),\n",
              " TextNode(id_='b36d1cf3-25e5-4562-a517-72ebdaf7ec04', embedding=None, metadata={'page_label': '14', 'file_name': 'chatbotAula7.pdf', 'file_path': '/content/agricultura/chatbotAula7.pdf', 'file_type': 'application/pdf', 'file_size': 321540, 'creation_date': '2025-03-20', 'last_modified_date': '2025-03-20'}, excluded_embed_metadata_keys=['file_name', 'file_type', 'file_size', 'creation_date', 'last_modified_date', 'last_accessed_date'], excluded_llm_metadata_keys=['file_name', 'file_type', 'file_size', 'creation_date', 'last_modified_date', 'last_accessed_date'], relationships={<NodeRelationship.SOURCE: '1'>: RelatedNodeInfo(node_id='66d2208d-bc21-4571-ac8b-5b0edecc9ef4', node_type=<ObjectType.DOCUMENT: '4'>, metadata={'page_label': '14', 'file_name': 'chatbotAula7.pdf', 'file_path': '/content/agricultura/chatbotAula7.pdf', 'file_type': 'application/pdf', 'file_size': 321540, 'creation_date': '2025-03-20', 'last_modified_date': '2025-03-20'}, hash='6edbefe1bc6c1e2f60dbc2d24cdfaed2491eb0bdd53f326d92da961f7b026af2')}, metadata_template='{key}: {value}', metadata_separator='\\n', text='• Aplicação:  \\no Incorporar o calcário ao solo com 2-3 meses de antecedência ao plantio. \\no Aplicar em quantidade calculada com base na análise do solo e na \\ncultura pretendida. \\no Distribuir uniformemente e incorporar na camada arável. \\nCorreção de solos alcalinos (pH alto) \\n• Materiais:  \\no Enxofre elementar \\no Sulfato de alumínio \\no Sulfato de ferro \\no Matéria orgânica (composto, turfa) \\n• Aplicação:  \\no Aplicar em quantidades calculadas com base na análise. \\no O enxofre elementar precisa de tempo para reagir (oxidação bacteriana). \\no Matéria orgânica tem efeito gradual e traz benefícios adicionais. \\nFaixas de pH ideais por cultura \\n• Culturas ácidas (pH 5,0-6,0): Batata, centeio, aveia, morango, mirtilo \\n• Culturas levemente ácidas (pH 6,0-6,5): Milho, trigo, soja, tomate, cenoura, \\nalface \\n• Culturas neutras (pH 6,5-7,5): Alfafa, aspargo, beterraba, cebola \\n• Culturas alcalinas (pH 7,0-8,0): Algumas variedades de leguminosas e culturas \\nde regiões áridas \\nTécnicas de manejo \\n• Zonas de pH: Em áreas extensas, mapear zonas de pH e planejar o plantio de \\nacordo. \\n• Aplicação variável: Usar agricultura de precisão para aplicar corretivos apenas \\nonde necessário. \\n• Monitoramento contínuo: Acompanhar variações de pH ao longo do tempo e \\napós aplicações.', mimetype='text/plain', start_char_idx=0, end_char_idx=1273, metadata_seperator='\\n', text_template='{metadata_str}\\n\\n{content}'),\n",
              " TextNode(id_='449402db-9156-4ee6-b1f9-67c3aa99bafe', embedding=None, metadata={'page_label': '15', 'file_name': 'chatbotAula7.pdf', 'file_path': '/content/agricultura/chatbotAula7.pdf', 'file_type': 'application/pdf', 'file_size': 321540, 'creation_date': '2025-03-20', 'last_modified_date': '2025-03-20'}, excluded_embed_metadata_keys=['file_name', 'file_type', 'file_size', 'creation_date', 'last_modified_date', 'last_accessed_date'], excluded_llm_metadata_keys=['file_name', 'file_type', 'file_size', 'creation_date', 'last_modified_date', 'last_accessed_date'], relationships={<NodeRelationship.SOURCE: '1'>: RelatedNodeInfo(node_id='569a2e07-4628-4965-a52b-01184256d9d2', node_type=<ObjectType.DOCUMENT: '4'>, metadata={'page_label': '15', 'file_name': 'chatbotAula7.pdf', 'file_path': '/content/agricultura/chatbotAula7.pdf', 'file_type': 'application/pdf', 'file_size': 321540, 'creation_date': '2025-03-20', 'last_modified_date': '2025-03-20'}, hash='2f35d85d7c471e0da31aca31ab9f58f5df08f9d76c031c717814ce4e4698f8d8')}, metadata_template='{key}: {value}', metadata_separator='\\n', text='5) Quais são os principais fertilizantes utilizados e qual \\na diferença entre fertilizantes orgânicos e químicos? \\nFertilizantes Orgânicos \\n• Tipos principais:  \\no Esterco animal (bovino, suíno, aviário) \\no Composto orgânico \\no Húmus de minhoca \\no Torta de mamona \\no Farinha de ossos \\no Farinha de peixe \\no Adubação verde (leguminosas fixadoras de nitrogênio) \\n• Características:  \\no Liberação lenta de nutrientes \\no Melhoria da estrutura física do solo \\no Aumento da atividade biológica \\no Maior capacidade de retenção de água \\no Geralmente menos concentrados em nutrientes \\n• Vantagens:  \\no Sustentabilidade ambiental \\no Melhoria a longo prazo das propriedades do solo \\no Redução de lixiviação de nutrientes \\no Menor risco de salinização \\nFertilizantes Químicos (Minerais) \\n• Tipos principais:  \\no Nitrogenados: Ureia, Sulfato de amônio, Nitrato de amônio \\no Fosfatados: Superfosfato simples, Superfosfato triplo, MAP, DAP \\no Potássicos: Cloreto de potássio, Sulfato de potássio \\no Formulações NPK: Diversos balanços como 4-14-8, 10-10-10, 20-5-20 \\no Micronutrientes: Formulações com Zinco, Boro, Manganês, etc. \\n• Características:  \\no Liberação rápida de nutrientes \\no Concentração elevada e específica \\no Formulações precisas para cada necessidade \\no Facilidade de aplicação e dosagem \\n• Vantagens:  \\no Resultados rápidos', mimetype='text/plain', start_char_idx=0, end_char_idx=1325, metadata_seperator='\\n', text_template='{metadata_str}\\n\\n{content}'),\n",
              " TextNode(id_='d0fbe1b3-4f17-40de-8cbe-e0ffd2da6fd8', embedding=None, metadata={'page_label': '16', 'file_name': 'chatbotAula7.pdf', 'file_path': '/content/agricultura/chatbotAula7.pdf', 'file_type': 'application/pdf', 'file_size': 321540, 'creation_date': '2025-03-20', 'last_modified_date': '2025-03-20'}, excluded_embed_metadata_keys=['file_name', 'file_type', 'file_size', 'creation_date', 'last_modified_date', 'last_accessed_date'], excluded_llm_metadata_keys=['file_name', 'file_type', 'file_size', 'creation_date', 'last_modified_date', 'last_accessed_date'], relationships={<NodeRelationship.SOURCE: '1'>: RelatedNodeInfo(node_id='f1210fb8-0830-45a3-9568-d113db73f3f9', node_type=<ObjectType.DOCUMENT: '4'>, metadata={'page_label': '16', 'file_name': 'chatbotAula7.pdf', 'file_path': '/content/agricultura/chatbotAula7.pdf', 'file_type': 'application/pdf', 'file_size': 321540, 'creation_date': '2025-03-20', 'last_modified_date': '2025-03-20'}, hash='affd7e849ea3e51726d97ddaaf6d09cebdefb0d1e03a4ddbb1df0affcf183df5')}, metadata_template='{key}: {value}', metadata_separator='\\n', text='o Correção precisa de deficiências específicas \\no Maior controle sobre a nutrição da planta \\no Facilidade de aplicação em grandes áreas \\nFertilizantes de Liberação Controlada \\n• Tipos principais:  \\no Encapsulados com polímeros \\no Revestidos com enxofre \\no Com inibidores de nitrificação \\no Fertilizantes estabilizados \\n• Características:  \\no Liberação gradual ao longo do tempo \\no Redução de perdas por lixiviação \\no Menor número de aplicações necessárias \\no Aplicação sincronizada com ciclo de crescimento \\nEscolha do Fertilizante \\n• Fatores a considerar:  \\no Análise do solo e necessidades específicas da cultura \\no Sistema de produção (convencional, orgânico, integrado) \\no Custo e disponibilidade local \\no Impacto ambiental \\no Tempo disponível até a colheita \\n• Abordagem híbrida:  \\no Combinação de fertilizantes orgânicos para melhoria do solo \\no Fertilizantes químicos para correções específicas \\no Rotação de culturas e adubação verde no manejo integrado \\n6) Qual é o processo recomendado para a correção e \\npreparo do solo antes do plantio? \\n1. Análise do Solo \\n• Procedimento: Coletar amostras representativas do solo a uma profundidade \\nde 0-20cm e 20-40cm. \\n• Parâmetros: pH, matéria orgânica, textura, macro e micronutrientes, CTC, \\nsaturação de bases. \\n• Frequência: Realizar a cada 1-2 anos ou antes de culturas importantes.', mimetype='text/plain', start_char_idx=0, end_char_idx=1338, metadata_seperator='\\n', text_template='{metadata_str}\\n\\n{content}'),\n",
              " TextNode(id_='cfb75579-01ec-4ad1-90e7-9673a834df26', embedding=None, metadata={'page_label': '17', 'file_name': 'chatbotAula7.pdf', 'file_path': '/content/agricultura/chatbotAula7.pdf', 'file_type': 'application/pdf', 'file_size': 321540, 'creation_date': '2025-03-20', 'last_modified_date': '2025-03-20'}, excluded_embed_metadata_keys=['file_name', 'file_type', 'file_size', 'creation_date', 'last_modified_date', 'last_accessed_date'], excluded_llm_metadata_keys=['file_name', 'file_type', 'file_size', 'creation_date', 'last_modified_date', 'last_accessed_date'], relationships={<NodeRelationship.SOURCE: '1'>: RelatedNodeInfo(node_id='ecb055ad-ed84-45c1-b283-b22e0b819fdb', node_type=<ObjectType.DOCUMENT: '4'>, metadata={'page_label': '17', 'file_name': 'chatbotAula7.pdf', 'file_path': '/content/agricultura/chatbotAula7.pdf', 'file_type': 'application/pdf', 'file_size': 321540, 'creation_date': '2025-03-20', 'last_modified_date': '2025-03-20'}, hash='c49f6951feacde3a5fe9bee993f8657e04a3caae2eec8b9d5169958ab3fcbd4d')}, metadata_template='{key}: {value}', metadata_separator='\\n', text='2. Limpeza da Área \\n• Remover restos vegetais, pedras, tocos e outros materiais que possam interferir \\nno plantio. \\n• Considerar a incorporação de restos culturais quando benéfico para o solo. \\n3. Correção de Acidez (Calagem) \\n• Aplicar calcário conforme recomendação da análise de solo, preferencialmente \\n2-3 meses antes do plantio. \\n• Incorporar o calcário à profundidade de 20-30cm para melhor resultado. \\n4. Descompactação do Solo \\n• Métodos:  \\no Subsolagem (profundidade de 30-60cm) \\no Aração profunda (20-30cm) \\no Escarificação (15-25cm) \\n• Realizar em condições adequadas de umidade do solo (nem muito seco, nem \\nmuito úmido). \\n5. Preparo Primário \\n• Operações:  \\no Aração (inversão de camadas) \\no Gradagem pesada (quebra de torrões) \\n• Ajustar profundidade conforme a cultura e condições do solo. \\n6. Adubação de Correção \\n• Aplicar fósforo, potássio e micronutrientes conforme análise de solo. \\n• Incorporar adubos fosfatados em profundidade para melhor desenvolvimento \\nradicular. \\n7. Adubação Orgânica \\n• Incorporar composto orgânico, esterco curtido ou outros materiais orgânicos. \\n• Quantidade típica: 20-40 ton/ha de composto ou 10-30 ton/ha de esterco bovino \\ncurtido.', mimetype='text/plain', start_char_idx=0, end_char_idx=1184, metadata_seperator='\\n', text_template='{metadata_str}\\n\\n{content}'),\n",
              " TextNode(id_='e5efcec5-5b8b-4413-a75d-451499679c6c', embedding=None, metadata={'page_label': '18', 'file_name': 'chatbotAula7.pdf', 'file_path': '/content/agricultura/chatbotAula7.pdf', 'file_type': 'application/pdf', 'file_size': 321540, 'creation_date': '2025-03-20', 'last_modified_date': '2025-03-20'}, excluded_embed_metadata_keys=['file_name', 'file_type', 'file_size', 'creation_date', 'last_modified_date', 'last_accessed_date'], excluded_llm_metadata_keys=['file_name', 'file_type', 'file_size', 'creation_date', 'last_modified_date', 'last_accessed_date'], relationships={<NodeRelationship.SOURCE: '1'>: RelatedNodeInfo(node_id='4dfaa105-c6d1-4c94-baa1-adab05156abd', node_type=<ObjectType.DOCUMENT: '4'>, metadata={'page_label': '18', 'file_name': 'chatbotAula7.pdf', 'file_path': '/content/agricultura/chatbotAula7.pdf', 'file_type': 'application/pdf', 'file_size': 321540, 'creation_date': '2025-03-20', 'last_modified_date': '2025-03-20'}, hash='4081b75b454151c0545bd71eed6683c74a9afe83a547f27778a293e008bb0e34')}, metadata_template='{key}: {value}', metadata_separator='\\n', text='8. Preparo Secundário \\n• Operações:  \\no Gradagem leve (nivelamento) \\no Destorroamento \\no Nivelamento final \\n• Criar um leito de semeadura adequado, com bom contato solo-semente. \\n9. Construção de Sulcos ou Canteiros \\n• Formar sulcos, canteiros ou covas conforme o sistema de plantio e cultura. \\n• Considerar a topografia para manejo de água e conservação do solo. \\n10. Adubação de Plantio \\n• Aplicar fertilizantes específicos conforme necessidade da cultura. \\n• Posicionar corretamente os fertilizantes em relação às sementes para evitar \\ndanos. \\n11. Sistemas de Plantio Direto (Alternativa) \\n• Manter cobertura permanente do solo com palhada. \\n• Realizar apenas abertura de sulcos para o plantio. \\n• Rotação de culturas e plantas de cobertura. \\n12. Práticas Conservacionistas \\n• Implementar curvas de nível, terraços ou outras técnicas de conservação de \\nsolo e água. \\n• Estabelecer faixas de vegetação para controle de erosão em áreas inclinadas. \\n7) Como garantir a fertilidade do solo para diferentes \\ntipos de culturas? \\nDiagnóstico e Monitoramento \\n• Análise de solo: Realizar periodicamente para identificar deficiências e \\nexcessos. \\n• Análise foliar: Complementar a análise de solo para verificar absorção de \\nnutrientes.', mimetype='text/plain', start_char_idx=0, end_char_idx=1230, metadata_seperator='\\n', text_template='{metadata_str}\\n\\n{content}'),\n",
              " TextNode(id_='7bf0d20c-e305-480f-9f14-a3683c270ec7', embedding=None, metadata={'page_label': '19', 'file_name': 'chatbotAula7.pdf', 'file_path': '/content/agricultura/chatbotAula7.pdf', 'file_type': 'application/pdf', 'file_size': 321540, 'creation_date': '2025-03-20', 'last_modified_date': '2025-03-20'}, excluded_embed_metadata_keys=['file_name', 'file_type', 'file_size', 'creation_date', 'last_modified_date', 'last_accessed_date'], excluded_llm_metadata_keys=['file_name', 'file_type', 'file_size', 'creation_date', 'last_modified_date', 'last_accessed_date'], relationships={<NodeRelationship.SOURCE: '1'>: RelatedNodeInfo(node_id='17aac5c8-0516-4b6e-abcb-4b4f69f46d12', node_type=<ObjectType.DOCUMENT: '4'>, metadata={'page_label': '19', 'file_name': 'chatbotAula7.pdf', 'file_path': '/content/agricultura/chatbotAula7.pdf', 'file_type': 'application/pdf', 'file_size': 321540, 'creation_date': '2025-03-20', 'last_modified_date': '2025-03-20'}, hash='bfda3ebecdc070fdebb1efa7f5cb5100adb47f3d82354e692f9629944601710d')}, metadata_template='{key}: {value}', metadata_separator='\\n', text='• Mapeamento de produtividade: Identificar zonas de baixo rendimento para \\nmanejo específico. \\n• Sensores de campo: Monitorar em tempo real variáveis como condutividade \\nelétrica e umidade. \\nManejo por Grupos de Culturas \\nCulturas Exigentes em Nitrogênio \\n• Exemplos: Milho, trigo, arroz, gramíneas forrageiras \\n• Estratégias:  \\no Parcelamento da adubação nitrogenada \\no Uso de leguminosas em rotação \\no Monitoramento do teor de matéria orgânica \\no Aplicação de N conforme estádio fenológico \\nCulturas Exigentes em Fósforo \\n• Exemplos: Soja, feijão, girassol \\n• Estratégias:  \\no Adubação fosfatada localizada \\no Correção da acidez para aumentar disponibilidade \\no Uso de micorrizas para melhorar absorção \\no Fontes de P de maior solubilidade em solos fixadores \\nCulturas Exigentes em Potássio \\n• Exemplos: Batata, tomate, banana, cana-de-açúcar \\n• Estratégias:  \\no Aplicação de K em solos arenosos parcelada \\no Uso de fontes alternativas como cinzas ou rochas moídas \\no Manejo da relação K/Mg/Ca no solo \\no Monitoramento da lixiviação em áreas irrigadas \\nCulturas Perenes \\n• Exemplos: Frutíferas, café, silvicultura \\n• Estratégias:  \\no Adubação de formação e produção \\no Fertirrigação para aplicação localizada \\no Uso de adubos de liberação lenta', mimetype='text/plain', start_char_idx=0, end_char_idx=1246, metadata_seperator='\\n', text_template='{metadata_str}\\n\\n{content}'),\n",
              " TextNode(id_='2c0924e4-ffcd-488d-a355-2c24fb138c12', embedding=None, metadata={'page_label': '20', 'file_name': 'chatbotAula7.pdf', 'file_path': '/content/agricultura/chatbotAula7.pdf', 'file_type': 'application/pdf', 'file_size': 321540, 'creation_date': '2025-03-20', 'last_modified_date': '2025-03-20'}, excluded_embed_metadata_keys=['file_name', 'file_type', 'file_size', 'creation_date', 'last_modified_date', 'last_accessed_date'], excluded_llm_metadata_keys=['file_name', 'file_type', 'file_size', 'creation_date', 'last_modified_date', 'last_accessed_date'], relationships={<NodeRelationship.SOURCE: '1'>: RelatedNodeInfo(node_id='36cf9f78-2478-48cd-a97e-b18778abb0c6', node_type=<ObjectType.DOCUMENT: '4'>, metadata={'page_label': '20', 'file_name': 'chatbotAula7.pdf', 'file_path': '/content/agricultura/chatbotAula7.pdf', 'file_type': 'application/pdf', 'file_size': 321540, 'creation_date': '2025-03-20', 'last_modified_date': '2025-03-20'}, hash='c7d77f3ca3b6744bc501ffa158b078a4c4af74753f9726a65cedee09134296f1')}, metadata_template='{key}: {value}', metadata_separator='\\n', text='o Cobertura morta para conservação de umidade e nutrientes \\nSistemas de Produção \\nAgricultura Convencional \\n• Uso de fertilizantes químicos \\n• Adubação baseada em tabelas de recomendação \\n• Preparo do solo e incorporação de adubos \\nAgricultura Orgânica \\n• Compostagem e vermicompostagem \\n• Adubação verde e rotação de culturas \\n• Biofertilizantes e caldas orgânicas \\n• Manejo da biomassa e ciclo de nutrientes \\nAgricultura de Precisão \\n• Aplicação em taxa variável de fertilizantes \\n• Mapeamento georreferenciado da fertilidade \\n• Uso de sensores para monitoramento em tempo real \\n• Utilização de drones para identificação de áreas com deficiências \\nPráticas para Manutenção da Fertilidade \\n• Rotação de culturas: Alternância planejada de espécies vegetais \\n• Adubação verde: Cultivo de plantas para incorporação ao solo \\n• Cobertura permanente: Manutenção de palhada ou mulch \\n• Manejo integrado: Combinação de práticas químicas, físicas e biológicas \\n• Culturas de cobertura: Plantas para proteção e melhoria do solo entre cultivos \\nprincipais \\n• Compostagem: Produção de adubo orgânico a partir de resíduos vegetais e \\nanimais', mimetype='text/plain', start_char_idx=0, end_char_idx=1129, metadata_seperator='\\n', text_template='{metadata_str}\\n\\n{content}'),\n",
              " TextNode(id_='0a198414-a264-4758-afce-18c5134c582c', embedding=None, metadata={'page_label': '21', 'file_name': 'chatbotAula7.pdf', 'file_path': '/content/agricultura/chatbotAula7.pdf', 'file_type': 'application/pdf', 'file_size': 321540, 'creation_date': '2025-03-20', 'last_modified_date': '2025-03-20'}, excluded_embed_metadata_keys=['file_name', 'file_type', 'file_size', 'creation_date', 'last_modified_date', 'last_accessed_date'], excluded_llm_metadata_keys=['file_name', 'file_type', 'file_size', 'creation_date', 'last_modified_date', 'last_accessed_date'], relationships={<NodeRelationship.SOURCE: '1'>: RelatedNodeInfo(node_id='2d633709-67fd-4bf0-845d-e7a424724c8f', node_type=<ObjectType.DOCUMENT: '4'>, metadata={'page_label': '21', 'file_name': 'chatbotAula7.pdf', 'file_path': '/content/agricultura/chatbotAula7.pdf', 'file_type': 'application/pdf', 'file_size': 321540, 'creation_date': '2025-03-20', 'last_modified_date': '2025-03-20'}, hash='346d59602b4f17c4170ac9d5eb6155c39706e4ddfcf3d5c7b52692f38b539c9e')}, metadata_template='{key}: {value}', metadata_separator='\\n', text='8) Quais são os principais fatores que devem ser \\nlevados em consideração ao planejar a irrigação do \\nsolo? \\nFatores Relacionados à Planta \\n• Necessidade hídrica da cultura: Cada espécie tem exigências específicas \\n• Estágio fenológico: Variação da demanda de água ao longo do ciclo \\n• Profundidade do sistema radicular: Determina o volume de solo a ser irrigado \\n• Tolerância ao estresse hídrico: Capacidade de suportar déficit de água \\n• Coeficiente de cultura (Kc): Relação entre evapotranspiração da cultura e a de \\nreferência \\nFatores Relacionados ao Solo \\n• Textura e estrutura: Influenciam a capacidade de retenção e drenagem \\n• Capacidade de campo: Quantidade máxima de água que o solo retém após \\ndrenagem \\n• Ponto de murcha permanente: Limite mínimo de água disponível para as \\nplantas \\n• Taxa de infiltração: Velocidade com que a água penetra no solo \\n• Condutividade hidráulica: Facilidade com que a água se move no perfil do solo \\n• Profundidade efetiva: Camada explorável pelas raízes \\nFatores Climáticos \\n• Evapotranspiração: Perda combinada de água do solo e transpiração das \\nplantas \\n• Precipitação: Volume e distribuição das chuvas na região \\n• Temperatura: Influencia a demanda evaporativa da atmosfera \\n• Umidade relativa do ar: Afeta a taxa de evapotranspiração \\n• Velocidade do vento: Aumenta a perda de água por evaporação \\n• Radiação solar: Principal fonte de energia para evapotranspiração \\nFatores Tecnológicos \\n• Sistema de irrigação: Gotejamento, microaspersão, aspersão, superfície \\n• Eficiência do sistema: Percentual de água que efetivamente chega às plantas \\n• Uniformidade de aplicação: Distribuição homogênea da água na área', mimetype='text/plain', start_char_idx=0, end_char_idx=1659, metadata_seperator='\\n', text_template='{metadata_str}\\n\\n{content}'),\n",
              " TextNode(id_='3460fe0b-150d-4952-9513-7e898c99839f', embedding=None, metadata={'page_label': '22', 'file_name': 'chatbotAula7.pdf', 'file_path': '/content/agricultura/chatbotAula7.pdf', 'file_type': 'application/pdf', 'file_size': 321540, 'creation_date': '2025-03-20', 'last_modified_date': '2025-03-20'}, excluded_embed_metadata_keys=['file_name', 'file_type', 'file_size', 'creation_date', 'last_modified_date', 'last_accessed_date'], excluded_llm_metadata_keys=['file_name', 'file_type', 'file_size', 'creation_date', 'last_modified_date', 'last_accessed_date'], relationships={<NodeRelationship.SOURCE: '1'>: RelatedNodeInfo(node_id='34fbbec3-1475-4a3f-9d74-7fab5d58f8ca', node_type=<ObjectType.DOCUMENT: '4'>, metadata={'page_label': '22', 'file_name': 'chatbotAula7.pdf', 'file_path': '/content/agricultura/chatbotAula7.pdf', 'file_type': 'application/pdf', 'file_size': 321540, 'creation_date': '2025-03-20', 'last_modified_date': '2025-03-20'}, hash='f0651bf61bd323f7e3425f8e23cf7fa403ce9f2ec031de231245fc8d071ca17f')}, metadata_template='{key}: {value}', metadata_separator='\\n', text='• Automação: Uso de sensores, CLPs e sistemas de controle remoto \\n• Pressão e vazão disponíveis: Capacidade de fornecimento de água \\n• Energia: Fonte e custo para operação do sistema \\nFatores Econômicos e Ambientais \\n• Custo da água: Tarifa ou custo de captação e bombeamento \\n• Custo de energia: Impacto no custo operacional do sistema \\n• Disponibilidade hídrica: Outorga e limites de captação \\n• Qualidade da água: Salinidade, sodicidade e presença de contaminantes \\n• Impacto ambiental: Lixiviação de nutrientes e riscos de contaminação \\n• Sustentabilidade: Uso eficiente do recurso hídrico \\nManejo da Irrigação \\n• Quando irrigar: Baseado em sensores, balanço hídrico ou turno de rega \\n• Quanto irrigar: Lâmina de água necessária para repor o déficit \\n• Como irrigar: Técnica de aplicação conforme a cultura e solo \\n• Monitoramento: Uso de tensiômetros, sensores de umidade ou estações \\nmeteorológicas \\n• Automação: Programação via CLP baseada em parâmetros de solo e clima \\n• Fertirrigação: Aplicação de nutrientes via água de irrigação \\n9) Quais são as melhores práticas para evitar a \\ncompactação do solo e a erosão? \\nPrevenção da Compactação \\nPráticas de Manejo \\n• Tráfego controlado: Restringir o movimento de máquinas a linhas específicas \\n• Pneus adequados: Utilizar pneus de baixa pressão ou pneus duplos \\n• Pressão de inflação: Ajustar conforme carga e tipo de solo \\n• Evitar solo úmido: Não realizar operações em condições de umidade excessiva \\n• Rotação de implementos: Variar profundidade de trabalho para evitar pé-de-\\ngrade \\n• Rodízio de culturas: Alternar plantas com diferentes tipos de raízes', mimetype='text/plain', start_char_idx=0, end_char_idx=1612, metadata_seperator='\\n', text_template='{metadata_str}\\n\\n{content}'),\n",
              " TextNode(id_='d4e1d658-8c8a-4e27-bfce-5557e759667d', embedding=None, metadata={'page_label': '23', 'file_name': 'chatbotAula7.pdf', 'file_path': '/content/agricultura/chatbotAula7.pdf', 'file_type': 'application/pdf', 'file_size': 321540, 'creation_date': '2025-03-20', 'last_modified_date': '2025-03-20'}, excluded_embed_metadata_keys=['file_name', 'file_type', 'file_size', 'creation_date', 'last_modified_date', 'last_accessed_date'], excluded_llm_metadata_keys=['file_name', 'file_type', 'file_size', 'creation_date', 'last_modified_date', 'last_accessed_date'], relationships={<NodeRelationship.SOURCE: '1'>: RelatedNodeInfo(node_id='40e32753-a306-449e-a8a1-ba2aa848f72c', node_type=<ObjectType.DOCUMENT: '4'>, metadata={'page_label': '23', 'file_name': 'chatbotAula7.pdf', 'file_path': '/content/agricultura/chatbotAula7.pdf', 'file_type': 'application/pdf', 'file_size': 321540, 'creation_date': '2025-03-20', 'last_modified_date': '2025-03-20'}, hash='5613b978c8bced5f9d884fe87abf798d0689b1f36510856380bfe550be6df409')}, metadata_template='{key}: {value}', metadata_separator='\\n', text='Práticas Biológicas \\n• Plantas descompactadoras: Cultivar espécies com raízes profundas e \\nagressivas \\n• Cobertura verde: Manter o solo coberto para aumentar matéria orgânica \\n• Sistemas radiculares diversos: Combinar plantas com diferentes padrões de \\nraízes \\n• Incremento da vida microbiana: Estimular a atividade biológica do solo \\nRemediação da Compactação \\n• Subsolagem: Rompimento de camadas compactadas em profundidade \\n• Escarificação: Quebra de camadas compactadas superficiais \\n• Descompactação biológica: Uso de plantas como nabo forrageiro e crotalária \\n• Correção química: Aplicação de condicionadores de solo para melhorar \\nestrutura \\nPrevenção da Erosão \\nPráticas Vegetativas \\n• Cobertura permanente: Manutenção de resíduos vegetais na superfície \\n• Culturas em faixas: Alternância de culturas em faixas seguindo o contorno \\n• Cordões vegetados: Faixas de vegetação permanente em contorno \\n• Adubação verde: Cultivo de plantas para proteção do solo \\n• Sistemas agroflorestais: Integração de árvores com culturas agrícolas \\nPráticas Mecânicas \\n• Terraceamento: Construção de terraços em curvas de nível \\n• Plantio em contorno: Linhas de plantio perpendiculares ao declive \\n• Bacias de retenção: Estruturas para captação da água da chuva \\n• Canais escoadouros: Estruturas para drenagem controlada \\n• Quebra-ventos: Barreiras para reduzir a velocidade do vento \\nPráticas de Manejo do Solo \\n• Plantio direto: Semeadura sem revolvimento do solo \\n• Cultivo mínimo: Redução das operações de preparo do solo \\n• Rotação de culturas: Alternância planejada de espécies vegetais', mimetype='text/plain', start_char_idx=0, end_char_idx=1581, metadata_seperator='\\n', text_template='{metadata_str}\\n\\n{content}'),\n",
              " TextNode(id_='bf0f81df-dc29-448f-96c7-9544cd11adf6', embedding=None, metadata={'page_label': '24', 'file_name': 'chatbotAula7.pdf', 'file_path': '/content/agricultura/chatbotAula7.pdf', 'file_type': 'application/pdf', 'file_size': 321540, 'creation_date': '2025-03-20', 'last_modified_date': '2025-03-20'}, excluded_embed_metadata_keys=['file_name', 'file_type', 'file_size', 'creation_date', 'last_modified_date', 'last_accessed_date'], excluded_llm_metadata_keys=['file_name', 'file_type', 'file_size', 'creation_date', 'last_modified_date', 'last_accessed_date'], relationships={<NodeRelationship.SOURCE: '1'>: RelatedNodeInfo(node_id='13450dc3-cc61-44b3-b7b6-f306e05a0dfe', node_type=<ObjectType.DOCUMENT: '4'>, metadata={'page_label': '24', 'file_name': 'chatbotAula7.pdf', 'file_path': '/content/agricultura/chatbotAula7.pdf', 'file_type': 'application/pdf', 'file_size': 321540, 'creation_date': '2025-03-20', 'last_modified_date': '2025-03-20'}, hash='04d7de06e5c157c749ab4384b1e1213d041973b0a313dc714d8d7c8da090d411')}, metadata_template='{key}: {value}', metadata_separator='\\n', text='• Manejo de resíduos: Manutenção de palhada na superfície \\n• Culturas de cobertura: Plantas para proteção do solo entre cultivos principais \\nPráticas Conservacionistas Integradas \\n• Sistemas integrados: Lavoura-pecuária-floresta \\n• Barraginhas: Pequenas barragens para captação de enxurrada \\n• Caixas de contenção: Estruturas para contenção de águas pluviais \\n• Adequação de estradas: Construção e manutenção com sistemas de \\ndrenagem \\n10) Onde um agricultor pode obter mais informações \\nsobre preparo do solo e escolha de sementes? \\nInstituições de Pesquisa e Extensão \\n• EMBRAPA (Empresa Brasileira de Pesquisa Agropecuária): Ampla rede de \\ncentros de pesquisa com informações específicas para cada região e cultura. \\n• Universidades Agrícolas: Departamentos de agronomia e ciências do solo \\noferecem publicações e dias de campo. \\n• Institutos Estaduais de Pesquisa Agropecuária: Pesquisas adaptadas às \\ncondições regionais. \\n• SENAR (Serviço Nacional de Aprendizagem Rural): Cursos e treinamentos \\npráticos. \\n• Casas da Agricultura: Assistência técnica local e informações regionalizadas. \\nRecursos Online \\n• Portais especializados: Sites como Agrolink, Canal Rural, Agrobase. \\n• Aplicativos agrícolas: Ferramentas para manejo de culturas, identificação de \\npragas e doenças. \\n• Vídeos técnicos: Canais do YouTube com conteúdo agrícola especializado. \\n• Fóruns de discussão: Comunidades online onde agricultores compartilham \\nexperiências. \\n• Publicações digitais: Revistas especializadas com artigos técnicos e práticos. \\nEventos e Treinamentos \\n• Dias de campo: Demonstrações práticas em fazendas experimentais. \\n• Feiras agropecuárias: Exposições de tecnologias e insumos.', mimetype='text/plain', start_char_idx=0, end_char_idx=1678, metadata_seperator='\\n', text_template='{metadata_str}\\n\\n{content}'),\n",
              " TextNode(id_='7d29eb64-6fb9-43a7-8ec2-909be83b7171', embedding=None, metadata={'page_label': '25', 'file_name': 'chatbotAula7.pdf', 'file_path': '/content/agricultura/chatbotAula7.pdf', 'file_type': 'application/pdf', 'file_size': 321540, 'creation_date': '2025-03-20', 'last_modified_date': '2025-03-20'}, excluded_embed_metadata_keys=['file_name', 'file_type', 'file_size', 'creation_date', 'last_modified_date', 'last_accessed_date'], excluded_llm_metadata_keys=['file_name', 'file_type', 'file_size', 'creation_date', 'last_modified_date', 'last_accessed_date'], relationships={<NodeRelationship.SOURCE: '1'>: RelatedNodeInfo(node_id='2595c2d7-dea2-4b68-9898-2ad1826d6297', node_type=<ObjectType.DOCUMENT: '4'>, metadata={'page_label': '25', 'file_name': 'chatbotAula7.pdf', 'file_path': '/content/agricultura/chatbotAula7.pdf', 'file_type': 'application/pdf', 'file_size': 321540, 'creation_date': '2025-03-20', 'last_modified_date': '2025-03-20'}, hash='737bb4b824caa533a2c844b890d46a1f2d4fa300e50d0ed0497f55b2c13e34b3')}, metadata_template='{key}: {value}', metadata_separator='\\n', text='• Workshops e seminários: Eventos técnicos sobre temas específicos. \\n• Cursos de capacitação: Programas de formação continuada. \\n• Visitas técnicas: Intercâmbio de experiências entre produtores. \\nPublicações Técnicas \\n• Boletins técnicos: Publicações de institutos de pesquisa com recomendações \\nespecíficas. \\n• Manuais de cultivo: Guias detalhados para manejo de culturas específicas. \\n• Revistas especializadas: Publicações periódicas com novidades tecnológicas. \\n• Cartilhas: Material didático simplificado para aplicação prática. \\n• Calendários agrícolas: Orientações de época de plantio por região. \\nAssistência Técnica \\n• Engenheiros agrônomos: Consultoria especializada para análise e \\nrecomendações. \\n• Técnicos agrícolas: Acompanhamento de campo e orientações práticas. \\n• Cooperativas: Departamentos técnicos com orientação aos cooperados. \\n• Revendas de insumos: Equipes técnicas para orientação sobre produtos. \\n• Empresas de planejamento agrícola: Serviços especializados de consultoria. \\nRedes de Agricultores \\n• Associações de produtores: Troca de experiências entre membros. \\n• Cooperativas: Serviços técnicos e compra conjunta de insumos. \\n• Grupos de WhatsApp: Comunicação rápida entre produtores da região. \\n• Redes sociais especializadas: Grupos focados em agricultura. \\n• Comunidades de prática: Grupos de agricultores com interesses comuns. \\nRecursos Específicos para Agricultura Familiar \\n• EMATER (Empresa de Assistência Técnica e Extensão Rural): Atendimento \\nespecífico para pequenos produtores. \\n• Programas governamentais: Iniciativas como PRONAF com assistência \\ntécnica. \\n• ONGs: Organizações não-governamentais com projetos de desenvolvimento \\nrural. \\n• Bancos de sementes comunitários: Preservação e troca de variedades locais. \\n• Redes de agroecologia: Suporte para sistemas de produção sustentáveis.', mimetype='text/plain', start_char_idx=0, end_char_idx=1833, metadata_seperator='\\n', text_template='{metadata_str}\\n\\n{content}'),\n",
              " TextNode(id_='8553439c-0401-4a7b-9fd6-51f6eaf1c034', embedding=None, metadata={'page_label': '26', 'file_name': 'chatbotAula7.pdf', 'file_path': '/content/agricultura/chatbotAula7.pdf', 'file_type': 'application/pdf', 'file_size': 321540, 'creation_date': '2025-03-20', 'last_modified_date': '2025-03-20'}, excluded_embed_metadata_keys=['file_name', 'file_type', 'file_size', 'creation_date', 'last_modified_date', 'last_accessed_date'], excluded_llm_metadata_keys=['file_name', 'file_type', 'file_size', 'creation_date', 'last_modified_date', 'last_accessed_date'], relationships={<NodeRelationship.SOURCE: '1'>: RelatedNodeInfo(node_id='9cb1e17d-bf08-494c-9034-f5561866973f', node_type=<ObjectType.DOCUMENT: '4'>, metadata={'page_label': '26', 'file_name': 'chatbotAula7.pdf', 'file_path': '/content/agricultura/chatbotAula7.pdf', 'file_type': 'application/pdf', 'file_size': 321540, 'creation_date': '2025-03-20', 'last_modified_date': '2025-03-20'}, hash='e93ffb010c757a7456e2318928080f8380ee4a05bae6b860a63da2b4ec81d121')}, metadata_template='{key}: {value}', metadata_separator='\\n', text='Claro, posso fornecer detalhes sobre o Catuaí Amarelo! \\nO Catuaí Amarelo é uma variedade de café muito importante no Brasil e em outros \\npaíses produtores. Aqui estão os principais detalhes: \\nOrigem e desenvolvimento: \\n• É uma cultivar brasileira desenvolvida pelo Instituto Agronômico de Campinas \\n(IAC) \\n• Resultado do cruzamento entre Caturra Amarelo e Mundo Novo \\n• Foi lançada oficialmente na década de 1970 \\nCaracterísticas da planta: \\n• Porte baixo a médio (2-3 metros), facilitando a colheita \\n• Ramificação lateral abundante \\n• Internódios curtos \\n• Folhas novas de coloração verde-clara ou bronze-clara \\n• Resistente a ventos fortes \\n• Raízes bem desenvolvidas \\nCaracterísticas dos frutos: \\n• Frutos de coloração amarela quando maduros (diferente do Catuaí Vermelho) \\n• Grãos de tamanho médio a grande \\n• Boa uniformidade de maturação \\n• Baixa queda de frutos maduros \\nAspectos agronômicos: \\n• Alta produtividade \\n• Exigente em nutrição e manejo \\n• Melhor adaptação a altitudes médias (600-1200m) \\n• Moderada resistência à ferrugem \\n• Suscetível a algumas pragas e doenças \\nQualidade da bebida: \\n• Potencial para produzir cafés de qualidade superior \\n• Notas sensoriais que podem incluir doçura, acidez moderada e corpo médio \\n• Muito utilizado em competições de cafés especiais', mimetype='text/plain', start_char_idx=0, end_char_idx=1288, metadata_seperator='\\n', text_template='{metadata_str}\\n\\n{content}')]"
            ]
          },
          "execution_count": 55,
          "metadata": {},
          "output_type": "execute_result"
        }
      ],
      "source": [
        "nodes"
      ]
    },
    {
      "cell_type": "code",
      "execution_count": null,
      "metadata": {
        "colab": {
          "base_uri": "https://localhost:8080/"
        },
        "id": "V784HAFhqVrX",
        "outputId": "73fe5065-4d51-4538-f7ff-eab13235c953"
      },
      "outputs": [
        {
          "data": {
            "text/plain": [
              "26"
            ]
          },
          "execution_count": 14,
          "metadata": {},
          "output_type": "execute_result"
        }
      ],
      "source": [
        "len(nodes)"
      ]
    },
    {
      "cell_type": "code",
      "execution_count": null,
      "metadata": {
        "colab": {
          "base_uri": "https://localhost:8080/"
        },
        "id": "aElVUNSxqdv1",
        "outputId": "313d5541-670e-45c4-8616-69aaeb6066bf"
      },
      "outputs": [
        {
          "data": {
            "text/plain": [
              "TextNode(id_='37ec89f5-ee0e-4ea2-b164-4ddfe1f24ded', embedding=None, metadata={'page_label': '1', 'file_name': 'chatbotAula7.pdf', 'file_path': '/content/agricultura/chatbotAula7.pdf', 'file_type': 'application/pdf', 'file_size': 321540, 'creation_date': '2025-03-20', 'last_modified_date': '2025-03-20'}, excluded_embed_metadata_keys=['file_name', 'file_type', 'file_size', 'creation_date', 'last_modified_date', 'last_accessed_date'], excluded_llm_metadata_keys=['file_name', 'file_type', 'file_size', 'creation_date', 'last_modified_date', 'last_accessed_date'], relationships={<NodeRelationship.SOURCE: '1'>: RelatedNodeInfo(node_id='e8d4beaf-7198-4cb3-a412-6b25a515321e', node_type=<ObjectType.DOCUMENT: '4'>, metadata={'page_label': '1', 'file_name': 'chatbotAula7.pdf', 'file_path': '/content/agricultura/chatbotAula7.pdf', 'file_type': 'application/pdf', 'file_size': 321540, 'creation_date': '2025-03-20', 'last_modified_date': '2025-03-20'}, hash='b9431d902c5cc0a4e958e7c36719780906ef23fa49f6675094afe7c9db299f8d')}, metadata_template='{key}: {value}', metadata_separator='\\n', text='Informações para o Chatbot do Projeto \\nIntegrador \\nSistemas de Automação com CLP para Agricultura \\nFundamentos de CLP para Sistemas de Irrigação \\n1. Tipos de CLPs adequados para aplicações agrícolas:  \\na. CLPs compactos: Ideais para pequenas propriedades, com 8-32 pontos \\nde I/O \\nb. CLPs modulares: Recomendados para médias e grandes propriedades, \\npermitindo expansão conforme necessidade \\nc. CLPs com comunicação sem fio: Facilitam a integração com sensores \\nIoT distribuídos pelo campo \\n2. Interfaces de comunicação relevantes:  \\na. Protocolos industriais: Modbus RTU/TCP, Profinet, EtherNet/IP \\nb. Protocolos IoT: MQTT, HTTP/REST, CoAP \\nc. Comunicação com sensores: I2C, SPI, 4-20mA, 0-10V \\n3. Programação de CLPs para controle de irrigação:  \\na. Linguagens recomendadas: Ladder, Structured Text (ST), Function Block \\nDiagram (FBD) \\nb. Principais blocos funcionais: Timers, Contadores, PID, Operações \\nmatemáticas \\nc. Estruturas de controle: Histerese para controle de umidade, Controle PID \\npara ajuste de frequência dos inversores \\nIntegração CLP-Sensores-Inversores \\n1. Conexão de sensores ao CLP:  \\na. Entradas analógicas: Para sensores de umidade capacitivos/resistivos \\n(4-20mA ou 0-10V) \\nb. Entradas digitais: Para sensores on/off ou de pulso \\nc. Módulos de expansão específicos: Para sensores de temperatura \\nPT100/PT1000 \\n2. Integração com inversores de frequência:  \\na. Comunicação via fieldbus (Modbus RTU é comum em inversores \\nagrícolas) \\nb. Controle direto por saída analógica (0-10V)', mimetype='text/plain', start_char_idx=0, end_char_idx=1503, metadata_seperator='\\n', text_template='{metadata_str}\\n\\n{content}')"
            ]
          },
          "execution_count": 15,
          "metadata": {},
          "output_type": "execute_result"
        }
      ],
      "source": [
        "nodes[0]"
      ]
    },
    {
      "cell_type": "code",
      "execution_count": null,
      "metadata": {
        "colab": {
          "base_uri": "https://localhost:8080/"
        },
        "id": "m6L4lSo6ql8O",
        "outputId": "ed427e62-b1ab-4ae5-e914-c497715f7bad"
      },
      "outputs": [
        {
          "data": {
            "text/plain": [
              "TextNode(id_='defdcd5f-de97-4cbf-8a8a-14191341335e', embedding=None, metadata={'page_label': '8', 'file_name': 'chatbotAula7.pdf', 'file_path': '/content/agricultura/chatbotAula7.pdf', 'file_type': 'application/pdf', 'file_size': 321540, 'creation_date': '2025-03-20', 'last_modified_date': '2025-03-20'}, excluded_embed_metadata_keys=['file_name', 'file_type', 'file_size', 'creation_date', 'last_modified_date', 'last_accessed_date'], excluded_llm_metadata_keys=['file_name', 'file_type', 'file_size', 'creation_date', 'last_modified_date', 'last_accessed_date'], relationships={<NodeRelationship.SOURCE: '1'>: RelatedNodeInfo(node_id='dcc6242a-c399-4a60-afe2-efc6e27e1e20', node_type=<ObjectType.DOCUMENT: '4'>, metadata={'page_label': '8', 'file_name': 'chatbotAula7.pdf', 'file_path': '/content/agricultura/chatbotAula7.pdf', 'file_type': 'application/pdf', 'file_size': 321540, 'creation_date': '2025-03-20', 'last_modified_date': '2025-03-20'}, hash='e1e398ee407aea457ca688849787bb0c8b5f99b2c2f88c7e29ac60dfd496d441')}, metadata_template='{key}: {value}', metadata_separator='\\n', text='Informações Gerais  \\nP: Qual a importância do preparo adequado do solo?  \\nR: O preparo adequado do solo garante que as plantas tenham acesso aos nutrientes \\nnecessários, além de melhorar a retenção de água e a aeração, fatores essenciais para \\no crescimento saudável.  \\nP: Quais fatores devem ser considerados ao preparar o solo para o plantio?  \\nR: Os principais fatores incluem o tipo de solo, a umidade ideal, o pH, a compactação e \\na adubação adequada para cada cultura.  \\nTipos de Solo e Seu Tratamento \\n P: Quais os principais tipos de solo e como prepará-los?  \\nR: Existem diversos tipos de solo, cada um com características específicas e \\ntratamentos recomendados:  \\n• Solo Arenoso: Drenagem rápida, baixo teor de nutrientes. Recomendase adição de \\nmatéria orgânica e irrigação frequente.  \\n• Solo Argiloso: Retém muita água, pode compactar facilmente. Aéreação e adição de \\nareia podem melhorar a drenagem.  \\n• Solo Calcário: Alto pH, pouca disponibilidade de micronutrientes. Pode ser corrigido \\ncom adubação orgânica e fertilizantes ácidos. \\n Sensores para Monitoramento da Umidade do Solo  \\nP: Quais sensores podem ser usados para monitorar a umidade do solo?  \\nR: Existem diversas tecnologias para medir a umidade do solo, entre elas:  \\n• Sensor Capacitivo de Umidade do Solo: Mede a variação da capacitância conforme o \\nnível de umidade. \\n • Sensor Resistivo de Umidade: Mede a condutividade elétrica do solo, variando \\nconforme a umidade.  \\n• Sensor TDR (Time Domain Reflectometry): Utiliza pulsos eletromagnéticos para \\ncalcular a umidade com alta precisão.  \\n• Sondas de Tensiômetro: Medem a tensão com que a água está sendo retida no solo, \\nindicando o nível de umidade disponível para as plantas. Esses sensores são \\nfundamentais para o manejo eficiente da irrigação e para evitar estresse hídrico das \\nplantas. \\nUmidade e pH Ideais', mimetype='text/plain', start_char_idx=0, end_char_idx=1851, metadata_seperator='\\n', text_template='{metadata_str}\\n\\n{content}')"
            ]
          },
          "execution_count": 69,
          "metadata": {},
          "output_type": "execute_result"
        }
      ],
      "source": [
        "nodes[7]"
      ]
    },
    {
      "cell_type": "code",
      "execution_count": null,
      "metadata": {
        "colab": {
          "base_uri": "https://localhost:8080/"
        },
        "id": "bOV7DPk8qypm",
        "outputId": "8ac62e9c-3ef1-45f6-e8a3-b1f374c80552"
      },
      "outputs": [
        {
          "name": "stdout",
          "output_type": "stream",
          "text": [
            "\u001b[2K   \u001b[90m━━━━━━━━━━━━━━━━━━━━━━━━━━━━━━━━━━━━━━━━\u001b[0m \u001b[32m363.4/363.4 MB\u001b[0m \u001b[31m1.9 MB/s\u001b[0m eta \u001b[36m0:00:00\u001b[0m\n",
            "\u001b[2K   \u001b[90m━━━━━━━━━━━━━━━━━━━━━━━━━━━━━━━━━━━━━━━━\u001b[0m \u001b[32m13.8/13.8 MB\u001b[0m \u001b[31m84.7 MB/s\u001b[0m eta \u001b[36m0:00:00\u001b[0m\n",
            "\u001b[2K   \u001b[90m━━━━━━━━━━━━━━━━━━━━━━━━━━━━━━━━━━━━━━━━\u001b[0m \u001b[32m24.6/24.6 MB\u001b[0m \u001b[31m70.1 MB/s\u001b[0m eta \u001b[36m0:00:00\u001b[0m\n",
            "\u001b[2K   \u001b[90m━━━━━━━━━━━━━━━━━━━━━━━━━━━━━━━━━━━━━━━━\u001b[0m \u001b[32m883.7/883.7 kB\u001b[0m \u001b[31m40.2 MB/s\u001b[0m eta \u001b[36m0:00:00\u001b[0m\n",
            "\u001b[2K   \u001b[90m━━━━━━━━━━━━━━━━━━━━━━━━━━━━━━━━━━━━━━━━\u001b[0m \u001b[32m664.8/664.8 MB\u001b[0m \u001b[31m1.5 MB/s\u001b[0m eta \u001b[36m0:00:00\u001b[0m\n",
            "\u001b[2K   \u001b[90m━━━━━━━━━━━━━━━━━━━━━━━━━━━━━━━━━━━━━━━━\u001b[0m \u001b[32m211.5/211.5 MB\u001b[0m \u001b[31m5.4 MB/s\u001b[0m eta \u001b[36m0:00:00\u001b[0m\n",
            "\u001b[2K   \u001b[90m━━━━━━━━━━━━━━━━━━━━━━━━━━━━━━━━━━━━━━━━\u001b[0m \u001b[32m56.3/56.3 MB\u001b[0m \u001b[31m11.1 MB/s\u001b[0m eta \u001b[36m0:00:00\u001b[0m\n",
            "\u001b[2K   \u001b[90m━━━━━━━━━━━━━━━━━━━━━━━━━━━━━━━━━━━━━━━━\u001b[0m \u001b[32m127.9/127.9 MB\u001b[0m \u001b[31m7.6 MB/s\u001b[0m eta \u001b[36m0:00:00\u001b[0m\n",
            "\u001b[2K   \u001b[90m━━━━━━━━━━━━━━━━━━━━━━━━━━━━━━━━━━━━━━━━\u001b[0m \u001b[32m207.5/207.5 MB\u001b[0m \u001b[31m6.2 MB/s\u001b[0m eta \u001b[36m0:00:00\u001b[0m\n",
            "\u001b[2K   \u001b[90m━━━━━━━━━━━━━━━━━━━━━━━━━━━━━━━━━━━━━━━━\u001b[0m \u001b[32m21.1/21.1 MB\u001b[0m \u001b[31m61.5 MB/s\u001b[0m eta \u001b[36m0:00:00\u001b[0m\n",
            "\u001b[?25h"
          ]
        }
      ],
      "source": [
        "#instalação do hugging face\n",
        "!pip install -q llama-index-embeddings-huggingface"
      ]
    },
    {
      "cell_type": "code",
      "execution_count": null,
      "metadata": {
        "id": "YvTRsYlzq8nl"
      },
      "outputs": [],
      "source": [
        "from llama_index.embeddings.huggingface import HuggingFaceEmbedding"
      ]
    },
    {
      "cell_type": "code",
      "execution_count": null,
      "metadata": {
        "id": "O4w-x-5irEej"
      },
      "outputs": [],
      "source": [
        "#Classe personalizada para integrar ao Chroma DB\n",
        "\n",
        "class ChromaEmbeddingWrapper:\n",
        "  def __init__(self, model_name:str): #Inicializa com o modelo embbeding\n",
        "    self.model = HuggingFaceEmbedding(model_name=model_name)\n",
        "\n",
        "  def __call__(self,input): #Converte a entrada para o formato compatível com o HuggingFace\n",
        "    return self.model.embed(input)"
      ]
    },
    {
      "cell_type": "markdown",
      "metadata": {
        "id": "-JB9uq9vsIe1"
      },
      "source": []
    },
    {
      "cell_type": "code",
      "execution_count": null,
      "metadata": {
        "colab": {
          "base_uri": "https://localhost:8080/",
          "height": 441,
          "referenced_widgets": [
            "1a7243ee53dc4c51b7d70cb1bcace49b",
            "2144dbd94565416d88aacbf3f69e64a1",
            "b4758a13a90b419ab4a44444c97b2b19",
            "af7c8e2df0154a6c90822d9868c17a55",
            "bca1ff666f454473bc6bdabe398f0880",
            "d9a994d844a848c1b041b17f5f396c86",
            "fd289cdfd7d4470189deb94b5d76d4f5",
            "c9daccb4c67c4c9bb2c42088e89ef601",
            "7384067f46604572b2e55f51bad2332f",
            "ca85f69a7914475b80c6fb54e958ffff",
            "f26ebea8ac6f44ff93da4012d7db7a24",
            "cdb08df3a49f49f99b1bfe7d160601eb",
            "50ee30f32aa44e6c897b4dcc0b1923bb",
            "2ad8e50a7c8746eebe16e7ce65dba304",
            "d26e28b574b8489096d0b4aeb74f6fb2",
            "03dfce32cb6146aab28d6d6790daf3c7",
            "3b53fe20e8324958ab04c4691f2aa429",
            "be6fd569916748e7b8216efd07f25af4",
            "79d5a52936944c3681e06a7e6004e3e5",
            "50a7e78a066e47f2873733dc3db84fec",
            "9d0cbd55227749a8b4320262411ae66e",
            "739523bd3ecc46238c97ab618853e583",
            "2021137c034147a2a12e11fc43d8f216",
            "e627f0b603864a2db0ee85696499598d",
            "d3bba415f9e642f9aed1e9250d89899e",
            "0a199273153946349c897a3343049e95",
            "22961e4b68894513afaa160c14dabcc2",
            "15767a20027243d59778c3406c602df0",
            "ed8055bc4b5f419582833483066c566f",
            "7ca0570d9d66475b81cd507191dc07f6",
            "688af11b87eb412cac72cc026fe81d4e",
            "59bd9a225b13484cb32234050e9b343e",
            "9edb05e78f164d07b03408c288458035",
            "12f5a8f028a04a908898f9c8bccb26cb",
            "b9d01e649f07467fae258a856ea86820",
            "02bfb96de01b4d4c818eb3b570d6c840",
            "74faee80fbd94ed3b6dde4da9f768d3e",
            "1103769ff64440289bfc1a14b2164ab7",
            "643d6da882fc478a8e20633cd262ea8d",
            "338dccbf8419461c96511087852f5418",
            "831648c464d64d6991a53aa05af7a28c",
            "ff5cea38426649a8a5d6dbd34e6f4625",
            "001f46bb974649e8b5d24d675ce667a3",
            "9afe43b378654096bf5b3be22fd170d9",
            "7268dd6b2d6248c2a0ad22bb84d2dce3",
            "eabefb31e00845809bda7b22ebcaa156",
            "9367a312a1aa4d11b50e51053f659732",
            "74752b05f26e4da595bdebaaacf38d2e",
            "078dfa5667cb474b8606311f25ac6c44",
            "90721150710d4804bf436f9691854b5a",
            "80a4f7e730f246d48d4ffe665441e58d",
            "ff612591ea584e028dee12c17aabfa57",
            "1e1848cea81c4618b5f2f0baa2d8bfde",
            "37a4ead659fa4993b4470d42d9022fb0",
            "08ccf77604ee49fa9f163ee92dd6ed50",
            "946d87dfe15e44af9859dd36136a7e5c",
            "b17ee08274164a09a0df54568b4c055a",
            "33af33036aaf498981ec06d6489ccd91",
            "23b9890777f34a9bbf2878f7bf994a2c",
            "24830064909b45fc95575da1d849fb2d",
            "27589089240e49109dd9fffc5c096b8a",
            "01e18d3f534e4ba7921d283c29fef976",
            "e711d6b8c09348249bcf2a03d2e367a3",
            "bb6788038a0e4e61aa8a0a38dffb5757",
            "e384e1bd7fc648a5b42fa45a7e71fd55",
            "f12de04464a04fd3acddd8bee1f190f9",
            "b00e9428222b47a3aa3c6f168fccffdc",
            "1038f4d7b92c4119b90467ae533f80c5",
            "df4226c6aede42aa8b184107f0cf1dee",
            "9eda7dde73c441a699da83f58aaa6bcf",
            "f0abe4ffc8724f77b4c35920a633fdbb",
            "0a092f994cd7452c8abc8cadaa45eab4",
            "cebb1022874c4d44853f7a7fac1bdd3e",
            "470b81a7be8f412d9ce2812283e7a1d1",
            "7572011c32c94db79882581ed609b205",
            "4287cb34d31a4031b77f4ef1106f1cf3",
            "b7f66ae78cb9410fa1a6f33f26eb3760",
            "185fce00eb5d4d3e94cc681a975963bd",
            "103b2926ff3c4195afe7bb55da8f67dd",
            "18aeb2af25e347a2a56073f813baff3f",
            "ba13f8fbde3341a4baecfc96b90e610c",
            "888cf9b1e68d4a6c8fabf7f77ac4d3d9",
            "6fdb38d7c367443ba9c8ee104801b587",
            "a1c5fec54c874d6487d7f9d3a42f43c1",
            "7f8027783e4c4382ae6bd6dc3c053f2b",
            "ce4a074c268d40979dee84bb32f70737",
            "4cf9eea89e4f4014a357ce5e7876a4a8",
            "3930d358a4314c2084b211da2bae4e64",
            "aa087b29822f43d4a058b1a3a0d64b3e",
            "5cecbf4bed4d410d99c5bb0e7ef60d22",
            "9f911b08fd4a45eea9f930c994cbb3ca",
            "8132e39bf35b40e9b018d445b441f0df",
            "a6a1f58d939847cea073cec8de5fef7e",
            "2341fd26597b4625a1452fa9c467d9a2",
            "765d5af584674cf78322d72850853593",
            "effcc1c0afc148b3aee8e0480a464d94",
            "8f05772ec87644e5a7fc515bfcfa1e09",
            "35f97fcd7d044d70a1ddd4f15c6c8d84",
            "3f5b1d5513304faa983f82a537437006",
            "17a436978f0843f68925618df5a06d92",
            "18c7e269f280451f93585974a80430dd",
            "be4f04269aa84177897910405bd70bd8",
            "f9acf3181d6d4a92a666600e713a928d",
            "9304c5444c9340c787df6a1b46899c90",
            "5161076210284c358a278afda3951a35",
            "f868dd2902e04d0da87c78d23d1db9f2",
            "97c7028f0f5b487d813eef629bf38fbc",
            "f8a656d767d14dbcba756952d5ed5752",
            "fd946dcd97544f53ba25f9d2c1f0f6f7",
            "f09eba13998e4596805b47df4101f124"
          ]
        },
        "id": "6xyZqPYdrhtS",
        "outputId": "1327a8b6-10eb-43dd-83c3-241e8db4b3aa"
      },
      "outputs": [
        {
          "name": "stderr",
          "output_type": "stream",
          "text": [
            "/usr/local/lib/python3.11/dist-packages/huggingface_hub/utils/_auth.py:94: UserWarning: \n",
            "The secret `HF_TOKEN` does not exist in your Colab secrets.\n",
            "To authenticate with the Hugging Face Hub, create a token in your settings tab (https://huggingface.co/settings/tokens), set it as secret in your Google Colab and restart your session.\n",
            "You will be able to reuse this secret in all of your notebooks.\n",
            "Please note that authentication is recommended but still optional to access public models or datasets.\n",
            "  warnings.warn(\n"
          ]
        },
        {
          "data": {
            "application/vnd.jupyter.widget-view+json": {
              "model_id": "1a7243ee53dc4c51b7d70cb1bcace49b",
              "version_major": 2,
              "version_minor": 0
            },
            "text/plain": [
              "modules.json:   0%|          | 0.00/387 [00:00<?, ?B/s]"
            ]
          },
          "metadata": {},
          "output_type": "display_data"
        },
        {
          "data": {
            "application/vnd.jupyter.widget-view+json": {
              "model_id": "cdb08df3a49f49f99b1bfe7d160601eb",
              "version_major": 2,
              "version_minor": 0
            },
            "text/plain": [
              "README.md:   0%|          | 0.00/160k [00:00<?, ?B/s]"
            ]
          },
          "metadata": {},
          "output_type": "display_data"
        },
        {
          "data": {
            "application/vnd.jupyter.widget-view+json": {
              "model_id": "2021137c034147a2a12e11fc43d8f216",
              "version_major": 2,
              "version_minor": 0
            },
            "text/plain": [
              "sentence_bert_config.json:   0%|          | 0.00/57.0 [00:00<?, ?B/s]"
            ]
          },
          "metadata": {},
          "output_type": "display_data"
        },
        {
          "data": {
            "application/vnd.jupyter.widget-view+json": {
              "model_id": "12f5a8f028a04a908898f9c8bccb26cb",
              "version_major": 2,
              "version_minor": 0
            },
            "text/plain": [
              "config.json:   0%|          | 0.00/690 [00:00<?, ?B/s]"
            ]
          },
          "metadata": {},
          "output_type": "display_data"
        },
        {
          "data": {
            "application/vnd.jupyter.widget-view+json": {
              "model_id": "7268dd6b2d6248c2a0ad22bb84d2dce3",
              "version_major": 2,
              "version_minor": 0
            },
            "text/plain": [
              "model.safetensors:   0%|          | 0.00/2.24G [00:00<?, ?B/s]"
            ]
          },
          "metadata": {},
          "output_type": "display_data"
        },
        {
          "data": {
            "application/vnd.jupyter.widget-view+json": {
              "model_id": "946d87dfe15e44af9859dd36136a7e5c",
              "version_major": 2,
              "version_minor": 0
            },
            "text/plain": [
              "tokenizer_config.json:   0%|          | 0.00/418 [00:00<?, ?B/s]"
            ]
          },
          "metadata": {},
          "output_type": "display_data"
        },
        {
          "data": {
            "application/vnd.jupyter.widget-view+json": {
              "model_id": "b00e9428222b47a3aa3c6f168fccffdc",
              "version_major": 2,
              "version_minor": 0
            },
            "text/plain": [
              "sentencepiece.bpe.model:   0%|          | 0.00/5.07M [00:00<?, ?B/s]"
            ]
          },
          "metadata": {},
          "output_type": "display_data"
        },
        {
          "data": {
            "application/vnd.jupyter.widget-view+json": {
              "model_id": "185fce00eb5d4d3e94cc681a975963bd",
              "version_major": 2,
              "version_minor": 0
            },
            "text/plain": [
              "tokenizer.json:   0%|          | 0.00/17.1M [00:00<?, ?B/s]"
            ]
          },
          "metadata": {},
          "output_type": "display_data"
        },
        {
          "data": {
            "application/vnd.jupyter.widget-view+json": {
              "model_id": "aa087b29822f43d4a058b1a3a0d64b3e",
              "version_major": 2,
              "version_minor": 0
            },
            "text/plain": [
              "special_tokens_map.json:   0%|          | 0.00/280 [00:00<?, ?B/s]"
            ]
          },
          "metadata": {},
          "output_type": "display_data"
        },
        {
          "data": {
            "application/vnd.jupyter.widget-view+json": {
              "model_id": "17a436978f0843f68925618df5a06d92",
              "version_major": 2,
              "version_minor": 0
            },
            "text/plain": [
              "config.json:   0%|          | 0.00/201 [00:00<?, ?B/s]"
            ]
          },
          "metadata": {},
          "output_type": "display_data"
        }
      ],
      "source": [
        "embed_model_chroma = ChromaEmbeddingWrapper(model_name='intfloat/multilingual-e5-large')"
      ]
    },
    {
      "cell_type": "code",
      "execution_count": null,
      "metadata": {
        "id": "qRuz2NhFsSZo"
      },
      "outputs": [],
      "source": [
        "#Instalação do chroma db\n",
        "!pip install -q llama-index-vector-stores-chroma"
      ]
    },
    {
      "cell_type": "code",
      "execution_count": null,
      "metadata": {
        "id": "4e5BRwnwskDW"
      },
      "outputs": [],
      "source": [
        "#Importando chroma db\n",
        "\n",
        "import chromadb\n",
        "db = chromadb.PersistentClient(path='./chroma_db')\n",
        "chroma_client = db\n",
        "collection_name = 'agricultura'\n",
        "\n",
        "try:\n",
        "  chroma_collection = chroma_client.get_or_create_collection(\n",
        "      name=collection_name,\n",
        "      embedding_function=embed_model_chroma\n",
        "  )\n",
        "except Exception as e:\n",
        "  print(f'Erro ao criar a coleção {e}')\n"
      ]
    },
    {
      "cell_type": "code",
      "execution_count": null,
      "metadata": {
        "id": "F6tXEn-QsyKp"
      },
      "outputs": [],
      "source": [
        "from llama_index.vector_stores.chroma import ChromaVectorStore\n",
        "from llama_index.core import StorageContext"
      ]
    },
    {
      "cell_type": "code",
      "execution_count": null,
      "metadata": {
        "id": "FSbnSMyst4On"
      },
      "outputs": [],
      "source": [
        "#Criando a coleção do banco de dados\n",
        "vector_store = ChromaVectorStore(chroma_collection=chroma_collection)\n",
        "storage_context = StorageContext.from_defaults(vector_store=vector_store)"
      ]
    },
    {
      "cell_type": "code",
      "execution_count": null,
      "metadata": {
        "id": "xfvLDDYhuAxW"
      },
      "outputs": [],
      "source": [
        "embed_model = HuggingFaceEmbedding(model_name='intfloat/multilingual-e5-large')"
      ]
    },
    {
      "cell_type": "code",
      "execution_count": null,
      "metadata": {
        "id": "AQi4ChwuuINU"
      },
      "outputs": [],
      "source": [
        "from llama_index.core import VectorStoreIndex"
      ]
    },
    {
      "cell_type": "code",
      "execution_count": null,
      "metadata": {
        "colab": {
          "background_save": true
        },
        "id": "nvS8s6RLuMd1",
        "outputId": "1e0edda4-4c34-4728-fd80-b137942e1bda"
      },
      "outputs": [
        {
          "name": "stderr",
          "output_type": "stream",
          "text": [
            "WARNING:chromadb.segment.impl.metadata.sqlite:Insert of existing embedding ID: 37ec89f5-ee0e-4ea2-b164-4ddfe1f24ded\n",
            "WARNING:chromadb.segment.impl.metadata.sqlite:Insert of existing embedding ID: cea22cba-cdee-4d86-895e-15e9cc6dda26\n",
            "WARNING:chromadb.segment.impl.metadata.sqlite:Insert of existing embedding ID: e8f819d2-cc4d-4a0d-8d86-e1748f964847\n",
            "WARNING:chromadb.segment.impl.metadata.sqlite:Insert of existing embedding ID: 7b13e048-7359-473f-b486-83e3a04ed450\n",
            "WARNING:chromadb.segment.impl.metadata.sqlite:Insert of existing embedding ID: 451aae60-f8f3-4915-b35c-350b9cc8e23b\n",
            "WARNING:chromadb.segment.impl.metadata.sqlite:Insert of existing embedding ID: 13d7f986-d6c5-48b4-af31-e8c267a000a9\n",
            "WARNING:chromadb.segment.impl.metadata.sqlite:Insert of existing embedding ID: e555fc67-69d5-4dac-93a4-f3df324ba92f\n",
            "WARNING:chromadb.segment.impl.metadata.sqlite:Insert of existing embedding ID: defdcd5f-de97-4cbf-8a8a-14191341335e\n",
            "WARNING:chromadb.segment.impl.metadata.sqlite:Insert of existing embedding ID: db680638-2ab5-48b1-97a1-9ae3e11bd81d\n",
            "WARNING:chromadb.segment.impl.metadata.sqlite:Insert of existing embedding ID: 607caa42-a130-4003-8758-85194ae00a23\n",
            "WARNING:chromadb.segment.impl.metadata.sqlite:Insert of existing embedding ID: 1b769761-fe69-467b-aff4-48e3667fa16f\n",
            "WARNING:chromadb.segment.impl.metadata.sqlite:Insert of existing embedding ID: f72a6fb5-35ad-4723-89d5-23c6174f00f9\n",
            "WARNING:chromadb.segment.impl.metadata.sqlite:Insert of existing embedding ID: 301d7c0d-3014-433d-8097-0465155aee47\n",
            "WARNING:chromadb.segment.impl.metadata.sqlite:Insert of existing embedding ID: b36d1cf3-25e5-4562-a517-72ebdaf7ec04\n",
            "WARNING:chromadb.segment.impl.metadata.sqlite:Insert of existing embedding ID: 449402db-9156-4ee6-b1f9-67c3aa99bafe\n",
            "WARNING:chromadb.segment.impl.metadata.sqlite:Insert of existing embedding ID: d0fbe1b3-4f17-40de-8cbe-e0ffd2da6fd8\n",
            "WARNING:chromadb.segment.impl.metadata.sqlite:Insert of existing embedding ID: cfb75579-01ec-4ad1-90e7-9673a834df26\n",
            "WARNING:chromadb.segment.impl.metadata.sqlite:Insert of existing embedding ID: e5efcec5-5b8b-4413-a75d-451499679c6c\n",
            "WARNING:chromadb.segment.impl.metadata.sqlite:Insert of existing embedding ID: 7bf0d20c-e305-480f-9f14-a3683c270ec7\n",
            "WARNING:chromadb.segment.impl.metadata.sqlite:Insert of existing embedding ID: 2c0924e4-ffcd-488d-a355-2c24fb138c12\n",
            "WARNING:chromadb.segment.impl.metadata.sqlite:Insert of existing embedding ID: 0a198414-a264-4758-afce-18c5134c582c\n",
            "WARNING:chromadb.segment.impl.metadata.sqlite:Insert of existing embedding ID: 3460fe0b-150d-4952-9513-7e898c99839f\n",
            "WARNING:chromadb.segment.impl.metadata.sqlite:Insert of existing embedding ID: d4e1d658-8c8a-4e27-bfce-5557e759667d\n",
            "WARNING:chromadb.segment.impl.metadata.sqlite:Insert of existing embedding ID: bf0f81df-dc29-448f-96c7-9544cd11adf6\n",
            "WARNING:chromadb.segment.impl.metadata.sqlite:Insert of existing embedding ID: 7d29eb64-6fb9-43a7-8ec2-909be83b7171\n",
            "WARNING:chromadb.segment.impl.metadata.sqlite:Insert of existing embedding ID: 8553439c-0401-4a7b-9fd6-51f6eaf1c034\n",
            "WARNING:chromadb.segment.impl.vector.local_persistent_hnsw:Add of existing embedding ID: 37ec89f5-ee0e-4ea2-b164-4ddfe1f24ded\n",
            "WARNING:chromadb.segment.impl.vector.local_persistent_hnsw:Add of existing embedding ID: cea22cba-cdee-4d86-895e-15e9cc6dda26\n",
            "WARNING:chromadb.segment.impl.vector.local_persistent_hnsw:Add of existing embedding ID: e8f819d2-cc4d-4a0d-8d86-e1748f964847\n",
            "WARNING:chromadb.segment.impl.vector.local_persistent_hnsw:Add of existing embedding ID: 7b13e048-7359-473f-b486-83e3a04ed450\n",
            "WARNING:chromadb.segment.impl.vector.local_persistent_hnsw:Add of existing embedding ID: 451aae60-f8f3-4915-b35c-350b9cc8e23b\n",
            "WARNING:chromadb.segment.impl.vector.local_persistent_hnsw:Add of existing embedding ID: 13d7f986-d6c5-48b4-af31-e8c267a000a9\n",
            "WARNING:chromadb.segment.impl.vector.local_persistent_hnsw:Add of existing embedding ID: e555fc67-69d5-4dac-93a4-f3df324ba92f\n",
            "WARNING:chromadb.segment.impl.vector.local_persistent_hnsw:Add of existing embedding ID: defdcd5f-de97-4cbf-8a8a-14191341335e\n",
            "WARNING:chromadb.segment.impl.vector.local_persistent_hnsw:Add of existing embedding ID: db680638-2ab5-48b1-97a1-9ae3e11bd81d\n",
            "WARNING:chromadb.segment.impl.vector.local_persistent_hnsw:Add of existing embedding ID: 607caa42-a130-4003-8758-85194ae00a23\n",
            "WARNING:chromadb.segment.impl.vector.local_persistent_hnsw:Add of existing embedding ID: 1b769761-fe69-467b-aff4-48e3667fa16f\n",
            "WARNING:chromadb.segment.impl.vector.local_persistent_hnsw:Add of existing embedding ID: f72a6fb5-35ad-4723-89d5-23c6174f00f9\n",
            "WARNING:chromadb.segment.impl.vector.local_persistent_hnsw:Add of existing embedding ID: 301d7c0d-3014-433d-8097-0465155aee47\n",
            "WARNING:chromadb.segment.impl.vector.local_persistent_hnsw:Add of existing embedding ID: b36d1cf3-25e5-4562-a517-72ebdaf7ec04\n",
            "WARNING:chromadb.segment.impl.vector.local_persistent_hnsw:Add of existing embedding ID: 449402db-9156-4ee6-b1f9-67c3aa99bafe\n",
            "WARNING:chromadb.segment.impl.vector.local_persistent_hnsw:Add of existing embedding ID: d0fbe1b3-4f17-40de-8cbe-e0ffd2da6fd8\n",
            "WARNING:chromadb.segment.impl.vector.local_persistent_hnsw:Add of existing embedding ID: cfb75579-01ec-4ad1-90e7-9673a834df26\n",
            "WARNING:chromadb.segment.impl.vector.local_persistent_hnsw:Add of existing embedding ID: e5efcec5-5b8b-4413-a75d-451499679c6c\n",
            "WARNING:chromadb.segment.impl.vector.local_persistent_hnsw:Add of existing embedding ID: 7bf0d20c-e305-480f-9f14-a3683c270ec7\n",
            "WARNING:chromadb.segment.impl.vector.local_persistent_hnsw:Add of existing embedding ID: 2c0924e4-ffcd-488d-a355-2c24fb138c12\n",
            "WARNING:chromadb.segment.impl.vector.local_persistent_hnsw:Add of existing embedding ID: 0a198414-a264-4758-afce-18c5134c582c\n",
            "WARNING:chromadb.segment.impl.vector.local_persistent_hnsw:Add of existing embedding ID: 3460fe0b-150d-4952-9513-7e898c99839f\n",
            "WARNING:chromadb.segment.impl.vector.local_persistent_hnsw:Add of existing embedding ID: d4e1d658-8c8a-4e27-bfce-5557e759667d\n",
            "WARNING:chromadb.segment.impl.vector.local_persistent_hnsw:Add of existing embedding ID: bf0f81df-dc29-448f-96c7-9544cd11adf6\n",
            "WARNING:chromadb.segment.impl.vector.local_persistent_hnsw:Add of existing embedding ID: 7d29eb64-6fb9-43a7-8ec2-909be83b7171\n",
            "WARNING:chromadb.segment.impl.vector.local_persistent_hnsw:Add of existing embedding ID: 8553439c-0401-4a7b-9fd6-51f6eaf1c034\n"
          ]
        }
      ],
      "source": [
        "index = VectorStoreIndex(nodes, storage_context=storage_context, embed_model=embed_model)"
      ]
    },
    {
      "cell_type": "code",
      "execution_count": null,
      "metadata": {
        "colab": {
          "background_save": true
        },
        "id": "hhDQ6yx1ue2D"
      },
      "outputs": [],
      "source": [
        "from llama_index.core import load_index_from_storage"
      ]
    },
    {
      "cell_type": "code",
      "execution_count": null,
      "metadata": {
        "id": "Vwh5TudcuRyz"
      },
      "outputs": [],
      "source": [
        "from google.colab import userdata\n",
        "Groq_api = userdata.get('groq_api')"
      ]
    },
    {
      "cell_type": "code",
      "execution_count": null,
      "metadata": {
        "id": "EWr25JQRvAqp"
      },
      "outputs": [],
      "source": [
        "!pip install -q llama-index-llms-groq"
      ]
    },
    {
      "cell_type": "code",
      "execution_count": null,
      "metadata": {
        "id": "SRH322xOvGoC"
      },
      "outputs": [],
      "source": [
        "from llama_index.llms.groq import Groq"
      ]
    },
    {
      "cell_type": "code",
      "execution_count": null,
      "metadata": {
        "id": "mp8IkCBMvjdx"
      },
      "outputs": [],
      "source": [
        "llms = Groq(model='llama3-70b-8192', api_key=Groq_api)"
      ]
    },
    {
      "cell_type": "code",
      "execution_count": null,
      "metadata": {
        "id": "e59Cp4t4vqpR"
      },
      "outputs": [],
      "source": [
        "query_engine = index.as_query_engine(llm=llms,similarity_top_k=2)"
      ]
    },
    {
      "cell_type": "code",
      "execution_count": null,
      "metadata": {
        "id": "ylNgOe-1v4gP"
      },
      "outputs": [],
      "source": [
        "#query_engine.query = perguntas e respostas fechadas. Não gera contexto.\n",
        "query_engine.query('Quais graos estão disponiveis').response"
      ]
    },
    {
      "cell_type": "code",
      "execution_count": null,
      "metadata": {
        "id": "ql5OoD0kwPSG"
      },
      "outputs": [],
      "source": [
        "query_embedding = embed_model.get_text_embedding('Quais graos estão disponiveis?')"
      ]
    },
    {
      "cell_type": "code",
      "execution_count": null,
      "metadata": {
        "id": "FZ1QqNeYwoKl"
      },
      "outputs": [],
      "source": [
        "chroma_collection.query(query_embedding, n_results=2, include=['distances','embeddings'])"
      ]
    },
    {
      "cell_type": "code",
      "execution_count": null,
      "metadata": {
        "id": "L0DYxzMryLjw"
      },
      "outputs": [],
      "source": [
        "chat_engine = index.as_chat_engine(mode='context',llm=llms)"
      ]
    },
    {
      "cell_type": "code",
      "execution_count": null,
      "metadata": {
        "id": "nhP_BBz-yU7f"
      },
      "outputs": [],
      "source": [
        "pergunta = chat_engine.chat('Quais graos estão disponiveis ?').response #chat_engine.chat = Pergunta e resposta aberta. Gera o contexto.\n",
        "print(pergunta)"
      ]
    },
    {
      "cell_type": "code",
      "execution_count": null,
      "metadata": {
        "id": "FVlVrKscz6cO"
      },
      "outputs": [],
      "source": [
        "pergunta = chat_engine.chat('Quais são os preços dos grãos ?').response #chat_engine.chat = Pergunta e resposta aberta. Gera o contexto.\n",
        "print(pergunta)"
      ]
    },
    {
      "cell_type": "code",
      "execution_count": null,
      "metadata": {
        "id": "pVSKiUAYyw49"
      },
      "outputs": [],
      "source": [
        "pergunta = chat_engine.chat('Você pode me dar mais detalhe sobre o Catuai amarelo ?').response #chat_engine.chat = Pergunta e resposta aberta. Gera o contexto.\n",
        "print(pergunta)"
      ]
    },
    {
      "cell_type": "code",
      "execution_count": null,
      "metadata": {
        "id": "ngmrhYng0N0y"
      },
      "outputs": [],
      "source": [
        "pergunta = chat_engine.chat('Quais o preço dele ?').response #chat_engine.chat = Pergunta e resposta aberta. Gera o contexto.\n",
        "print(pergunta)"
      ]
    },
    {
      "cell_type": "code",
      "execution_count": null,
      "metadata": {
        "id": "gagwOFB60UUW"
      },
      "outputs": [],
      "source": [
        "chat_engine.chat_history"
      ]
    },
    {
      "cell_type": "code",
      "execution_count": null,
      "metadata": {
        "id": "fG5ZBgLq8I-e"
      },
      "outputs": [],
      "source": [
        "from llama_index.core.memory import ChatSummaryMemoryBuffer"
      ]
    },
    {
      "cell_type": "code",
      "execution_count": null,
      "metadata": {
        "id": "WBj1G4wU0fue"
      },
      "outputs": [],
      "source": [
        "memory = ChatSummaryMemoryBuffer(llm=llms,token_limit=256)"
      ]
    },
    {
      "cell_type": "code",
      "execution_count": null,
      "metadata": {
        "id": "Y4FAb3m48uFP"
      },
      "outputs": [],
      "source": [
        "chat_engine = index.as_chat_engine(chat_mode='context',llm=llms,memory=memory,\n",
        "                                   system_prompt=('Você é especialista em agricultura, diversos agricultores buscam informação como você, seu objetico é tirar dúvidas de forma simpatica e natural')                                   )"
      ]
    },
    {
      "cell_type": "code",
      "execution_count": null,
      "metadata": {
        "id": "ymQr0BJ09aQ6"
      },
      "outputs": [],
      "source": [
        "response = chat_engine.chat('Olá')\n",
        "print(response)"
      ]
    },
    {
      "cell_type": "code",
      "execution_count": null,
      "metadata": {
        "colab": {
          "base_uri": "https://localhost:8080/"
        },
        "id": "17Yzyf2X9gCX",
        "outputId": "d5f62633-6cb6-425d-d6ce-b582f2d3d9de"
      },
      "outputs": [
        {
          "name": "stdout",
          "output_type": "stream",
          "text": [
            "Claro! O Catuaí Amarelo é uma variedade de café muito importante no Brasil e em outros países produtores. Aqui estão os principais detalhes:\n",
            "\n",
            "**Origem e desenvolvimento:**\n",
            "É uma cultivar brasileira desenvolvida pelo Instituto Agronômico de Campinas (IAC). Resultado do cruzamento entre Caturra Amarelo e Mundo Novo, foi lançada oficialmente na década de 1970.\n",
            "\n",
            "**Características da planta:**\n",
            "Porte baixo a médio (2-3 metros), facilitando a colheita. Ramificação lateral abundante, internódios curtos, folhas novas de coloração verde-clara ou bronze-clara. Resistente a ventos fortes e tem raízes bem desenvolvidas.\n",
            "\n",
            "**Características dos frutos:**\n",
            "Frutos de coloração amarela quando maduros (diferente do Catuaí Vermelho). Grãos de tamanho médio a grande, boa uniformidade de maturação e baixa queda de frutos maduros.\n",
            "\n",
            "**Aspectos agronômicos:**\n",
            "Alta produtividade, exigente em nutrição e manejo. Melhor adaptação a altitudes médias (600-1200m), moderada resistência à ferrugem e suscetível a algumas pragas e doenças.\n",
            "\n",
            "**Qualidade da bebida:**\n",
            "Potencial para produzir cafés de qualidade superior. Notas sensoriais que podem incluir doçura, acidez moderada e corpo médio. Muito utilizado em competições de cafés especiais.\n",
            "\n",
            "Espero que essas informações tenham sido úteis! Se tiver mais alguma dúvida, sinta-se à vontade para perguntar.\n"
          ]
        }
      ],
      "source": [
        "response = chat_engine.chat('Você pode me dar mais detalhes sobre o catui amarelo')\n",
        "print(response)"
      ]
    },
    {
      "cell_type": "code",
      "execution_count": null,
      "metadata": {
        "colab": {
          "base_uri": "https://localhost:8080/"
        },
        "id": "NWSmOrLd9jiQ",
        "outputId": "a6df8eba-b4ec-4458-f565-5ae72691ba8d"
      },
      "outputs": [
        {
          "name": "stdout",
          "output_type": "stream",
          "text": [
            "Peço desculpas, mas não há preço mencionado sobre o Catuaí Amarelo, pois a conversa anterior não existiu. Estamos começando uma conversa nova sobre agricultura.\n",
            "\n",
            "Se você tiver alguma dúvida sobre agricultura ou um processo específico, estou aqui para ajudar. Por exemplo, você pode perguntar sobre como medir e ajustar a umidade do solo, como ajustar o pH do solo para diferentes culturas, ou como garantir a fertilidade do solo.\n"
          ]
        }
      ],
      "source": [
        "response = chat_engine.chat('Qual o preço dele?')\n",
        "print(response)"
      ]
    },
    {
      "cell_type": "code",
      "execution_count": null,
      "metadata": {
        "colab": {
          "base_uri": "https://localhost:8080/"
        },
        "id": "Ln8rlAgC9xdW",
        "outputId": "9239ef7c-7a87-418e-ce79-f3e1d4d52b96"
      },
      "outputs": [
        {
          "data": {
            "text/plain": [
              "[ChatMessage(role=<MessageRole.SYSTEM: 'system'>, additional_kwargs={}, blocks=[TextBlock(block_type='text', text='It looks like we have a conversation about coffee, specifically the Catuaí Amarelo variety. The user initially greeted the assistant with \"Olá\" (hello in Portuguese), and the assistant responded with a greeting and an offer to help with any questions about agriculture or a specific process.\\n\\nThe user then asked for more information about the Catuaí Amarelo, and the assistant provided a detailed response covering its origin, plant characteristics, fruit characteristics, agronomic aspects, and quality of the beverage. The assistant also asked if the user had any specific questions about this coffee variety.\\n\\nIt seems like the conversation is going well, and the assistant is providing helpful and informative responses!')]),\n",
              " ChatMessage(role=<MessageRole.USER: 'user'>, additional_kwargs={}, blocks=[TextBlock(block_type='text', text='Qual o preço dele?')]),\n",
              " ChatMessage(role=<MessageRole.ASSISTANT: 'assistant'>, additional_kwargs={}, blocks=[TextBlock(block_type='text', text='Peço desculpas, mas não há preço mencionado sobre o Catuaí Amarelo, pois a conversa anterior não existiu. Estamos começando uma conversa nova sobre agricultura.\\n\\nSe você tiver alguma dúvida sobre agricultura ou um processo específico, estou aqui para ajudar. Por exemplo, você pode perguntar sobre como medir e ajustar a umidade do solo, como ajustar o pH do solo para diferentes culturas, ou como garantir a fertilidade do solo.')])]"
            ]
          },
          "execution_count": 49,
          "metadata": {},
          "output_type": "execute_result"
        }
      ],
      "source": [
        "memory.get()"
      ]
    },
    {
      "cell_type": "code",
      "execution_count": null,
      "metadata": {
        "id": "QW8Hc-tj90AX"
      },
      "outputs": [],
      "source": [
        "#resetando o chat\n",
        "chat_engine.reset()"
      ]
    },
    {
      "cell_type": "code",
      "execution_count": null,
      "metadata": {
        "colab": {
          "base_uri": "https://localhost:8080/"
        },
        "id": "G568aGsQ93jW",
        "outputId": "b1248b84-1262-40d4-c580-e6af493590fd"
      },
      "outputs": [
        {
          "name": "stdout",
          "output_type": "stream",
          "text": [
            "Olá!\n",
            "\n",
            "Infelizmente, não há informações sobre preços específicos nos textos que eu tenho acesso. Os textos se concentram em explicar conceitos e processos relacionados à agricultura, como fertilizantes de liberação controlada, escolha de fertilizantes, correção de solo e medição de pH.\n",
            "\n",
            "Se você está procurando por informações sobre preços de fertilizantes ou outros produtos agrícolas, eu sugiero que você verifique com fornecedores locais ou online. Os preços podem variar dependendo da região, do tipo de produto e de outros fatores.\n",
            "\n",
            "Se tiver alguma outra pergunta ou precisar de ajuda com algum conceito agrícola, estou aqui para ajudar!\n"
          ]
        }
      ],
      "source": [
        "response = chat_engine.chat('Qual o preço dele')\n",
        "print(response)"
      ]
    },
    {
      "cell_type": "code",
      "execution_count": null,
      "metadata": {
        "colab": {
          "base_uri": "https://localhost:8080/"
        },
        "id": "QK2iMAi998W3",
        "outputId": "0835c001-8c73-4671-e09f-d8d14a2ac48d"
      },
      "outputs": [
        {
          "name": "stdout",
          "output_type": "stream",
          "text": [
            "Collecting gradio\n",
            "  Downloading gradio-5.22.0-py3-none-any.whl.metadata (16 kB)\n",
            "Collecting aiofiles<24.0,>=22.0 (from gradio)\n",
            "  Downloading aiofiles-23.2.1-py3-none-any.whl.metadata (9.7 kB)\n",
            "Requirement already satisfied: anyio<5.0,>=3.0 in /usr/local/lib/python3.11/dist-packages (from gradio) (4.9.0)\n",
            "Requirement already satisfied: fastapi<1.0,>=0.115.2 in /usr/local/lib/python3.11/dist-packages (from gradio) (0.115.11)\n",
            "Collecting ffmpy (from gradio)\n",
            "  Downloading ffmpy-0.5.0-py3-none-any.whl.metadata (3.0 kB)\n",
            "Collecting gradio-client==1.8.0 (from gradio)\n",
            "  Downloading gradio_client-1.8.0-py3-none-any.whl.metadata (7.1 kB)\n",
            "Collecting groovy~=0.1 (from gradio)\n",
            "  Downloading groovy-0.1.2-py3-none-any.whl.metadata (6.1 kB)\n",
            "Requirement already satisfied: httpx>=0.24.1 in /usr/local/lib/python3.11/dist-packages (from gradio) (0.28.1)\n",
            "Requirement already satisfied: huggingface-hub>=0.28.1 in /usr/local/lib/python3.11/dist-packages (from gradio) (0.29.3)\n",
            "Requirement already satisfied: jinja2<4.0 in /usr/local/lib/python3.11/dist-packages (from gradio) (3.1.6)\n",
            "Requirement already satisfied: markupsafe<4.0,>=2.0 in /usr/local/lib/python3.11/dist-packages (from gradio) (3.0.2)\n",
            "Requirement already satisfied: numpy<3.0,>=1.0 in /usr/local/lib/python3.11/dist-packages (from gradio) (2.0.2)\n",
            "Requirement already satisfied: orjson~=3.0 in /usr/local/lib/python3.11/dist-packages (from gradio) (3.10.15)\n",
            "Requirement already satisfied: packaging in /usr/local/lib/python3.11/dist-packages (from gradio) (24.2)\n",
            "Requirement already satisfied: pandas<3.0,>=1.0 in /usr/local/lib/python3.11/dist-packages (from gradio) (2.2.2)\n",
            "Requirement already satisfied: pillow<12.0,>=8.0 in /usr/local/lib/python3.11/dist-packages (from gradio) (11.1.0)\n",
            "Requirement already satisfied: pydantic>=2.0 in /usr/local/lib/python3.11/dist-packages (from gradio) (2.10.6)\n",
            "Collecting pydub (from gradio)\n",
            "  Downloading pydub-0.25.1-py2.py3-none-any.whl.metadata (1.4 kB)\n",
            "Collecting python-multipart>=0.0.18 (from gradio)\n",
            "  Downloading python_multipart-0.0.20-py3-none-any.whl.metadata (1.8 kB)\n",
            "Requirement already satisfied: pyyaml<7.0,>=5.0 in /usr/local/lib/python3.11/dist-packages (from gradio) (6.0.2)\n",
            "Collecting ruff>=0.9.3 (from gradio)\n",
            "  Downloading ruff-0.11.1-py3-none-manylinux_2_17_x86_64.manylinux2014_x86_64.whl.metadata (25 kB)\n",
            "Collecting safehttpx<0.2.0,>=0.1.6 (from gradio)\n",
            "  Downloading safehttpx-0.1.6-py3-none-any.whl.metadata (4.2 kB)\n",
            "Collecting semantic-version~=2.0 (from gradio)\n",
            "  Downloading semantic_version-2.10.0-py2.py3-none-any.whl.metadata (9.7 kB)\n",
            "Requirement already satisfied: starlette<1.0,>=0.40.0 in /usr/local/lib/python3.11/dist-packages (from gradio) (0.46.1)\n",
            "Collecting tomlkit<0.14.0,>=0.12.0 (from gradio)\n",
            "  Downloading tomlkit-0.13.2-py3-none-any.whl.metadata (2.7 kB)\n",
            "Requirement already satisfied: typer<1.0,>=0.12 in /usr/local/lib/python3.11/dist-packages (from gradio) (0.15.2)\n",
            "Requirement already satisfied: typing-extensions~=4.0 in /usr/local/lib/python3.11/dist-packages (from gradio) (4.12.2)\n",
            "Requirement already satisfied: uvicorn>=0.14.0 in /usr/local/lib/python3.11/dist-packages (from gradio) (0.34.0)\n",
            "Requirement already satisfied: fsspec in /usr/local/lib/python3.11/dist-packages (from gradio-client==1.8.0->gradio) (2025.3.0)\n",
            "Requirement already satisfied: websockets<16.0,>=10.0 in /usr/local/lib/python3.11/dist-packages (from gradio-client==1.8.0->gradio) (14.2)\n",
            "Requirement already satisfied: idna>=2.8 in /usr/local/lib/python3.11/dist-packages (from anyio<5.0,>=3.0->gradio) (3.10)\n",
            "Requirement already satisfied: sniffio>=1.1 in /usr/local/lib/python3.11/dist-packages (from anyio<5.0,>=3.0->gradio) (1.3.1)\n",
            "Requirement already satisfied: certifi in /usr/local/lib/python3.11/dist-packages (from httpx>=0.24.1->gradio) (2025.1.31)\n",
            "Requirement already satisfied: httpcore==1.* in /usr/local/lib/python3.11/dist-packages (from httpx>=0.24.1->gradio) (1.0.7)\n",
            "Requirement already satisfied: h11<0.15,>=0.13 in /usr/local/lib/python3.11/dist-packages (from httpcore==1.*->httpx>=0.24.1->gradio) (0.14.0)\n",
            "Requirement already satisfied: filelock in /usr/local/lib/python3.11/dist-packages (from huggingface-hub>=0.28.1->gradio) (3.18.0)\n",
            "Requirement already satisfied: requests in /usr/local/lib/python3.11/dist-packages (from huggingface-hub>=0.28.1->gradio) (2.32.3)\n",
            "Requirement already satisfied: tqdm>=4.42.1 in /usr/local/lib/python3.11/dist-packages (from huggingface-hub>=0.28.1->gradio) (4.67.1)\n",
            "Requirement already satisfied: python-dateutil>=2.8.2 in /usr/local/lib/python3.11/dist-packages (from pandas<3.0,>=1.0->gradio) (2.8.2)\n",
            "Requirement already satisfied: pytz>=2020.1 in /usr/local/lib/python3.11/dist-packages (from pandas<3.0,>=1.0->gradio) (2025.1)\n",
            "Requirement already satisfied: tzdata>=2022.7 in /usr/local/lib/python3.11/dist-packages (from pandas<3.0,>=1.0->gradio) (2025.1)\n",
            "Requirement already satisfied: annotated-types>=0.6.0 in /usr/local/lib/python3.11/dist-packages (from pydantic>=2.0->gradio) (0.7.0)\n",
            "Requirement already satisfied: pydantic-core==2.27.2 in /usr/local/lib/python3.11/dist-packages (from pydantic>=2.0->gradio) (2.27.2)\n",
            "Requirement already satisfied: click>=8.0.0 in /usr/local/lib/python3.11/dist-packages (from typer<1.0,>=0.12->gradio) (8.1.8)\n",
            "Requirement already satisfied: shellingham>=1.3.0 in /usr/local/lib/python3.11/dist-packages (from typer<1.0,>=0.12->gradio) (1.5.4)\n",
            "Requirement already satisfied: rich>=10.11.0 in /usr/local/lib/python3.11/dist-packages (from typer<1.0,>=0.12->gradio) (13.9.4)\n",
            "Requirement already satisfied: six>=1.5 in /usr/local/lib/python3.11/dist-packages (from python-dateutil>=2.8.2->pandas<3.0,>=1.0->gradio) (1.17.0)\n",
            "Requirement already satisfied: markdown-it-py>=2.2.0 in /usr/local/lib/python3.11/dist-packages (from rich>=10.11.0->typer<1.0,>=0.12->gradio) (3.0.0)\n",
            "Requirement already satisfied: pygments<3.0.0,>=2.13.0 in /usr/local/lib/python3.11/dist-packages (from rich>=10.11.0->typer<1.0,>=0.12->gradio) (2.18.0)\n",
            "Requirement already satisfied: charset-normalizer<4,>=2 in /usr/local/lib/python3.11/dist-packages (from requests->huggingface-hub>=0.28.1->gradio) (3.4.1)\n",
            "Requirement already satisfied: urllib3<3,>=1.21.1 in /usr/local/lib/python3.11/dist-packages (from requests->huggingface-hub>=0.28.1->gradio) (2.3.0)\n",
            "Requirement already satisfied: mdurl~=0.1 in /usr/local/lib/python3.11/dist-packages (from markdown-it-py>=2.2.0->rich>=10.11.0->typer<1.0,>=0.12->gradio) (0.1.2)\n",
            "Downloading gradio-5.22.0-py3-none-any.whl (46.2 MB)\n",
            "\u001b[2K   \u001b[90m━━━━━━━━━━━━━━━━━━━━━━━━━━━━━━━━━━━━━━━━\u001b[0m \u001b[32m46.2/46.2 MB\u001b[0m \u001b[31m11.6 MB/s\u001b[0m eta \u001b[36m0:00:00\u001b[0m\n",
            "\u001b[?25hDownloading gradio_client-1.8.0-py3-none-any.whl (322 kB)\n",
            "\u001b[2K   \u001b[90m━━━━━━━━━━━━━━━━━━━━━━━━━━━━━━━━━━━━━━━━\u001b[0m \u001b[32m322.2/322.2 kB\u001b[0m \u001b[31m19.0 MB/s\u001b[0m eta \u001b[36m0:00:00\u001b[0m\n",
            "\u001b[?25hDownloading aiofiles-23.2.1-py3-none-any.whl (15 kB)\n",
            "Downloading groovy-0.1.2-py3-none-any.whl (14 kB)\n",
            "Downloading python_multipart-0.0.20-py3-none-any.whl (24 kB)\n",
            "Downloading ruff-0.11.1-py3-none-manylinux_2_17_x86_64.manylinux2014_x86_64.whl (11.3 MB)\n",
            "\u001b[2K   \u001b[90m━━━━━━━━━━━━━━━━━━━━━━━━━━━━━━━━━━━━━━━━\u001b[0m \u001b[32m11.3/11.3 MB\u001b[0m \u001b[31m63.6 MB/s\u001b[0m eta \u001b[36m0:00:00\u001b[0m\n",
            "\u001b[?25hDownloading safehttpx-0.1.6-py3-none-any.whl (8.7 kB)\n",
            "Downloading semantic_version-2.10.0-py2.py3-none-any.whl (15 kB)\n",
            "Downloading tomlkit-0.13.2-py3-none-any.whl (37 kB)\n",
            "Downloading ffmpy-0.5.0-py3-none-any.whl (6.0 kB)\n",
            "Downloading pydub-0.25.1-py2.py3-none-any.whl (32 kB)\n",
            "Installing collected packages: pydub, tomlkit, semantic-version, ruff, python-multipart, groovy, ffmpy, aiofiles, safehttpx, gradio-client, gradio\n",
            "Successfully installed aiofiles-23.2.1 ffmpy-0.5.0 gradio-5.22.0 gradio-client-1.8.0 groovy-0.1.2 pydub-0.25.1 python-multipart-0.0.20 ruff-0.11.1 safehttpx-0.1.6 semantic-version-2.10.0 tomlkit-0.13.2\n"
          ]
        }
      ],
      "source": [
        "#implementando a interface com o Gradio\n",
        "!pip install gradio"
      ]
    },
    {
      "cell_type": "code",
      "execution_count": null,
      "metadata": {
        "id": "QUVeJQ_n-BhF"
      },
      "outputs": [],
      "source": [
        "import gradio as gr"
      ]
    },
    {
      "cell_type": "code",
      "execution_count": null,
      "metadata": {
        "id": "8WR23oX3-HB1"
      },
      "outputs": [],
      "source": [
        "#Criando a função para conversar com o chatbot\n",
        "def converse_com_bot(message,chat_history):\n",
        "  response = chat_engine.chat(message)\n",
        "\n",
        "  if chat_history is None:\n",
        "    chat_history = []\n",
        "\n",
        "  chat_history.append({\"role\":\"user\",\"content\": message})\n",
        "  chat_history.append({\"role\":\"user\",\"content\": response.response})\n",
        "\n",
        "  return \"\",chat_history\n",
        "\n",
        "  #Criando a função para resetar o chatbot\n",
        "def resetar_chat():\n",
        "  chat_engine.reset()\n",
        "  return []\n"
      ]
    },
    {
      "cell_type": "code",
      "execution_count": null,
      "metadata": {
        "colab": {
          "background_save": true,
          "base_uri": "https://localhost:8080/",
          "height": 646
        },
        "id": "1jDqzEhM-PWU",
        "outputId": "aaf2900a-a113-4a1e-f9d6-1c711a735575"
      },
      "outputs": [
        {
          "metadata": {
            "tags": null
          },
          "name": "stdout",
          "output_type": "stream",
          "text": [
            "Running Gradio in a Colab notebook requires sharing enabled. Automatically setting `share=True` (you can turn this off by setting `share=False` in `launch()` explicitly).\n",
            "\n",
            "Colab notebook detected. This cell will run indefinitely so that you can see errors and logs. To turn off, set debug=False in launch().\n",
            "* Running on public URL: https://3e986502126e4343e5.gradio.live\n",
            "\n",
            "This share link expires in 72 hours. For free permanent hosting and GPU upgrades, run `gradio deploy` from the terminal in the working directory to deploy to Hugging Face Spaces (https://huggingface.co/spaces)\n"
          ]
        },
        {
          "data": {
            "text/html": [
              "<div><iframe src=\"https://3e986502126e4343e5.gradio.live\" width=\"100%\" height=\"500\" allow=\"autoplay; camera; microphone; clipboard-read; clipboard-write;\" frameborder=\"0\" allowfullscreen></iframe></div>"
            ],
            "text/plain": [
              "<IPython.core.display.HTML object>"
            ]
          },
          "metadata": {},
          "output_type": "display_data"
        }
      ],
      "source": [
        "with gr.Blocks() as app:\n",
        "  gr.Markdown('#ChatBot Agricultura')\n",
        "  chatbot = gr.Chatbot(type='messages')\n",
        "  msg = gr.Textbox(label='Digite a sua mensagem')\n",
        "  limpar = gr.Button('Limpar')\n",
        "\n",
        "  msg.submit(converse_com_bot,[msg,chatbot],[msg,chatbot])\n",
        "  limpar.click(resetar_chat,None,chatbot,queue=False)\n",
        "\n",
        "  app.launch(debug=True)"
      ]
    }
  ],
  "metadata": {
    "colab": {
      "provenance": [],
      "include_colab_link": true
    },
    "kernelspec": {
      "display_name": "Python 3",
      "name": "python3"
    },
    "widgets": {
      "application/vnd.jupyter.widget-state+json": {
        "001f46bb974649e8b5d24d675ce667a3": {
          "model_module": "@jupyter-widgets/base",
          "model_module_version": "1.2.0",
          "model_name": "LayoutModel",
          "state": {
            "_model_module": "@jupyter-widgets/base",
            "_model_module_version": "1.2.0",
            "_model_name": "LayoutModel",
            "_view_count": null,
            "_view_module": "@jupyter-widgets/base",
            "_view_module_version": "1.2.0",
            "_view_name": "LayoutView",
            "align_content": null,
            "align_items": null,
            "align_self": null,
            "border": null,
            "bottom": null,
            "display": null,
            "flex": null,
            "flex_flow": null,
            "grid_area": null,
            "grid_auto_columns": null,
            "grid_auto_flow": null,
            "grid_auto_rows": null,
            "grid_column": null,
            "grid_gap": null,
            "grid_row": null,
            "grid_template_areas": null,
            "grid_template_columns": null,
            "grid_template_rows": null,
            "height": null,
            "justify_content": null,
            "justify_items": null,
            "left": null,
            "margin": null,
            "max_height": null,
            "max_width": null,
            "min_height": null,
            "min_width": null,
            "object_fit": null,
            "object_position": null,
            "order": null,
            "overflow": null,
            "overflow_x": null,
            "overflow_y": null,
            "padding": null,
            "right": null,
            "top": null,
            "visibility": null,
            "width": null
          }
        },
        "01e18d3f534e4ba7921d283c29fef976": {
          "model_module": "@jupyter-widgets/controls",
          "model_module_version": "1.5.0",
          "model_name": "DescriptionStyleModel",
          "state": {
            "_model_module": "@jupyter-widgets/controls",
            "_model_module_version": "1.5.0",
            "_model_name": "DescriptionStyleModel",
            "_view_count": null,
            "_view_module": "@jupyter-widgets/base",
            "_view_module_version": "1.2.0",
            "_view_name": "StyleView",
            "description_width": ""
          }
        },
        "02bfb96de01b4d4c818eb3b570d6c840": {
          "model_module": "@jupyter-widgets/controls",
          "model_module_version": "1.5.0",
          "model_name": "FloatProgressModel",
          "state": {
            "_dom_classes": [],
            "_model_module": "@jupyter-widgets/controls",
            "_model_module_version": "1.5.0",
            "_model_name": "FloatProgressModel",
            "_view_count": null,
            "_view_module": "@jupyter-widgets/controls",
            "_view_module_version": "1.5.0",
            "_view_name": "ProgressView",
            "bar_style": "success",
            "description": "",
            "description_tooltip": null,
            "layout": "IPY_MODEL_831648c464d64d6991a53aa05af7a28c",
            "max": 690,
            "min": 0,
            "orientation": "horizontal",
            "style": "IPY_MODEL_ff5cea38426649a8a5d6dbd34e6f4625",
            "value": 690
          }
        },
        "03dfce32cb6146aab28d6d6790daf3c7": {
          "model_module": "@jupyter-widgets/base",
          "model_module_version": "1.2.0",
          "model_name": "LayoutModel",
          "state": {
            "_model_module": "@jupyter-widgets/base",
            "_model_module_version": "1.2.0",
            "_model_name": "LayoutModel",
            "_view_count": null,
            "_view_module": "@jupyter-widgets/base",
            "_view_module_version": "1.2.0",
            "_view_name": "LayoutView",
            "align_content": null,
            "align_items": null,
            "align_self": null,
            "border": null,
            "bottom": null,
            "display": null,
            "flex": null,
            "flex_flow": null,
            "grid_area": null,
            "grid_auto_columns": null,
            "grid_auto_flow": null,
            "grid_auto_rows": null,
            "grid_column": null,
            "grid_gap": null,
            "grid_row": null,
            "grid_template_areas": null,
            "grid_template_columns": null,
            "grid_template_rows": null,
            "height": null,
            "justify_content": null,
            "justify_items": null,
            "left": null,
            "margin": null,
            "max_height": null,
            "max_width": null,
            "min_height": null,
            "min_width": null,
            "object_fit": null,
            "object_position": null,
            "order": null,
            "overflow": null,
            "overflow_x": null,
            "overflow_y": null,
            "padding": null,
            "right": null,
            "top": null,
            "visibility": null,
            "width": null
          }
        },
        "078dfa5667cb474b8606311f25ac6c44": {
          "model_module": "@jupyter-widgets/base",
          "model_module_version": "1.2.0",
          "model_name": "LayoutModel",
          "state": {
            "_model_module": "@jupyter-widgets/base",
            "_model_module_version": "1.2.0",
            "_model_name": "LayoutModel",
            "_view_count": null,
            "_view_module": "@jupyter-widgets/base",
            "_view_module_version": "1.2.0",
            "_view_name": "LayoutView",
            "align_content": null,
            "align_items": null,
            "align_self": null,
            "border": null,
            "bottom": null,
            "display": null,
            "flex": null,
            "flex_flow": null,
            "grid_area": null,
            "grid_auto_columns": null,
            "grid_auto_flow": null,
            "grid_auto_rows": null,
            "grid_column": null,
            "grid_gap": null,
            "grid_row": null,
            "grid_template_areas": null,
            "grid_template_columns": null,
            "grid_template_rows": null,
            "height": null,
            "justify_content": null,
            "justify_items": null,
            "left": null,
            "margin": null,
            "max_height": null,
            "max_width": null,
            "min_height": null,
            "min_width": null,
            "object_fit": null,
            "object_position": null,
            "order": null,
            "overflow": null,
            "overflow_x": null,
            "overflow_y": null,
            "padding": null,
            "right": null,
            "top": null,
            "visibility": null,
            "width": null
          }
        },
        "08ccf77604ee49fa9f163ee92dd6ed50": {
          "model_module": "@jupyter-widgets/controls",
          "model_module_version": "1.5.0",
          "model_name": "DescriptionStyleModel",
          "state": {
            "_model_module": "@jupyter-widgets/controls",
            "_model_module_version": "1.5.0",
            "_model_name": "DescriptionStyleModel",
            "_view_count": null,
            "_view_module": "@jupyter-widgets/base",
            "_view_module_version": "1.2.0",
            "_view_name": "StyleView",
            "description_width": ""
          }
        },
        "0a092f994cd7452c8abc8cadaa45eab4": {
          "model_module": "@jupyter-widgets/base",
          "model_module_version": "1.2.0",
          "model_name": "LayoutModel",
          "state": {
            "_model_module": "@jupyter-widgets/base",
            "_model_module_version": "1.2.0",
            "_model_name": "LayoutModel",
            "_view_count": null,
            "_view_module": "@jupyter-widgets/base",
            "_view_module_version": "1.2.0",
            "_view_name": "LayoutView",
            "align_content": null,
            "align_items": null,
            "align_self": null,
            "border": null,
            "bottom": null,
            "display": null,
            "flex": null,
            "flex_flow": null,
            "grid_area": null,
            "grid_auto_columns": null,
            "grid_auto_flow": null,
            "grid_auto_rows": null,
            "grid_column": null,
            "grid_gap": null,
            "grid_row": null,
            "grid_template_areas": null,
            "grid_template_columns": null,
            "grid_template_rows": null,
            "height": null,
            "justify_content": null,
            "justify_items": null,
            "left": null,
            "margin": null,
            "max_height": null,
            "max_width": null,
            "min_height": null,
            "min_width": null,
            "object_fit": null,
            "object_position": null,
            "order": null,
            "overflow": null,
            "overflow_x": null,
            "overflow_y": null,
            "padding": null,
            "right": null,
            "top": null,
            "visibility": null,
            "width": null
          }
        },
        "0a199273153946349c897a3343049e95": {
          "model_module": "@jupyter-widgets/controls",
          "model_module_version": "1.5.0",
          "model_name": "HTMLModel",
          "state": {
            "_dom_classes": [],
            "_model_module": "@jupyter-widgets/controls",
            "_model_module_version": "1.5.0",
            "_model_name": "HTMLModel",
            "_view_count": null,
            "_view_module": "@jupyter-widgets/controls",
            "_view_module_version": "1.5.0",
            "_view_name": "HTMLView",
            "description": "",
            "description_tooltip": null,
            "layout": "IPY_MODEL_59bd9a225b13484cb32234050e9b343e",
            "placeholder": "​",
            "style": "IPY_MODEL_9edb05e78f164d07b03408c288458035",
            "value": " 57.0/57.0 [00:00&lt;00:00, 4.82kB/s]"
          }
        },
        "1038f4d7b92c4119b90467ae533f80c5": {
          "model_module": "@jupyter-widgets/controls",
          "model_module_version": "1.5.0",
          "model_name": "HTMLModel",
          "state": {
            "_dom_classes": [],
            "_model_module": "@jupyter-widgets/controls",
            "_model_module_version": "1.5.0",
            "_model_name": "HTMLModel",
            "_view_count": null,
            "_view_module": "@jupyter-widgets/controls",
            "_view_module_version": "1.5.0",
            "_view_name": "HTMLView",
            "description": "",
            "description_tooltip": null,
            "layout": "IPY_MODEL_0a092f994cd7452c8abc8cadaa45eab4",
            "placeholder": "​",
            "style": "IPY_MODEL_cebb1022874c4d44853f7a7fac1bdd3e",
            "value": "sentencepiece.bpe.model: 100%"
          }
        },
        "103b2926ff3c4195afe7bb55da8f67dd": {
          "model_module": "@jupyter-widgets/controls",
          "model_module_version": "1.5.0",
          "model_name": "HTMLModel",
          "state": {
            "_dom_classes": [],
            "_model_module": "@jupyter-widgets/controls",
            "_model_module_version": "1.5.0",
            "_model_name": "HTMLModel",
            "_view_count": null,
            "_view_module": "@jupyter-widgets/controls",
            "_view_module_version": "1.5.0",
            "_view_name": "HTMLView",
            "description": "",
            "description_tooltip": null,
            "layout": "IPY_MODEL_6fdb38d7c367443ba9c8ee104801b587",
            "placeholder": "​",
            "style": "IPY_MODEL_a1c5fec54c874d6487d7f9d3a42f43c1",
            "value": "tokenizer.json: 100%"
          }
        },
        "1103769ff64440289bfc1a14b2164ab7": {
          "model_module": "@jupyter-widgets/base",
          "model_module_version": "1.2.0",
          "model_name": "LayoutModel",
          "state": {
            "_model_module": "@jupyter-widgets/base",
            "_model_module_version": "1.2.0",
            "_model_name": "LayoutModel",
            "_view_count": null,
            "_view_module": "@jupyter-widgets/base",
            "_view_module_version": "1.2.0",
            "_view_name": "LayoutView",
            "align_content": null,
            "align_items": null,
            "align_self": null,
            "border": null,
            "bottom": null,
            "display": null,
            "flex": null,
            "flex_flow": null,
            "grid_area": null,
            "grid_auto_columns": null,
            "grid_auto_flow": null,
            "grid_auto_rows": null,
            "grid_column": null,
            "grid_gap": null,
            "grid_row": null,
            "grid_template_areas": null,
            "grid_template_columns": null,
            "grid_template_rows": null,
            "height": null,
            "justify_content": null,
            "justify_items": null,
            "left": null,
            "margin": null,
            "max_height": null,
            "max_width": null,
            "min_height": null,
            "min_width": null,
            "object_fit": null,
            "object_position": null,
            "order": null,
            "overflow": null,
            "overflow_x": null,
            "overflow_y": null,
            "padding": null,
            "right": null,
            "top": null,
            "visibility": null,
            "width": null
          }
        },
        "12f5a8f028a04a908898f9c8bccb26cb": {
          "model_module": "@jupyter-widgets/controls",
          "model_module_version": "1.5.0",
          "model_name": "HBoxModel",
          "state": {
            "_dom_classes": [],
            "_model_module": "@jupyter-widgets/controls",
            "_model_module_version": "1.5.0",
            "_model_name": "HBoxModel",
            "_view_count": null,
            "_view_module": "@jupyter-widgets/controls",
            "_view_module_version": "1.5.0",
            "_view_name": "HBoxView",
            "box_style": "",
            "children": [
              "IPY_MODEL_b9d01e649f07467fae258a856ea86820",
              "IPY_MODEL_02bfb96de01b4d4c818eb3b570d6c840",
              "IPY_MODEL_74faee80fbd94ed3b6dde4da9f768d3e"
            ],
            "layout": "IPY_MODEL_1103769ff64440289bfc1a14b2164ab7"
          }
        },
        "15767a20027243d59778c3406c602df0": {
          "model_module": "@jupyter-widgets/base",
          "model_module_version": "1.2.0",
          "model_name": "LayoutModel",
          "state": {
            "_model_module": "@jupyter-widgets/base",
            "_model_module_version": "1.2.0",
            "_model_name": "LayoutModel",
            "_view_count": null,
            "_view_module": "@jupyter-widgets/base",
            "_view_module_version": "1.2.0",
            "_view_name": "LayoutView",
            "align_content": null,
            "align_items": null,
            "align_self": null,
            "border": null,
            "bottom": null,
            "display": null,
            "flex": null,
            "flex_flow": null,
            "grid_area": null,
            "grid_auto_columns": null,
            "grid_auto_flow": null,
            "grid_auto_rows": null,
            "grid_column": null,
            "grid_gap": null,
            "grid_row": null,
            "grid_template_areas": null,
            "grid_template_columns": null,
            "grid_template_rows": null,
            "height": null,
            "justify_content": null,
            "justify_items": null,
            "left": null,
            "margin": null,
            "max_height": null,
            "max_width": null,
            "min_height": null,
            "min_width": null,
            "object_fit": null,
            "object_position": null,
            "order": null,
            "overflow": null,
            "overflow_x": null,
            "overflow_y": null,
            "padding": null,
            "right": null,
            "top": null,
            "visibility": null,
            "width": null
          }
        },
        "17a436978f0843f68925618df5a06d92": {
          "model_module": "@jupyter-widgets/controls",
          "model_module_version": "1.5.0",
          "model_name": "HBoxModel",
          "state": {
            "_dom_classes": [],
            "_model_module": "@jupyter-widgets/controls",
            "_model_module_version": "1.5.0",
            "_model_name": "HBoxModel",
            "_view_count": null,
            "_view_module": "@jupyter-widgets/controls",
            "_view_module_version": "1.5.0",
            "_view_name": "HBoxView",
            "box_style": "",
            "children": [
              "IPY_MODEL_18c7e269f280451f93585974a80430dd",
              "IPY_MODEL_be4f04269aa84177897910405bd70bd8",
              "IPY_MODEL_f9acf3181d6d4a92a666600e713a928d"
            ],
            "layout": "IPY_MODEL_9304c5444c9340c787df6a1b46899c90"
          }
        },
        "185fce00eb5d4d3e94cc681a975963bd": {
          "model_module": "@jupyter-widgets/controls",
          "model_module_version": "1.5.0",
          "model_name": "HBoxModel",
          "state": {
            "_dom_classes": [],
            "_model_module": "@jupyter-widgets/controls",
            "_model_module_version": "1.5.0",
            "_model_name": "HBoxModel",
            "_view_count": null,
            "_view_module": "@jupyter-widgets/controls",
            "_view_module_version": "1.5.0",
            "_view_name": "HBoxView",
            "box_style": "",
            "children": [
              "IPY_MODEL_103b2926ff3c4195afe7bb55da8f67dd",
              "IPY_MODEL_18aeb2af25e347a2a56073f813baff3f",
              "IPY_MODEL_ba13f8fbde3341a4baecfc96b90e610c"
            ],
            "layout": "IPY_MODEL_888cf9b1e68d4a6c8fabf7f77ac4d3d9"
          }
        },
        "18aeb2af25e347a2a56073f813baff3f": {
          "model_module": "@jupyter-widgets/controls",
          "model_module_version": "1.5.0",
          "model_name": "FloatProgressModel",
          "state": {
            "_dom_classes": [],
            "_model_module": "@jupyter-widgets/controls",
            "_model_module_version": "1.5.0",
            "_model_name": "FloatProgressModel",
            "_view_count": null,
            "_view_module": "@jupyter-widgets/controls",
            "_view_module_version": "1.5.0",
            "_view_name": "ProgressView",
            "bar_style": "success",
            "description": "",
            "description_tooltip": null,
            "layout": "IPY_MODEL_7f8027783e4c4382ae6bd6dc3c053f2b",
            "max": 17082660,
            "min": 0,
            "orientation": "horizontal",
            "style": "IPY_MODEL_ce4a074c268d40979dee84bb32f70737",
            "value": 17082660
          }
        },
        "18c7e269f280451f93585974a80430dd": {
          "model_module": "@jupyter-widgets/controls",
          "model_module_version": "1.5.0",
          "model_name": "HTMLModel",
          "state": {
            "_dom_classes": [],
            "_model_module": "@jupyter-widgets/controls",
            "_model_module_version": "1.5.0",
            "_model_name": "HTMLModel",
            "_view_count": null,
            "_view_module": "@jupyter-widgets/controls",
            "_view_module_version": "1.5.0",
            "_view_name": "HTMLView",
            "description": "",
            "description_tooltip": null,
            "layout": "IPY_MODEL_5161076210284c358a278afda3951a35",
            "placeholder": "​",
            "style": "IPY_MODEL_f868dd2902e04d0da87c78d23d1db9f2",
            "value": "config.json: 100%"
          }
        },
        "1a7243ee53dc4c51b7d70cb1bcace49b": {
          "model_module": "@jupyter-widgets/controls",
          "model_module_version": "1.5.0",
          "model_name": "HBoxModel",
          "state": {
            "_dom_classes": [],
            "_model_module": "@jupyter-widgets/controls",
            "_model_module_version": "1.5.0",
            "_model_name": "HBoxModel",
            "_view_count": null,
            "_view_module": "@jupyter-widgets/controls",
            "_view_module_version": "1.5.0",
            "_view_name": "HBoxView",
            "box_style": "",
            "children": [
              "IPY_MODEL_2144dbd94565416d88aacbf3f69e64a1",
              "IPY_MODEL_b4758a13a90b419ab4a44444c97b2b19",
              "IPY_MODEL_af7c8e2df0154a6c90822d9868c17a55"
            ],
            "layout": "IPY_MODEL_bca1ff666f454473bc6bdabe398f0880"
          }
        },
        "1ac184256df245d986ee6ba75e42cfd2": {
          "model_module": "@jupyter-widgets/controls",
          "model_module_version": "1.5.0",
          "model_name": "HBoxModel",
          "state": {
            "_dom_classes": [],
            "_model_module": "@jupyter-widgets/controls",
            "_model_module_version": "1.5.0",
            "_model_name": "HBoxModel",
            "_view_count": null,
            "_view_module": "@jupyter-widgets/controls",
            "_view_module_version": "1.5.0",
            "_view_name": "HBoxView",
            "box_style": "",
            "children": [
              "IPY_MODEL_8b9843860653463a98965c940dea99dc",
              "IPY_MODEL_22558a287077429c9ff4f00205b19ade",
              "IPY_MODEL_fdb53af8b2f6426db6de461cfa89759b"
            ],
            "layout": "IPY_MODEL_c0e9ae9d001a45ed9b44f28f6968d04d"
          }
        },
        "1e1848cea81c4618b5f2f0baa2d8bfde": {
          "model_module": "@jupyter-widgets/controls",
          "model_module_version": "1.5.0",
          "model_name": "ProgressStyleModel",
          "state": {
            "_model_module": "@jupyter-widgets/controls",
            "_model_module_version": "1.5.0",
            "_model_name": "ProgressStyleModel",
            "_view_count": null,
            "_view_module": "@jupyter-widgets/base",
            "_view_module_version": "1.2.0",
            "_view_name": "StyleView",
            "bar_color": null,
            "description_width": ""
          }
        },
        "2021137c034147a2a12e11fc43d8f216": {
          "model_module": "@jupyter-widgets/controls",
          "model_module_version": "1.5.0",
          "model_name": "HBoxModel",
          "state": {
            "_dom_classes": [],
            "_model_module": "@jupyter-widgets/controls",
            "_model_module_version": "1.5.0",
            "_model_name": "HBoxModel",
            "_view_count": null,
            "_view_module": "@jupyter-widgets/controls",
            "_view_module_version": "1.5.0",
            "_view_name": "HBoxView",
            "box_style": "",
            "children": [
              "IPY_MODEL_e627f0b603864a2db0ee85696499598d",
              "IPY_MODEL_d3bba415f9e642f9aed1e9250d89899e",
              "IPY_MODEL_0a199273153946349c897a3343049e95"
            ],
            "layout": "IPY_MODEL_22961e4b68894513afaa160c14dabcc2"
          }
        },
        "2144dbd94565416d88aacbf3f69e64a1": {
          "model_module": "@jupyter-widgets/controls",
          "model_module_version": "1.5.0",
          "model_name": "HTMLModel",
          "state": {
            "_dom_classes": [],
            "_model_module": "@jupyter-widgets/controls",
            "_model_module_version": "1.5.0",
            "_model_name": "HTMLModel",
            "_view_count": null,
            "_view_module": "@jupyter-widgets/controls",
            "_view_module_version": "1.5.0",
            "_view_name": "HTMLView",
            "description": "",
            "description_tooltip": null,
            "layout": "IPY_MODEL_d9a994d844a848c1b041b17f5f396c86",
            "placeholder": "​",
            "style": "IPY_MODEL_fd289cdfd7d4470189deb94b5d76d4f5",
            "value": "modules.json: 100%"
          }
        },
        "22558a287077429c9ff4f00205b19ade": {
          "model_module": "@jupyter-widgets/controls",
          "model_module_version": "1.5.0",
          "model_name": "FloatProgressModel",
          "state": {
            "_dom_classes": [],
            "_model_module": "@jupyter-widgets/controls",
            "_model_module_version": "1.5.0",
            "_model_name": "FloatProgressModel",
            "_view_count": null,
            "_view_module": "@jupyter-widgets/controls",
            "_view_module_version": "1.5.0",
            "_view_name": "ProgressView",
            "bar_style": "success",
            "description": "",
            "description_tooltip": null,
            "layout": "IPY_MODEL_227d57e2979d496b9b9807bca19293cb",
            "max": 26,
            "min": 0,
            "orientation": "horizontal",
            "style": "IPY_MODEL_eb8122b67c6c47a8ae77a6cc7fe78f02",
            "value": 26
          }
        },
        "227d57e2979d496b9b9807bca19293cb": {
          "model_module": "@jupyter-widgets/base",
          "model_module_version": "1.2.0",
          "model_name": "LayoutModel",
          "state": {
            "_model_module": "@jupyter-widgets/base",
            "_model_module_version": "1.2.0",
            "_model_name": "LayoutModel",
            "_view_count": null,
            "_view_module": "@jupyter-widgets/base",
            "_view_module_version": "1.2.0",
            "_view_name": "LayoutView",
            "align_content": null,
            "align_items": null,
            "align_self": null,
            "border": null,
            "bottom": null,
            "display": null,
            "flex": null,
            "flex_flow": null,
            "grid_area": null,
            "grid_auto_columns": null,
            "grid_auto_flow": null,
            "grid_auto_rows": null,
            "grid_column": null,
            "grid_gap": null,
            "grid_row": null,
            "grid_template_areas": null,
            "grid_template_columns": null,
            "grid_template_rows": null,
            "height": null,
            "justify_content": null,
            "justify_items": null,
            "left": null,
            "margin": null,
            "max_height": null,
            "max_width": null,
            "min_height": null,
            "min_width": null,
            "object_fit": null,
            "object_position": null,
            "order": null,
            "overflow": null,
            "overflow_x": null,
            "overflow_y": null,
            "padding": null,
            "right": null,
            "top": null,
            "visibility": null,
            "width": null
          }
        },
        "22961e4b68894513afaa160c14dabcc2": {
          "model_module": "@jupyter-widgets/base",
          "model_module_version": "1.2.0",
          "model_name": "LayoutModel",
          "state": {
            "_model_module": "@jupyter-widgets/base",
            "_model_module_version": "1.2.0",
            "_model_name": "LayoutModel",
            "_view_count": null,
            "_view_module": "@jupyter-widgets/base",
            "_view_module_version": "1.2.0",
            "_view_name": "LayoutView",
            "align_content": null,
            "align_items": null,
            "align_self": null,
            "border": null,
            "bottom": null,
            "display": null,
            "flex": null,
            "flex_flow": null,
            "grid_area": null,
            "grid_auto_columns": null,
            "grid_auto_flow": null,
            "grid_auto_rows": null,
            "grid_column": null,
            "grid_gap": null,
            "grid_row": null,
            "grid_template_areas": null,
            "grid_template_columns": null,
            "grid_template_rows": null,
            "height": null,
            "justify_content": null,
            "justify_items": null,
            "left": null,
            "margin": null,
            "max_height": null,
            "max_width": null,
            "min_height": null,
            "min_width": null,
            "object_fit": null,
            "object_position": null,
            "order": null,
            "overflow": null,
            "overflow_x": null,
            "overflow_y": null,
            "padding": null,
            "right": null,
            "top": null,
            "visibility": null,
            "width": null
          }
        },
        "2341fd26597b4625a1452fa9c467d9a2": {
          "model_module": "@jupyter-widgets/base",
          "model_module_version": "1.2.0",
          "model_name": "LayoutModel",
          "state": {
            "_model_module": "@jupyter-widgets/base",
            "_model_module_version": "1.2.0",
            "_model_name": "LayoutModel",
            "_view_count": null,
            "_view_module": "@jupyter-widgets/base",
            "_view_module_version": "1.2.0",
            "_view_name": "LayoutView",
            "align_content": null,
            "align_items": null,
            "align_self": null,
            "border": null,
            "bottom": null,
            "display": null,
            "flex": null,
            "flex_flow": null,
            "grid_area": null,
            "grid_auto_columns": null,
            "grid_auto_flow": null,
            "grid_auto_rows": null,
            "grid_column": null,
            "grid_gap": null,
            "grid_row": null,
            "grid_template_areas": null,
            "grid_template_columns": null,
            "grid_template_rows": null,
            "height": null,
            "justify_content": null,
            "justify_items": null,
            "left": null,
            "margin": null,
            "max_height": null,
            "max_width": null,
            "min_height": null,
            "min_width": null,
            "object_fit": null,
            "object_position": null,
            "order": null,
            "overflow": null,
            "overflow_x": null,
            "overflow_y": null,
            "padding": null,
            "right": null,
            "top": null,
            "visibility": null,
            "width": null
          }
        },
        "23b9890777f34a9bbf2878f7bf994a2c": {
          "model_module": "@jupyter-widgets/controls",
          "model_module_version": "1.5.0",
          "model_name": "HTMLModel",
          "state": {
            "_dom_classes": [],
            "_model_module": "@jupyter-widgets/controls",
            "_model_module_version": "1.5.0",
            "_model_name": "HTMLModel",
            "_view_count": null,
            "_view_module": "@jupyter-widgets/controls",
            "_view_module_version": "1.5.0",
            "_view_name": "HTMLView",
            "description": "",
            "description_tooltip": null,
            "layout": "IPY_MODEL_e384e1bd7fc648a5b42fa45a7e71fd55",
            "placeholder": "​",
            "style": "IPY_MODEL_f12de04464a04fd3acddd8bee1f190f9",
            "value": " 418/418 [00:00&lt;00:00, 24.0kB/s]"
          }
        },
        "24830064909b45fc95575da1d849fb2d": {
          "model_module": "@jupyter-widgets/base",
          "model_module_version": "1.2.0",
          "model_name": "LayoutModel",
          "state": {
            "_model_module": "@jupyter-widgets/base",
            "_model_module_version": "1.2.0",
            "_model_name": "LayoutModel",
            "_view_count": null,
            "_view_module": "@jupyter-widgets/base",
            "_view_module_version": "1.2.0",
            "_view_name": "LayoutView",
            "align_content": null,
            "align_items": null,
            "align_self": null,
            "border": null,
            "bottom": null,
            "display": null,
            "flex": null,
            "flex_flow": null,
            "grid_area": null,
            "grid_auto_columns": null,
            "grid_auto_flow": null,
            "grid_auto_rows": null,
            "grid_column": null,
            "grid_gap": null,
            "grid_row": null,
            "grid_template_areas": null,
            "grid_template_columns": null,
            "grid_template_rows": null,
            "height": null,
            "justify_content": null,
            "justify_items": null,
            "left": null,
            "margin": null,
            "max_height": null,
            "max_width": null,
            "min_height": null,
            "min_width": null,
            "object_fit": null,
            "object_position": null,
            "order": null,
            "overflow": null,
            "overflow_x": null,
            "overflow_y": null,
            "padding": null,
            "right": null,
            "top": null,
            "visibility": null,
            "width": null
          }
        },
        "27589089240e49109dd9fffc5c096b8a": {
          "model_module": "@jupyter-widgets/base",
          "model_module_version": "1.2.0",
          "model_name": "LayoutModel",
          "state": {
            "_model_module": "@jupyter-widgets/base",
            "_model_module_version": "1.2.0",
            "_model_name": "LayoutModel",
            "_view_count": null,
            "_view_module": "@jupyter-widgets/base",
            "_view_module_version": "1.2.0",
            "_view_name": "LayoutView",
            "align_content": null,
            "align_items": null,
            "align_self": null,
            "border": null,
            "bottom": null,
            "display": null,
            "flex": null,
            "flex_flow": null,
            "grid_area": null,
            "grid_auto_columns": null,
            "grid_auto_flow": null,
            "grid_auto_rows": null,
            "grid_column": null,
            "grid_gap": null,
            "grid_row": null,
            "grid_template_areas": null,
            "grid_template_columns": null,
            "grid_template_rows": null,
            "height": null,
            "justify_content": null,
            "justify_items": null,
            "left": null,
            "margin": null,
            "max_height": null,
            "max_width": null,
            "min_height": null,
            "min_width": null,
            "object_fit": null,
            "object_position": null,
            "order": null,
            "overflow": null,
            "overflow_x": null,
            "overflow_y": null,
            "padding": null,
            "right": null,
            "top": null,
            "visibility": null,
            "width": null
          }
        },
        "2ad8e50a7c8746eebe16e7ce65dba304": {
          "model_module": "@jupyter-widgets/controls",
          "model_module_version": "1.5.0",
          "model_name": "FloatProgressModel",
          "state": {
            "_dom_classes": [],
            "_model_module": "@jupyter-widgets/controls",
            "_model_module_version": "1.5.0",
            "_model_name": "FloatProgressModel",
            "_view_count": null,
            "_view_module": "@jupyter-widgets/controls",
            "_view_module_version": "1.5.0",
            "_view_name": "ProgressView",
            "bar_style": "success",
            "description": "",
            "description_tooltip": null,
            "layout": "IPY_MODEL_79d5a52936944c3681e06a7e6004e3e5",
            "max": 160024,
            "min": 0,
            "orientation": "horizontal",
            "style": "IPY_MODEL_50a7e78a066e47f2873733dc3db84fec",
            "value": 160024
          }
        },
        "338dccbf8419461c96511087852f5418": {
          "model_module": "@jupyter-widgets/controls",
          "model_module_version": "1.5.0",
          "model_name": "DescriptionStyleModel",
          "state": {
            "_model_module": "@jupyter-widgets/controls",
            "_model_module_version": "1.5.0",
            "_model_name": "DescriptionStyleModel",
            "_view_count": null,
            "_view_module": "@jupyter-widgets/base",
            "_view_module_version": "1.2.0",
            "_view_name": "StyleView",
            "description_width": ""
          }
        },
        "33af33036aaf498981ec06d6489ccd91": {
          "model_module": "@jupyter-widgets/controls",
          "model_module_version": "1.5.0",
          "model_name": "FloatProgressModel",
          "state": {
            "_dom_classes": [],
            "_model_module": "@jupyter-widgets/controls",
            "_model_module_version": "1.5.0",
            "_model_name": "FloatProgressModel",
            "_view_count": null,
            "_view_module": "@jupyter-widgets/controls",
            "_view_module_version": "1.5.0",
            "_view_name": "ProgressView",
            "bar_style": "success",
            "description": "",
            "description_tooltip": null,
            "layout": "IPY_MODEL_e711d6b8c09348249bcf2a03d2e367a3",
            "max": 418,
            "min": 0,
            "orientation": "horizontal",
            "style": "IPY_MODEL_bb6788038a0e4e61aa8a0a38dffb5757",
            "value": 418
          }
        },
        "35f97fcd7d044d70a1ddd4f15c6c8d84": {
          "model_module": "@jupyter-widgets/base",
          "model_module_version": "1.2.0",
          "model_name": "LayoutModel",
          "state": {
            "_model_module": "@jupyter-widgets/base",
            "_model_module_version": "1.2.0",
            "_model_name": "LayoutModel",
            "_view_count": null,
            "_view_module": "@jupyter-widgets/base",
            "_view_module_version": "1.2.0",
            "_view_name": "LayoutView",
            "align_content": null,
            "align_items": null,
            "align_self": null,
            "border": null,
            "bottom": null,
            "display": null,
            "flex": null,
            "flex_flow": null,
            "grid_area": null,
            "grid_auto_columns": null,
            "grid_auto_flow": null,
            "grid_auto_rows": null,
            "grid_column": null,
            "grid_gap": null,
            "grid_row": null,
            "grid_template_areas": null,
            "grid_template_columns": null,
            "grid_template_rows": null,
            "height": null,
            "justify_content": null,
            "justify_items": null,
            "left": null,
            "margin": null,
            "max_height": null,
            "max_width": null,
            "min_height": null,
            "min_width": null,
            "object_fit": null,
            "object_position": null,
            "order": null,
            "overflow": null,
            "overflow_x": null,
            "overflow_y": null,
            "padding": null,
            "right": null,
            "top": null,
            "visibility": null,
            "width": null
          }
        },
        "37a4ead659fa4993b4470d42d9022fb0": {
          "model_module": "@jupyter-widgets/base",
          "model_module_version": "1.2.0",
          "model_name": "LayoutModel",
          "state": {
            "_model_module": "@jupyter-widgets/base",
            "_model_module_version": "1.2.0",
            "_model_name": "LayoutModel",
            "_view_count": null,
            "_view_module": "@jupyter-widgets/base",
            "_view_module_version": "1.2.0",
            "_view_name": "LayoutView",
            "align_content": null,
            "align_items": null,
            "align_self": null,
            "border": null,
            "bottom": null,
            "display": null,
            "flex": null,
            "flex_flow": null,
            "grid_area": null,
            "grid_auto_columns": null,
            "grid_auto_flow": null,
            "grid_auto_rows": null,
            "grid_column": null,
            "grid_gap": null,
            "grid_row": null,
            "grid_template_areas": null,
            "grid_template_columns": null,
            "grid_template_rows": null,
            "height": null,
            "justify_content": null,
            "justify_items": null,
            "left": null,
            "margin": null,
            "max_height": null,
            "max_width": null,
            "min_height": null,
            "min_width": null,
            "object_fit": null,
            "object_position": null,
            "order": null,
            "overflow": null,
            "overflow_x": null,
            "overflow_y": null,
            "padding": null,
            "right": null,
            "top": null,
            "visibility": null,
            "width": null
          }
        },
        "3930d358a4314c2084b211da2bae4e64": {
          "model_module": "@jupyter-widgets/controls",
          "model_module_version": "1.5.0",
          "model_name": "DescriptionStyleModel",
          "state": {
            "_model_module": "@jupyter-widgets/controls",
            "_model_module_version": "1.5.0",
            "_model_name": "DescriptionStyleModel",
            "_view_count": null,
            "_view_module": "@jupyter-widgets/base",
            "_view_module_version": "1.2.0",
            "_view_name": "StyleView",
            "description_width": ""
          }
        },
        "3b53fe20e8324958ab04c4691f2aa429": {
          "model_module": "@jupyter-widgets/base",
          "model_module_version": "1.2.0",
          "model_name": "LayoutModel",
          "state": {
            "_model_module": "@jupyter-widgets/base",
            "_model_module_version": "1.2.0",
            "_model_name": "LayoutModel",
            "_view_count": null,
            "_view_module": "@jupyter-widgets/base",
            "_view_module_version": "1.2.0",
            "_view_name": "LayoutView",
            "align_content": null,
            "align_items": null,
            "align_self": null,
            "border": null,
            "bottom": null,
            "display": null,
            "flex": null,
            "flex_flow": null,
            "grid_area": null,
            "grid_auto_columns": null,
            "grid_auto_flow": null,
            "grid_auto_rows": null,
            "grid_column": null,
            "grid_gap": null,
            "grid_row": null,
            "grid_template_areas": null,
            "grid_template_columns": null,
            "grid_template_rows": null,
            "height": null,
            "justify_content": null,
            "justify_items": null,
            "left": null,
            "margin": null,
            "max_height": null,
            "max_width": null,
            "min_height": null,
            "min_width": null,
            "object_fit": null,
            "object_position": null,
            "order": null,
            "overflow": null,
            "overflow_x": null,
            "overflow_y": null,
            "padding": null,
            "right": null,
            "top": null,
            "visibility": null,
            "width": null
          }
        },
        "3f5b1d5513304faa983f82a537437006": {
          "model_module": "@jupyter-widgets/controls",
          "model_module_version": "1.5.0",
          "model_name": "DescriptionStyleModel",
          "state": {
            "_model_module": "@jupyter-widgets/controls",
            "_model_module_version": "1.5.0",
            "_model_name": "DescriptionStyleModel",
            "_view_count": null,
            "_view_module": "@jupyter-widgets/base",
            "_view_module_version": "1.2.0",
            "_view_name": "StyleView",
            "description_width": ""
          }
        },
        "4287cb34d31a4031b77f4ef1106f1cf3": {
          "model_module": "@jupyter-widgets/base",
          "model_module_version": "1.2.0",
          "model_name": "LayoutModel",
          "state": {
            "_model_module": "@jupyter-widgets/base",
            "_model_module_version": "1.2.0",
            "_model_name": "LayoutModel",
            "_view_count": null,
            "_view_module": "@jupyter-widgets/base",
            "_view_module_version": "1.2.0",
            "_view_name": "LayoutView",
            "align_content": null,
            "align_items": null,
            "align_self": null,
            "border": null,
            "bottom": null,
            "display": null,
            "flex": null,
            "flex_flow": null,
            "grid_area": null,
            "grid_auto_columns": null,
            "grid_auto_flow": null,
            "grid_auto_rows": null,
            "grid_column": null,
            "grid_gap": null,
            "grid_row": null,
            "grid_template_areas": null,
            "grid_template_columns": null,
            "grid_template_rows": null,
            "height": null,
            "justify_content": null,
            "justify_items": null,
            "left": null,
            "margin": null,
            "max_height": null,
            "max_width": null,
            "min_height": null,
            "min_width": null,
            "object_fit": null,
            "object_position": null,
            "order": null,
            "overflow": null,
            "overflow_x": null,
            "overflow_y": null,
            "padding": null,
            "right": null,
            "top": null,
            "visibility": null,
            "width": null
          }
        },
        "470b81a7be8f412d9ce2812283e7a1d1": {
          "model_module": "@jupyter-widgets/base",
          "model_module_version": "1.2.0",
          "model_name": "LayoutModel",
          "state": {
            "_model_module": "@jupyter-widgets/base",
            "_model_module_version": "1.2.0",
            "_model_name": "LayoutModel",
            "_view_count": null,
            "_view_module": "@jupyter-widgets/base",
            "_view_module_version": "1.2.0",
            "_view_name": "LayoutView",
            "align_content": null,
            "align_items": null,
            "align_self": null,
            "border": null,
            "bottom": null,
            "display": null,
            "flex": null,
            "flex_flow": null,
            "grid_area": null,
            "grid_auto_columns": null,
            "grid_auto_flow": null,
            "grid_auto_rows": null,
            "grid_column": null,
            "grid_gap": null,
            "grid_row": null,
            "grid_template_areas": null,
            "grid_template_columns": null,
            "grid_template_rows": null,
            "height": null,
            "justify_content": null,
            "justify_items": null,
            "left": null,
            "margin": null,
            "max_height": null,
            "max_width": null,
            "min_height": null,
            "min_width": null,
            "object_fit": null,
            "object_position": null,
            "order": null,
            "overflow": null,
            "overflow_x": null,
            "overflow_y": null,
            "padding": null,
            "right": null,
            "top": null,
            "visibility": null,
            "width": null
          }
        },
        "4cf9eea89e4f4014a357ce5e7876a4a8": {
          "model_module": "@jupyter-widgets/base",
          "model_module_version": "1.2.0",
          "model_name": "LayoutModel",
          "state": {
            "_model_module": "@jupyter-widgets/base",
            "_model_module_version": "1.2.0",
            "_model_name": "LayoutModel",
            "_view_count": null,
            "_view_module": "@jupyter-widgets/base",
            "_view_module_version": "1.2.0",
            "_view_name": "LayoutView",
            "align_content": null,
            "align_items": null,
            "align_self": null,
            "border": null,
            "bottom": null,
            "display": null,
            "flex": null,
            "flex_flow": null,
            "grid_area": null,
            "grid_auto_columns": null,
            "grid_auto_flow": null,
            "grid_auto_rows": null,
            "grid_column": null,
            "grid_gap": null,
            "grid_row": null,
            "grid_template_areas": null,
            "grid_template_columns": null,
            "grid_template_rows": null,
            "height": null,
            "justify_content": null,
            "justify_items": null,
            "left": null,
            "margin": null,
            "max_height": null,
            "max_width": null,
            "min_height": null,
            "min_width": null,
            "object_fit": null,
            "object_position": null,
            "order": null,
            "overflow": null,
            "overflow_x": null,
            "overflow_y": null,
            "padding": null,
            "right": null,
            "top": null,
            "visibility": null,
            "width": null
          }
        },
        "50a7e78a066e47f2873733dc3db84fec": {
          "model_module": "@jupyter-widgets/controls",
          "model_module_version": "1.5.0",
          "model_name": "ProgressStyleModel",
          "state": {
            "_model_module": "@jupyter-widgets/controls",
            "_model_module_version": "1.5.0",
            "_model_name": "ProgressStyleModel",
            "_view_count": null,
            "_view_module": "@jupyter-widgets/base",
            "_view_module_version": "1.2.0",
            "_view_name": "StyleView",
            "bar_color": null,
            "description_width": ""
          }
        },
        "50ee30f32aa44e6c897b4dcc0b1923bb": {
          "model_module": "@jupyter-widgets/controls",
          "model_module_version": "1.5.0",
          "model_name": "HTMLModel",
          "state": {
            "_dom_classes": [],
            "_model_module": "@jupyter-widgets/controls",
            "_model_module_version": "1.5.0",
            "_model_name": "HTMLModel",
            "_view_count": null,
            "_view_module": "@jupyter-widgets/controls",
            "_view_module_version": "1.5.0",
            "_view_name": "HTMLView",
            "description": "",
            "description_tooltip": null,
            "layout": "IPY_MODEL_3b53fe20e8324958ab04c4691f2aa429",
            "placeholder": "​",
            "style": "IPY_MODEL_be6fd569916748e7b8216efd07f25af4",
            "value": "README.md: 100%"
          }
        },
        "5161076210284c358a278afda3951a35": {
          "model_module": "@jupyter-widgets/base",
          "model_module_version": "1.2.0",
          "model_name": "LayoutModel",
          "state": {
            "_model_module": "@jupyter-widgets/base",
            "_model_module_version": "1.2.0",
            "_model_name": "LayoutModel",
            "_view_count": null,
            "_view_module": "@jupyter-widgets/base",
            "_view_module_version": "1.2.0",
            "_view_name": "LayoutView",
            "align_content": null,
            "align_items": null,
            "align_self": null,
            "border": null,
            "bottom": null,
            "display": null,
            "flex": null,
            "flex_flow": null,
            "grid_area": null,
            "grid_auto_columns": null,
            "grid_auto_flow": null,
            "grid_auto_rows": null,
            "grid_column": null,
            "grid_gap": null,
            "grid_row": null,
            "grid_template_areas": null,
            "grid_template_columns": null,
            "grid_template_rows": null,
            "height": null,
            "justify_content": null,
            "justify_items": null,
            "left": null,
            "margin": null,
            "max_height": null,
            "max_width": null,
            "min_height": null,
            "min_width": null,
            "object_fit": null,
            "object_position": null,
            "order": null,
            "overflow": null,
            "overflow_x": null,
            "overflow_y": null,
            "padding": null,
            "right": null,
            "top": null,
            "visibility": null,
            "width": null
          }
        },
        "58104b0e965a4e13994b2fe76b32988b": {
          "model_module": "@jupyter-widgets/controls",
          "model_module_version": "1.5.0",
          "model_name": "DescriptionStyleModel",
          "state": {
            "_model_module": "@jupyter-widgets/controls",
            "_model_module_version": "1.5.0",
            "_model_name": "DescriptionStyleModel",
            "_view_count": null,
            "_view_module": "@jupyter-widgets/base",
            "_view_module_version": "1.2.0",
            "_view_name": "StyleView",
            "description_width": ""
          }
        },
        "59bd9a225b13484cb32234050e9b343e": {
          "model_module": "@jupyter-widgets/base",
          "model_module_version": "1.2.0",
          "model_name": "LayoutModel",
          "state": {
            "_model_module": "@jupyter-widgets/base",
            "_model_module_version": "1.2.0",
            "_model_name": "LayoutModel",
            "_view_count": null,
            "_view_module": "@jupyter-widgets/base",
            "_view_module_version": "1.2.0",
            "_view_name": "LayoutView",
            "align_content": null,
            "align_items": null,
            "align_self": null,
            "border": null,
            "bottom": null,
            "display": null,
            "flex": null,
            "flex_flow": null,
            "grid_area": null,
            "grid_auto_columns": null,
            "grid_auto_flow": null,
            "grid_auto_rows": null,
            "grid_column": null,
            "grid_gap": null,
            "grid_row": null,
            "grid_template_areas": null,
            "grid_template_columns": null,
            "grid_template_rows": null,
            "height": null,
            "justify_content": null,
            "justify_items": null,
            "left": null,
            "margin": null,
            "max_height": null,
            "max_width": null,
            "min_height": null,
            "min_width": null,
            "object_fit": null,
            "object_position": null,
            "order": null,
            "overflow": null,
            "overflow_x": null,
            "overflow_y": null,
            "padding": null,
            "right": null,
            "top": null,
            "visibility": null,
            "width": null
          }
        },
        "5cecbf4bed4d410d99c5bb0e7ef60d22": {
          "model_module": "@jupyter-widgets/controls",
          "model_module_version": "1.5.0",
          "model_name": "HTMLModel",
          "state": {
            "_dom_classes": [],
            "_model_module": "@jupyter-widgets/controls",
            "_model_module_version": "1.5.0",
            "_model_name": "HTMLModel",
            "_view_count": null,
            "_view_module": "@jupyter-widgets/controls",
            "_view_module_version": "1.5.0",
            "_view_name": "HTMLView",
            "description": "",
            "description_tooltip": null,
            "layout": "IPY_MODEL_2341fd26597b4625a1452fa9c467d9a2",
            "placeholder": "​",
            "style": "IPY_MODEL_765d5af584674cf78322d72850853593",
            "value": "special_tokens_map.json: 100%"
          }
        },
        "643d6da882fc478a8e20633cd262ea8d": {
          "model_module": "@jupyter-widgets/base",
          "model_module_version": "1.2.0",
          "model_name": "LayoutModel",
          "state": {
            "_model_module": "@jupyter-widgets/base",
            "_model_module_version": "1.2.0",
            "_model_name": "LayoutModel",
            "_view_count": null,
            "_view_module": "@jupyter-widgets/base",
            "_view_module_version": "1.2.0",
            "_view_name": "LayoutView",
            "align_content": null,
            "align_items": null,
            "align_self": null,
            "border": null,
            "bottom": null,
            "display": null,
            "flex": null,
            "flex_flow": null,
            "grid_area": null,
            "grid_auto_columns": null,
            "grid_auto_flow": null,
            "grid_auto_rows": null,
            "grid_column": null,
            "grid_gap": null,
            "grid_row": null,
            "grid_template_areas": null,
            "grid_template_columns": null,
            "grid_template_rows": null,
            "height": null,
            "justify_content": null,
            "justify_items": null,
            "left": null,
            "margin": null,
            "max_height": null,
            "max_width": null,
            "min_height": null,
            "min_width": null,
            "object_fit": null,
            "object_position": null,
            "order": null,
            "overflow": null,
            "overflow_x": null,
            "overflow_y": null,
            "padding": null,
            "right": null,
            "top": null,
            "visibility": null,
            "width": null
          }
        },
        "688af11b87eb412cac72cc026fe81d4e": {
          "model_module": "@jupyter-widgets/controls",
          "model_module_version": "1.5.0",
          "model_name": "ProgressStyleModel",
          "state": {
            "_model_module": "@jupyter-widgets/controls",
            "_model_module_version": "1.5.0",
            "_model_name": "ProgressStyleModel",
            "_view_count": null,
            "_view_module": "@jupyter-widgets/base",
            "_view_module_version": "1.2.0",
            "_view_name": "StyleView",
            "bar_color": null,
            "description_width": ""
          }
        },
        "6e77859b9e88478db5a1f0d129de7c35": {
          "model_module": "@jupyter-widgets/base",
          "model_module_version": "1.2.0",
          "model_name": "LayoutModel",
          "state": {
            "_model_module": "@jupyter-widgets/base",
            "_model_module_version": "1.2.0",
            "_model_name": "LayoutModel",
            "_view_count": null,
            "_view_module": "@jupyter-widgets/base",
            "_view_module_version": "1.2.0",
            "_view_name": "LayoutView",
            "align_content": null,
            "align_items": null,
            "align_self": null,
            "border": null,
            "bottom": null,
            "display": null,
            "flex": null,
            "flex_flow": null,
            "grid_area": null,
            "grid_auto_columns": null,
            "grid_auto_flow": null,
            "grid_auto_rows": null,
            "grid_column": null,
            "grid_gap": null,
            "grid_row": null,
            "grid_template_areas": null,
            "grid_template_columns": null,
            "grid_template_rows": null,
            "height": null,
            "justify_content": null,
            "justify_items": null,
            "left": null,
            "margin": null,
            "max_height": null,
            "max_width": null,
            "min_height": null,
            "min_width": null,
            "object_fit": null,
            "object_position": null,
            "order": null,
            "overflow": null,
            "overflow_x": null,
            "overflow_y": null,
            "padding": null,
            "right": null,
            "top": null,
            "visibility": null,
            "width": null
          }
        },
        "6fdb38d7c367443ba9c8ee104801b587": {
          "model_module": "@jupyter-widgets/base",
          "model_module_version": "1.2.0",
          "model_name": "LayoutModel",
          "state": {
            "_model_module": "@jupyter-widgets/base",
            "_model_module_version": "1.2.0",
            "_model_name": "LayoutModel",
            "_view_count": null,
            "_view_module": "@jupyter-widgets/base",
            "_view_module_version": "1.2.0",
            "_view_name": "LayoutView",
            "align_content": null,
            "align_items": null,
            "align_self": null,
            "border": null,
            "bottom": null,
            "display": null,
            "flex": null,
            "flex_flow": null,
            "grid_area": null,
            "grid_auto_columns": null,
            "grid_auto_flow": null,
            "grid_auto_rows": null,
            "grid_column": null,
            "grid_gap": null,
            "grid_row": null,
            "grid_template_areas": null,
            "grid_template_columns": null,
            "grid_template_rows": null,
            "height": null,
            "justify_content": null,
            "justify_items": null,
            "left": null,
            "margin": null,
            "max_height": null,
            "max_width": null,
            "min_height": null,
            "min_width": null,
            "object_fit": null,
            "object_position": null,
            "order": null,
            "overflow": null,
            "overflow_x": null,
            "overflow_y": null,
            "padding": null,
            "right": null,
            "top": null,
            "visibility": null,
            "width": null
          }
        },
        "7268dd6b2d6248c2a0ad22bb84d2dce3": {
          "model_module": "@jupyter-widgets/controls",
          "model_module_version": "1.5.0",
          "model_name": "HBoxModel",
          "state": {
            "_dom_classes": [],
            "_model_module": "@jupyter-widgets/controls",
            "_model_module_version": "1.5.0",
            "_model_name": "HBoxModel",
            "_view_count": null,
            "_view_module": "@jupyter-widgets/controls",
            "_view_module_version": "1.5.0",
            "_view_name": "HBoxView",
            "box_style": "",
            "children": [
              "IPY_MODEL_eabefb31e00845809bda7b22ebcaa156",
              "IPY_MODEL_9367a312a1aa4d11b50e51053f659732",
              "IPY_MODEL_74752b05f26e4da595bdebaaacf38d2e"
            ],
            "layout": "IPY_MODEL_078dfa5667cb474b8606311f25ac6c44"
          }
        },
        "7384067f46604572b2e55f51bad2332f": {
          "model_module": "@jupyter-widgets/controls",
          "model_module_version": "1.5.0",
          "model_name": "ProgressStyleModel",
          "state": {
            "_model_module": "@jupyter-widgets/controls",
            "_model_module_version": "1.5.0",
            "_model_name": "ProgressStyleModel",
            "_view_count": null,
            "_view_module": "@jupyter-widgets/base",
            "_view_module_version": "1.2.0",
            "_view_name": "StyleView",
            "bar_color": null,
            "description_width": ""
          }
        },
        "739523bd3ecc46238c97ab618853e583": {
          "model_module": "@jupyter-widgets/controls",
          "model_module_version": "1.5.0",
          "model_name": "DescriptionStyleModel",
          "state": {
            "_model_module": "@jupyter-widgets/controls",
            "_model_module_version": "1.5.0",
            "_model_name": "DescriptionStyleModel",
            "_view_count": null,
            "_view_module": "@jupyter-widgets/base",
            "_view_module_version": "1.2.0",
            "_view_name": "StyleView",
            "description_width": ""
          }
        },
        "74752b05f26e4da595bdebaaacf38d2e": {
          "model_module": "@jupyter-widgets/controls",
          "model_module_version": "1.5.0",
          "model_name": "HTMLModel",
          "state": {
            "_dom_classes": [],
            "_model_module": "@jupyter-widgets/controls",
            "_model_module_version": "1.5.0",
            "_model_name": "HTMLModel",
            "_view_count": null,
            "_view_module": "@jupyter-widgets/controls",
            "_view_module_version": "1.5.0",
            "_view_name": "HTMLView",
            "description": "",
            "description_tooltip": null,
            "layout": "IPY_MODEL_37a4ead659fa4993b4470d42d9022fb0",
            "placeholder": "​",
            "style": "IPY_MODEL_08ccf77604ee49fa9f163ee92dd6ed50",
            "value": " 2.24G/2.24G [00:17&lt;00:00, 205MB/s]"
          }
        },
        "74faee80fbd94ed3b6dde4da9f768d3e": {
          "model_module": "@jupyter-widgets/controls",
          "model_module_version": "1.5.0",
          "model_name": "HTMLModel",
          "state": {
            "_dom_classes": [],
            "_model_module": "@jupyter-widgets/controls",
            "_model_module_version": "1.5.0",
            "_model_name": "HTMLModel",
            "_view_count": null,
            "_view_module": "@jupyter-widgets/controls",
            "_view_module_version": "1.5.0",
            "_view_name": "HTMLView",
            "description": "",
            "description_tooltip": null,
            "layout": "IPY_MODEL_001f46bb974649e8b5d24d675ce667a3",
            "placeholder": "​",
            "style": "IPY_MODEL_9afe43b378654096bf5b3be22fd170d9",
            "value": " 690/690 [00:00&lt;00:00, 14.8kB/s]"
          }
        },
        "7572011c32c94db79882581ed609b205": {
          "model_module": "@jupyter-widgets/controls",
          "model_module_version": "1.5.0",
          "model_name": "ProgressStyleModel",
          "state": {
            "_model_module": "@jupyter-widgets/controls",
            "_model_module_version": "1.5.0",
            "_model_name": "ProgressStyleModel",
            "_view_count": null,
            "_view_module": "@jupyter-widgets/base",
            "_view_module_version": "1.2.0",
            "_view_name": "StyleView",
            "bar_color": null,
            "description_width": ""
          }
        },
        "765d5af584674cf78322d72850853593": {
          "model_module": "@jupyter-widgets/controls",
          "model_module_version": "1.5.0",
          "model_name": "DescriptionStyleModel",
          "state": {
            "_model_module": "@jupyter-widgets/controls",
            "_model_module_version": "1.5.0",
            "_model_name": "DescriptionStyleModel",
            "_view_count": null,
            "_view_module": "@jupyter-widgets/base",
            "_view_module_version": "1.2.0",
            "_view_name": "StyleView",
            "description_width": ""
          }
        },
        "79d5a52936944c3681e06a7e6004e3e5": {
          "model_module": "@jupyter-widgets/base",
          "model_module_version": "1.2.0",
          "model_name": "LayoutModel",
          "state": {
            "_model_module": "@jupyter-widgets/base",
            "_model_module_version": "1.2.0",
            "_model_name": "LayoutModel",
            "_view_count": null,
            "_view_module": "@jupyter-widgets/base",
            "_view_module_version": "1.2.0",
            "_view_name": "LayoutView",
            "align_content": null,
            "align_items": null,
            "align_self": null,
            "border": null,
            "bottom": null,
            "display": null,
            "flex": null,
            "flex_flow": null,
            "grid_area": null,
            "grid_auto_columns": null,
            "grid_auto_flow": null,
            "grid_auto_rows": null,
            "grid_column": null,
            "grid_gap": null,
            "grid_row": null,
            "grid_template_areas": null,
            "grid_template_columns": null,
            "grid_template_rows": null,
            "height": null,
            "justify_content": null,
            "justify_items": null,
            "left": null,
            "margin": null,
            "max_height": null,
            "max_width": null,
            "min_height": null,
            "min_width": null,
            "object_fit": null,
            "object_position": null,
            "order": null,
            "overflow": null,
            "overflow_x": null,
            "overflow_y": null,
            "padding": null,
            "right": null,
            "top": null,
            "visibility": null,
            "width": null
          }
        },
        "7ca0570d9d66475b81cd507191dc07f6": {
          "model_module": "@jupyter-widgets/base",
          "model_module_version": "1.2.0",
          "model_name": "LayoutModel",
          "state": {
            "_model_module": "@jupyter-widgets/base",
            "_model_module_version": "1.2.0",
            "_model_name": "LayoutModel",
            "_view_count": null,
            "_view_module": "@jupyter-widgets/base",
            "_view_module_version": "1.2.0",
            "_view_name": "LayoutView",
            "align_content": null,
            "align_items": null,
            "align_self": null,
            "border": null,
            "bottom": null,
            "display": null,
            "flex": null,
            "flex_flow": null,
            "grid_area": null,
            "grid_auto_columns": null,
            "grid_auto_flow": null,
            "grid_auto_rows": null,
            "grid_column": null,
            "grid_gap": null,
            "grid_row": null,
            "grid_template_areas": null,
            "grid_template_columns": null,
            "grid_template_rows": null,
            "height": null,
            "justify_content": null,
            "justify_items": null,
            "left": null,
            "margin": null,
            "max_height": null,
            "max_width": null,
            "min_height": null,
            "min_width": null,
            "object_fit": null,
            "object_position": null,
            "order": null,
            "overflow": null,
            "overflow_x": null,
            "overflow_y": null,
            "padding": null,
            "right": null,
            "top": null,
            "visibility": null,
            "width": null
          }
        },
        "7f8027783e4c4382ae6bd6dc3c053f2b": {
          "model_module": "@jupyter-widgets/base",
          "model_module_version": "1.2.0",
          "model_name": "LayoutModel",
          "state": {
            "_model_module": "@jupyter-widgets/base",
            "_model_module_version": "1.2.0",
            "_model_name": "LayoutModel",
            "_view_count": null,
            "_view_module": "@jupyter-widgets/base",
            "_view_module_version": "1.2.0",
            "_view_name": "LayoutView",
            "align_content": null,
            "align_items": null,
            "align_self": null,
            "border": null,
            "bottom": null,
            "display": null,
            "flex": null,
            "flex_flow": null,
            "grid_area": null,
            "grid_auto_columns": null,
            "grid_auto_flow": null,
            "grid_auto_rows": null,
            "grid_column": null,
            "grid_gap": null,
            "grid_row": null,
            "grid_template_areas": null,
            "grid_template_columns": null,
            "grid_template_rows": null,
            "height": null,
            "justify_content": null,
            "justify_items": null,
            "left": null,
            "margin": null,
            "max_height": null,
            "max_width": null,
            "min_height": null,
            "min_width": null,
            "object_fit": null,
            "object_position": null,
            "order": null,
            "overflow": null,
            "overflow_x": null,
            "overflow_y": null,
            "padding": null,
            "right": null,
            "top": null,
            "visibility": null,
            "width": null
          }
        },
        "80a4f7e730f246d48d4ffe665441e58d": {
          "model_module": "@jupyter-widgets/controls",
          "model_module_version": "1.5.0",
          "model_name": "DescriptionStyleModel",
          "state": {
            "_model_module": "@jupyter-widgets/controls",
            "_model_module_version": "1.5.0",
            "_model_name": "DescriptionStyleModel",
            "_view_count": null,
            "_view_module": "@jupyter-widgets/base",
            "_view_module_version": "1.2.0",
            "_view_name": "StyleView",
            "description_width": ""
          }
        },
        "8132e39bf35b40e9b018d445b441f0df": {
          "model_module": "@jupyter-widgets/controls",
          "model_module_version": "1.5.0",
          "model_name": "HTMLModel",
          "state": {
            "_dom_classes": [],
            "_model_module": "@jupyter-widgets/controls",
            "_model_module_version": "1.5.0",
            "_model_name": "HTMLModel",
            "_view_count": null,
            "_view_module": "@jupyter-widgets/controls",
            "_view_module_version": "1.5.0",
            "_view_name": "HTMLView",
            "description": "",
            "description_tooltip": null,
            "layout": "IPY_MODEL_35f97fcd7d044d70a1ddd4f15c6c8d84",
            "placeholder": "​",
            "style": "IPY_MODEL_3f5b1d5513304faa983f82a537437006",
            "value": " 280/280 [00:00&lt;00:00, 20.6kB/s]"
          }
        },
        "831648c464d64d6991a53aa05af7a28c": {
          "model_module": "@jupyter-widgets/base",
          "model_module_version": "1.2.0",
          "model_name": "LayoutModel",
          "state": {
            "_model_module": "@jupyter-widgets/base",
            "_model_module_version": "1.2.0",
            "_model_name": "LayoutModel",
            "_view_count": null,
            "_view_module": "@jupyter-widgets/base",
            "_view_module_version": "1.2.0",
            "_view_name": "LayoutView",
            "align_content": null,
            "align_items": null,
            "align_self": null,
            "border": null,
            "bottom": null,
            "display": null,
            "flex": null,
            "flex_flow": null,
            "grid_area": null,
            "grid_auto_columns": null,
            "grid_auto_flow": null,
            "grid_auto_rows": null,
            "grid_column": null,
            "grid_gap": null,
            "grid_row": null,
            "grid_template_areas": null,
            "grid_template_columns": null,
            "grid_template_rows": null,
            "height": null,
            "justify_content": null,
            "justify_items": null,
            "left": null,
            "margin": null,
            "max_height": null,
            "max_width": null,
            "min_height": null,
            "min_width": null,
            "object_fit": null,
            "object_position": null,
            "order": null,
            "overflow": null,
            "overflow_x": null,
            "overflow_y": null,
            "padding": null,
            "right": null,
            "top": null,
            "visibility": null,
            "width": null
          }
        },
        "834beddc9ae941d2b6bd61ec5e999078": {
          "model_module": "@jupyter-widgets/controls",
          "model_module_version": "1.5.0",
          "model_name": "DescriptionStyleModel",
          "state": {
            "_model_module": "@jupyter-widgets/controls",
            "_model_module_version": "1.5.0",
            "_model_name": "DescriptionStyleModel",
            "_view_count": null,
            "_view_module": "@jupyter-widgets/base",
            "_view_module_version": "1.2.0",
            "_view_name": "StyleView",
            "description_width": ""
          }
        },
        "888cf9b1e68d4a6c8fabf7f77ac4d3d9": {
          "model_module": "@jupyter-widgets/base",
          "model_module_version": "1.2.0",
          "model_name": "LayoutModel",
          "state": {
            "_model_module": "@jupyter-widgets/base",
            "_model_module_version": "1.2.0",
            "_model_name": "LayoutModel",
            "_view_count": null,
            "_view_module": "@jupyter-widgets/base",
            "_view_module_version": "1.2.0",
            "_view_name": "LayoutView",
            "align_content": null,
            "align_items": null,
            "align_self": null,
            "border": null,
            "bottom": null,
            "display": null,
            "flex": null,
            "flex_flow": null,
            "grid_area": null,
            "grid_auto_columns": null,
            "grid_auto_flow": null,
            "grid_auto_rows": null,
            "grid_column": null,
            "grid_gap": null,
            "grid_row": null,
            "grid_template_areas": null,
            "grid_template_columns": null,
            "grid_template_rows": null,
            "height": null,
            "justify_content": null,
            "justify_items": null,
            "left": null,
            "margin": null,
            "max_height": null,
            "max_width": null,
            "min_height": null,
            "min_width": null,
            "object_fit": null,
            "object_position": null,
            "order": null,
            "overflow": null,
            "overflow_x": null,
            "overflow_y": null,
            "padding": null,
            "right": null,
            "top": null,
            "visibility": null,
            "width": null
          }
        },
        "8b9843860653463a98965c940dea99dc": {
          "model_module": "@jupyter-widgets/controls",
          "model_module_version": "1.5.0",
          "model_name": "HTMLModel",
          "state": {
            "_dom_classes": [],
            "_model_module": "@jupyter-widgets/controls",
            "_model_module_version": "1.5.0",
            "_model_name": "HTMLModel",
            "_view_count": null,
            "_view_module": "@jupyter-widgets/controls",
            "_view_module_version": "1.5.0",
            "_view_name": "HTMLView",
            "description": "",
            "description_tooltip": null,
            "layout": "IPY_MODEL_6e77859b9e88478db5a1f0d129de7c35",
            "placeholder": "​",
            "style": "IPY_MODEL_834beddc9ae941d2b6bd61ec5e999078",
            "value": "Parsing nodes: 100%"
          }
        },
        "8f05772ec87644e5a7fc515bfcfa1e09": {
          "model_module": "@jupyter-widgets/controls",
          "model_module_version": "1.5.0",
          "model_name": "ProgressStyleModel",
          "state": {
            "_model_module": "@jupyter-widgets/controls",
            "_model_module_version": "1.5.0",
            "_model_name": "ProgressStyleModel",
            "_view_count": null,
            "_view_module": "@jupyter-widgets/base",
            "_view_module_version": "1.2.0",
            "_view_name": "StyleView",
            "bar_color": null,
            "description_width": ""
          }
        },
        "90721150710d4804bf436f9691854b5a": {
          "model_module": "@jupyter-widgets/base",
          "model_module_version": "1.2.0",
          "model_name": "LayoutModel",
          "state": {
            "_model_module": "@jupyter-widgets/base",
            "_model_module_version": "1.2.0",
            "_model_name": "LayoutModel",
            "_view_count": null,
            "_view_module": "@jupyter-widgets/base",
            "_view_module_version": "1.2.0",
            "_view_name": "LayoutView",
            "align_content": null,
            "align_items": null,
            "align_self": null,
            "border": null,
            "bottom": null,
            "display": null,
            "flex": null,
            "flex_flow": null,
            "grid_area": null,
            "grid_auto_columns": null,
            "grid_auto_flow": null,
            "grid_auto_rows": null,
            "grid_column": null,
            "grid_gap": null,
            "grid_row": null,
            "grid_template_areas": null,
            "grid_template_columns": null,
            "grid_template_rows": null,
            "height": null,
            "justify_content": null,
            "justify_items": null,
            "left": null,
            "margin": null,
            "max_height": null,
            "max_width": null,
            "min_height": null,
            "min_width": null,
            "object_fit": null,
            "object_position": null,
            "order": null,
            "overflow": null,
            "overflow_x": null,
            "overflow_y": null,
            "padding": null,
            "right": null,
            "top": null,
            "visibility": null,
            "width": null
          }
        },
        "9304c5444c9340c787df6a1b46899c90": {
          "model_module": "@jupyter-widgets/base",
          "model_module_version": "1.2.0",
          "model_name": "LayoutModel",
          "state": {
            "_model_module": "@jupyter-widgets/base",
            "_model_module_version": "1.2.0",
            "_model_name": "LayoutModel",
            "_view_count": null,
            "_view_module": "@jupyter-widgets/base",
            "_view_module_version": "1.2.0",
            "_view_name": "LayoutView",
            "align_content": null,
            "align_items": null,
            "align_self": null,
            "border": null,
            "bottom": null,
            "display": null,
            "flex": null,
            "flex_flow": null,
            "grid_area": null,
            "grid_auto_columns": null,
            "grid_auto_flow": null,
            "grid_auto_rows": null,
            "grid_column": null,
            "grid_gap": null,
            "grid_row": null,
            "grid_template_areas": null,
            "grid_template_columns": null,
            "grid_template_rows": null,
            "height": null,
            "justify_content": null,
            "justify_items": null,
            "left": null,
            "margin": null,
            "max_height": null,
            "max_width": null,
            "min_height": null,
            "min_width": null,
            "object_fit": null,
            "object_position": null,
            "order": null,
            "overflow": null,
            "overflow_x": null,
            "overflow_y": null,
            "padding": null,
            "right": null,
            "top": null,
            "visibility": null,
            "width": null
          }
        },
        "9367a312a1aa4d11b50e51053f659732": {
          "model_module": "@jupyter-widgets/controls",
          "model_module_version": "1.5.0",
          "model_name": "FloatProgressModel",
          "state": {
            "_dom_classes": [],
            "_model_module": "@jupyter-widgets/controls",
            "_model_module_version": "1.5.0",
            "_model_name": "FloatProgressModel",
            "_view_count": null,
            "_view_module": "@jupyter-widgets/controls",
            "_view_module_version": "1.5.0",
            "_view_name": "ProgressView",
            "bar_style": "success",
            "description": "",
            "description_tooltip": null,
            "layout": "IPY_MODEL_ff612591ea584e028dee12c17aabfa57",
            "max": 2239611368,
            "min": 0,
            "orientation": "horizontal",
            "style": "IPY_MODEL_1e1848cea81c4618b5f2f0baa2d8bfde",
            "value": 2239611368
          }
        },
        "946d87dfe15e44af9859dd36136a7e5c": {
          "model_module": "@jupyter-widgets/controls",
          "model_module_version": "1.5.0",
          "model_name": "HBoxModel",
          "state": {
            "_dom_classes": [],
            "_model_module": "@jupyter-widgets/controls",
            "_model_module_version": "1.5.0",
            "_model_name": "HBoxModel",
            "_view_count": null,
            "_view_module": "@jupyter-widgets/controls",
            "_view_module_version": "1.5.0",
            "_view_name": "HBoxView",
            "box_style": "",
            "children": [
              "IPY_MODEL_b17ee08274164a09a0df54568b4c055a",
              "IPY_MODEL_33af33036aaf498981ec06d6489ccd91",
              "IPY_MODEL_23b9890777f34a9bbf2878f7bf994a2c"
            ],
            "layout": "IPY_MODEL_24830064909b45fc95575da1d849fb2d"
          }
        },
        "97c7028f0f5b487d813eef629bf38fbc": {
          "model_module": "@jupyter-widgets/base",
          "model_module_version": "1.2.0",
          "model_name": "LayoutModel",
          "state": {
            "_model_module": "@jupyter-widgets/base",
            "_model_module_version": "1.2.0",
            "_model_name": "LayoutModel",
            "_view_count": null,
            "_view_module": "@jupyter-widgets/base",
            "_view_module_version": "1.2.0",
            "_view_name": "LayoutView",
            "align_content": null,
            "align_items": null,
            "align_self": null,
            "border": null,
            "bottom": null,
            "display": null,
            "flex": null,
            "flex_flow": null,
            "grid_area": null,
            "grid_auto_columns": null,
            "grid_auto_flow": null,
            "grid_auto_rows": null,
            "grid_column": null,
            "grid_gap": null,
            "grid_row": null,
            "grid_template_areas": null,
            "grid_template_columns": null,
            "grid_template_rows": null,
            "height": null,
            "justify_content": null,
            "justify_items": null,
            "left": null,
            "margin": null,
            "max_height": null,
            "max_width": null,
            "min_height": null,
            "min_width": null,
            "object_fit": null,
            "object_position": null,
            "order": null,
            "overflow": null,
            "overflow_x": null,
            "overflow_y": null,
            "padding": null,
            "right": null,
            "top": null,
            "visibility": null,
            "width": null
          }
        },
        "9afe43b378654096bf5b3be22fd170d9": {
          "model_module": "@jupyter-widgets/controls",
          "model_module_version": "1.5.0",
          "model_name": "DescriptionStyleModel",
          "state": {
            "_model_module": "@jupyter-widgets/controls",
            "_model_module_version": "1.5.0",
            "_model_name": "DescriptionStyleModel",
            "_view_count": null,
            "_view_module": "@jupyter-widgets/base",
            "_view_module_version": "1.2.0",
            "_view_name": "StyleView",
            "description_width": ""
          }
        },
        "9d0cbd55227749a8b4320262411ae66e": {
          "model_module": "@jupyter-widgets/base",
          "model_module_version": "1.2.0",
          "model_name": "LayoutModel",
          "state": {
            "_model_module": "@jupyter-widgets/base",
            "_model_module_version": "1.2.0",
            "_model_name": "LayoutModel",
            "_view_count": null,
            "_view_module": "@jupyter-widgets/base",
            "_view_module_version": "1.2.0",
            "_view_name": "LayoutView",
            "align_content": null,
            "align_items": null,
            "align_self": null,
            "border": null,
            "bottom": null,
            "display": null,
            "flex": null,
            "flex_flow": null,
            "grid_area": null,
            "grid_auto_columns": null,
            "grid_auto_flow": null,
            "grid_auto_rows": null,
            "grid_column": null,
            "grid_gap": null,
            "grid_row": null,
            "grid_template_areas": null,
            "grid_template_columns": null,
            "grid_template_rows": null,
            "height": null,
            "justify_content": null,
            "justify_items": null,
            "left": null,
            "margin": null,
            "max_height": null,
            "max_width": null,
            "min_height": null,
            "min_width": null,
            "object_fit": null,
            "object_position": null,
            "order": null,
            "overflow": null,
            "overflow_x": null,
            "overflow_y": null,
            "padding": null,
            "right": null,
            "top": null,
            "visibility": null,
            "width": null
          }
        },
        "9eda7dde73c441a699da83f58aaa6bcf": {
          "model_module": "@jupyter-widgets/controls",
          "model_module_version": "1.5.0",
          "model_name": "HTMLModel",
          "state": {
            "_dom_classes": [],
            "_model_module": "@jupyter-widgets/controls",
            "_model_module_version": "1.5.0",
            "_model_name": "HTMLModel",
            "_view_count": null,
            "_view_module": "@jupyter-widgets/controls",
            "_view_module_version": "1.5.0",
            "_view_name": "HTMLView",
            "description": "",
            "description_tooltip": null,
            "layout": "IPY_MODEL_4287cb34d31a4031b77f4ef1106f1cf3",
            "placeholder": "​",
            "style": "IPY_MODEL_b7f66ae78cb9410fa1a6f33f26eb3760",
            "value": " 5.07M/5.07M [00:00&lt;00:00, 86.7MB/s]"
          }
        },
        "9edb05e78f164d07b03408c288458035": {
          "model_module": "@jupyter-widgets/controls",
          "model_module_version": "1.5.0",
          "model_name": "DescriptionStyleModel",
          "state": {
            "_model_module": "@jupyter-widgets/controls",
            "_model_module_version": "1.5.0",
            "_model_name": "DescriptionStyleModel",
            "_view_count": null,
            "_view_module": "@jupyter-widgets/base",
            "_view_module_version": "1.2.0",
            "_view_name": "StyleView",
            "description_width": ""
          }
        },
        "9f911b08fd4a45eea9f930c994cbb3ca": {
          "model_module": "@jupyter-widgets/controls",
          "model_module_version": "1.5.0",
          "model_name": "FloatProgressModel",
          "state": {
            "_dom_classes": [],
            "_model_module": "@jupyter-widgets/controls",
            "_model_module_version": "1.5.0",
            "_model_name": "FloatProgressModel",
            "_view_count": null,
            "_view_module": "@jupyter-widgets/controls",
            "_view_module_version": "1.5.0",
            "_view_name": "ProgressView",
            "bar_style": "success",
            "description": "",
            "description_tooltip": null,
            "layout": "IPY_MODEL_effcc1c0afc148b3aee8e0480a464d94",
            "max": 280,
            "min": 0,
            "orientation": "horizontal",
            "style": "IPY_MODEL_8f05772ec87644e5a7fc515bfcfa1e09",
            "value": 280
          }
        },
        "a1c5fec54c874d6487d7f9d3a42f43c1": {
          "model_module": "@jupyter-widgets/controls",
          "model_module_version": "1.5.0",
          "model_name": "DescriptionStyleModel",
          "state": {
            "_model_module": "@jupyter-widgets/controls",
            "_model_module_version": "1.5.0",
            "_model_name": "DescriptionStyleModel",
            "_view_count": null,
            "_view_module": "@jupyter-widgets/base",
            "_view_module_version": "1.2.0",
            "_view_name": "StyleView",
            "description_width": ""
          }
        },
        "a6a1f58d939847cea073cec8de5fef7e": {
          "model_module": "@jupyter-widgets/base",
          "model_module_version": "1.2.0",
          "model_name": "LayoutModel",
          "state": {
            "_model_module": "@jupyter-widgets/base",
            "_model_module_version": "1.2.0",
            "_model_name": "LayoutModel",
            "_view_count": null,
            "_view_module": "@jupyter-widgets/base",
            "_view_module_version": "1.2.0",
            "_view_name": "LayoutView",
            "align_content": null,
            "align_items": null,
            "align_self": null,
            "border": null,
            "bottom": null,
            "display": null,
            "flex": null,
            "flex_flow": null,
            "grid_area": null,
            "grid_auto_columns": null,
            "grid_auto_flow": null,
            "grid_auto_rows": null,
            "grid_column": null,
            "grid_gap": null,
            "grid_row": null,
            "grid_template_areas": null,
            "grid_template_columns": null,
            "grid_template_rows": null,
            "height": null,
            "justify_content": null,
            "justify_items": null,
            "left": null,
            "margin": null,
            "max_height": null,
            "max_width": null,
            "min_height": null,
            "min_width": null,
            "object_fit": null,
            "object_position": null,
            "order": null,
            "overflow": null,
            "overflow_x": null,
            "overflow_y": null,
            "padding": null,
            "right": null,
            "top": null,
            "visibility": null,
            "width": null
          }
        },
        "aa087b29822f43d4a058b1a3a0d64b3e": {
          "model_module": "@jupyter-widgets/controls",
          "model_module_version": "1.5.0",
          "model_name": "HBoxModel",
          "state": {
            "_dom_classes": [],
            "_model_module": "@jupyter-widgets/controls",
            "_model_module_version": "1.5.0",
            "_model_name": "HBoxModel",
            "_view_count": null,
            "_view_module": "@jupyter-widgets/controls",
            "_view_module_version": "1.5.0",
            "_view_name": "HBoxView",
            "box_style": "",
            "children": [
              "IPY_MODEL_5cecbf4bed4d410d99c5bb0e7ef60d22",
              "IPY_MODEL_9f911b08fd4a45eea9f930c994cbb3ca",
              "IPY_MODEL_8132e39bf35b40e9b018d445b441f0df"
            ],
            "layout": "IPY_MODEL_a6a1f58d939847cea073cec8de5fef7e"
          }
        },
        "af7c8e2df0154a6c90822d9868c17a55": {
          "model_module": "@jupyter-widgets/controls",
          "model_module_version": "1.5.0",
          "model_name": "HTMLModel",
          "state": {
            "_dom_classes": [],
            "_model_module": "@jupyter-widgets/controls",
            "_model_module_version": "1.5.0",
            "_model_name": "HTMLModel",
            "_view_count": null,
            "_view_module": "@jupyter-widgets/controls",
            "_view_module_version": "1.5.0",
            "_view_name": "HTMLView",
            "description": "",
            "description_tooltip": null,
            "layout": "IPY_MODEL_ca85f69a7914475b80c6fb54e958ffff",
            "placeholder": "​",
            "style": "IPY_MODEL_f26ebea8ac6f44ff93da4012d7db7a24",
            "value": " 387/387 [00:00&lt;00:00, 30.2kB/s]"
          }
        },
        "b00e9428222b47a3aa3c6f168fccffdc": {
          "model_module": "@jupyter-widgets/controls",
          "model_module_version": "1.5.0",
          "model_name": "HBoxModel",
          "state": {
            "_dom_classes": [],
            "_model_module": "@jupyter-widgets/controls",
            "_model_module_version": "1.5.0",
            "_model_name": "HBoxModel",
            "_view_count": null,
            "_view_module": "@jupyter-widgets/controls",
            "_view_module_version": "1.5.0",
            "_view_name": "HBoxView",
            "box_style": "",
            "children": [
              "IPY_MODEL_1038f4d7b92c4119b90467ae533f80c5",
              "IPY_MODEL_df4226c6aede42aa8b184107f0cf1dee",
              "IPY_MODEL_9eda7dde73c441a699da83f58aaa6bcf"
            ],
            "layout": "IPY_MODEL_f0abe4ffc8724f77b4c35920a633fdbb"
          }
        },
        "b17ee08274164a09a0df54568b4c055a": {
          "model_module": "@jupyter-widgets/controls",
          "model_module_version": "1.5.0",
          "model_name": "HTMLModel",
          "state": {
            "_dom_classes": [],
            "_model_module": "@jupyter-widgets/controls",
            "_model_module_version": "1.5.0",
            "_model_name": "HTMLModel",
            "_view_count": null,
            "_view_module": "@jupyter-widgets/controls",
            "_view_module_version": "1.5.0",
            "_view_name": "HTMLView",
            "description": "",
            "description_tooltip": null,
            "layout": "IPY_MODEL_27589089240e49109dd9fffc5c096b8a",
            "placeholder": "​",
            "style": "IPY_MODEL_01e18d3f534e4ba7921d283c29fef976",
            "value": "tokenizer_config.json: 100%"
          }
        },
        "b4758a13a90b419ab4a44444c97b2b19": {
          "model_module": "@jupyter-widgets/controls",
          "model_module_version": "1.5.0",
          "model_name": "FloatProgressModel",
          "state": {
            "_dom_classes": [],
            "_model_module": "@jupyter-widgets/controls",
            "_model_module_version": "1.5.0",
            "_model_name": "FloatProgressModel",
            "_view_count": null,
            "_view_module": "@jupyter-widgets/controls",
            "_view_module_version": "1.5.0",
            "_view_name": "ProgressView",
            "bar_style": "success",
            "description": "",
            "description_tooltip": null,
            "layout": "IPY_MODEL_c9daccb4c67c4c9bb2c42088e89ef601",
            "max": 387,
            "min": 0,
            "orientation": "horizontal",
            "style": "IPY_MODEL_7384067f46604572b2e55f51bad2332f",
            "value": 387
          }
        },
        "b7f66ae78cb9410fa1a6f33f26eb3760": {
          "model_module": "@jupyter-widgets/controls",
          "model_module_version": "1.5.0",
          "model_name": "DescriptionStyleModel",
          "state": {
            "_model_module": "@jupyter-widgets/controls",
            "_model_module_version": "1.5.0",
            "_model_name": "DescriptionStyleModel",
            "_view_count": null,
            "_view_module": "@jupyter-widgets/base",
            "_view_module_version": "1.2.0",
            "_view_name": "StyleView",
            "description_width": ""
          }
        },
        "b9d01e649f07467fae258a856ea86820": {
          "model_module": "@jupyter-widgets/controls",
          "model_module_version": "1.5.0",
          "model_name": "HTMLModel",
          "state": {
            "_dom_classes": [],
            "_model_module": "@jupyter-widgets/controls",
            "_model_module_version": "1.5.0",
            "_model_name": "HTMLModel",
            "_view_count": null,
            "_view_module": "@jupyter-widgets/controls",
            "_view_module_version": "1.5.0",
            "_view_name": "HTMLView",
            "description": "",
            "description_tooltip": null,
            "layout": "IPY_MODEL_643d6da882fc478a8e20633cd262ea8d",
            "placeholder": "​",
            "style": "IPY_MODEL_338dccbf8419461c96511087852f5418",
            "value": "config.json: 100%"
          }
        },
        "ba13f8fbde3341a4baecfc96b90e610c": {
          "model_module": "@jupyter-widgets/controls",
          "model_module_version": "1.5.0",
          "model_name": "HTMLModel",
          "state": {
            "_dom_classes": [],
            "_model_module": "@jupyter-widgets/controls",
            "_model_module_version": "1.5.0",
            "_model_name": "HTMLModel",
            "_view_count": null,
            "_view_module": "@jupyter-widgets/controls",
            "_view_module_version": "1.5.0",
            "_view_name": "HTMLView",
            "description": "",
            "description_tooltip": null,
            "layout": "IPY_MODEL_4cf9eea89e4f4014a357ce5e7876a4a8",
            "placeholder": "​",
            "style": "IPY_MODEL_3930d358a4314c2084b211da2bae4e64",
            "value": " 17.1M/17.1M [00:00&lt;00:00, 160MB/s]"
          }
        },
        "bb6788038a0e4e61aa8a0a38dffb5757": {
          "model_module": "@jupyter-widgets/controls",
          "model_module_version": "1.5.0",
          "model_name": "ProgressStyleModel",
          "state": {
            "_model_module": "@jupyter-widgets/controls",
            "_model_module_version": "1.5.0",
            "_model_name": "ProgressStyleModel",
            "_view_count": null,
            "_view_module": "@jupyter-widgets/base",
            "_view_module_version": "1.2.0",
            "_view_name": "StyleView",
            "bar_color": null,
            "description_width": ""
          }
        },
        "bca1ff666f454473bc6bdabe398f0880": {
          "model_module": "@jupyter-widgets/base",
          "model_module_version": "1.2.0",
          "model_name": "LayoutModel",
          "state": {
            "_model_module": "@jupyter-widgets/base",
            "_model_module_version": "1.2.0",
            "_model_name": "LayoutModel",
            "_view_count": null,
            "_view_module": "@jupyter-widgets/base",
            "_view_module_version": "1.2.0",
            "_view_name": "LayoutView",
            "align_content": null,
            "align_items": null,
            "align_self": null,
            "border": null,
            "bottom": null,
            "display": null,
            "flex": null,
            "flex_flow": null,
            "grid_area": null,
            "grid_auto_columns": null,
            "grid_auto_flow": null,
            "grid_auto_rows": null,
            "grid_column": null,
            "grid_gap": null,
            "grid_row": null,
            "grid_template_areas": null,
            "grid_template_columns": null,
            "grid_template_rows": null,
            "height": null,
            "justify_content": null,
            "justify_items": null,
            "left": null,
            "margin": null,
            "max_height": null,
            "max_width": null,
            "min_height": null,
            "min_width": null,
            "object_fit": null,
            "object_position": null,
            "order": null,
            "overflow": null,
            "overflow_x": null,
            "overflow_y": null,
            "padding": null,
            "right": null,
            "top": null,
            "visibility": null,
            "width": null
          }
        },
        "be4f04269aa84177897910405bd70bd8": {
          "model_module": "@jupyter-widgets/controls",
          "model_module_version": "1.5.0",
          "model_name": "FloatProgressModel",
          "state": {
            "_dom_classes": [],
            "_model_module": "@jupyter-widgets/controls",
            "_model_module_version": "1.5.0",
            "_model_name": "FloatProgressModel",
            "_view_count": null,
            "_view_module": "@jupyter-widgets/controls",
            "_view_module_version": "1.5.0",
            "_view_name": "ProgressView",
            "bar_style": "success",
            "description": "",
            "description_tooltip": null,
            "layout": "IPY_MODEL_97c7028f0f5b487d813eef629bf38fbc",
            "max": 201,
            "min": 0,
            "orientation": "horizontal",
            "style": "IPY_MODEL_f8a656d767d14dbcba756952d5ed5752",
            "value": 201
          }
        },
        "be6fd569916748e7b8216efd07f25af4": {
          "model_module": "@jupyter-widgets/controls",
          "model_module_version": "1.5.0",
          "model_name": "DescriptionStyleModel",
          "state": {
            "_model_module": "@jupyter-widgets/controls",
            "_model_module_version": "1.5.0",
            "_model_name": "DescriptionStyleModel",
            "_view_count": null,
            "_view_module": "@jupyter-widgets/base",
            "_view_module_version": "1.2.0",
            "_view_name": "StyleView",
            "description_width": ""
          }
        },
        "c0e9ae9d001a45ed9b44f28f6968d04d": {
          "model_module": "@jupyter-widgets/base",
          "model_module_version": "1.2.0",
          "model_name": "LayoutModel",
          "state": {
            "_model_module": "@jupyter-widgets/base",
            "_model_module_version": "1.2.0",
            "_model_name": "LayoutModel",
            "_view_count": null,
            "_view_module": "@jupyter-widgets/base",
            "_view_module_version": "1.2.0",
            "_view_name": "LayoutView",
            "align_content": null,
            "align_items": null,
            "align_self": null,
            "border": null,
            "bottom": null,
            "display": null,
            "flex": null,
            "flex_flow": null,
            "grid_area": null,
            "grid_auto_columns": null,
            "grid_auto_flow": null,
            "grid_auto_rows": null,
            "grid_column": null,
            "grid_gap": null,
            "grid_row": null,
            "grid_template_areas": null,
            "grid_template_columns": null,
            "grid_template_rows": null,
            "height": null,
            "justify_content": null,
            "justify_items": null,
            "left": null,
            "margin": null,
            "max_height": null,
            "max_width": null,
            "min_height": null,
            "min_width": null,
            "object_fit": null,
            "object_position": null,
            "order": null,
            "overflow": null,
            "overflow_x": null,
            "overflow_y": null,
            "padding": null,
            "right": null,
            "top": null,
            "visibility": null,
            "width": null
          }
        },
        "c9daccb4c67c4c9bb2c42088e89ef601": {
          "model_module": "@jupyter-widgets/base",
          "model_module_version": "1.2.0",
          "model_name": "LayoutModel",
          "state": {
            "_model_module": "@jupyter-widgets/base",
            "_model_module_version": "1.2.0",
            "_model_name": "LayoutModel",
            "_view_count": null,
            "_view_module": "@jupyter-widgets/base",
            "_view_module_version": "1.2.0",
            "_view_name": "LayoutView",
            "align_content": null,
            "align_items": null,
            "align_self": null,
            "border": null,
            "bottom": null,
            "display": null,
            "flex": null,
            "flex_flow": null,
            "grid_area": null,
            "grid_auto_columns": null,
            "grid_auto_flow": null,
            "grid_auto_rows": null,
            "grid_column": null,
            "grid_gap": null,
            "grid_row": null,
            "grid_template_areas": null,
            "grid_template_columns": null,
            "grid_template_rows": null,
            "height": null,
            "justify_content": null,
            "justify_items": null,
            "left": null,
            "margin": null,
            "max_height": null,
            "max_width": null,
            "min_height": null,
            "min_width": null,
            "object_fit": null,
            "object_position": null,
            "order": null,
            "overflow": null,
            "overflow_x": null,
            "overflow_y": null,
            "padding": null,
            "right": null,
            "top": null,
            "visibility": null,
            "width": null
          }
        },
        "ca85f69a7914475b80c6fb54e958ffff": {
          "model_module": "@jupyter-widgets/base",
          "model_module_version": "1.2.0",
          "model_name": "LayoutModel",
          "state": {
            "_model_module": "@jupyter-widgets/base",
            "_model_module_version": "1.2.0",
            "_model_name": "LayoutModel",
            "_view_count": null,
            "_view_module": "@jupyter-widgets/base",
            "_view_module_version": "1.2.0",
            "_view_name": "LayoutView",
            "align_content": null,
            "align_items": null,
            "align_self": null,
            "border": null,
            "bottom": null,
            "display": null,
            "flex": null,
            "flex_flow": null,
            "grid_area": null,
            "grid_auto_columns": null,
            "grid_auto_flow": null,
            "grid_auto_rows": null,
            "grid_column": null,
            "grid_gap": null,
            "grid_row": null,
            "grid_template_areas": null,
            "grid_template_columns": null,
            "grid_template_rows": null,
            "height": null,
            "justify_content": null,
            "justify_items": null,
            "left": null,
            "margin": null,
            "max_height": null,
            "max_width": null,
            "min_height": null,
            "min_width": null,
            "object_fit": null,
            "object_position": null,
            "order": null,
            "overflow": null,
            "overflow_x": null,
            "overflow_y": null,
            "padding": null,
            "right": null,
            "top": null,
            "visibility": null,
            "width": null
          }
        },
        "cdb08df3a49f49f99b1bfe7d160601eb": {
          "model_module": "@jupyter-widgets/controls",
          "model_module_version": "1.5.0",
          "model_name": "HBoxModel",
          "state": {
            "_dom_classes": [],
            "_model_module": "@jupyter-widgets/controls",
            "_model_module_version": "1.5.0",
            "_model_name": "HBoxModel",
            "_view_count": null,
            "_view_module": "@jupyter-widgets/controls",
            "_view_module_version": "1.5.0",
            "_view_name": "HBoxView",
            "box_style": "",
            "children": [
              "IPY_MODEL_50ee30f32aa44e6c897b4dcc0b1923bb",
              "IPY_MODEL_2ad8e50a7c8746eebe16e7ce65dba304",
              "IPY_MODEL_d26e28b574b8489096d0b4aeb74f6fb2"
            ],
            "layout": "IPY_MODEL_03dfce32cb6146aab28d6d6790daf3c7"
          }
        },
        "ce4a074c268d40979dee84bb32f70737": {
          "model_module": "@jupyter-widgets/controls",
          "model_module_version": "1.5.0",
          "model_name": "ProgressStyleModel",
          "state": {
            "_model_module": "@jupyter-widgets/controls",
            "_model_module_version": "1.5.0",
            "_model_name": "ProgressStyleModel",
            "_view_count": null,
            "_view_module": "@jupyter-widgets/base",
            "_view_module_version": "1.2.0",
            "_view_name": "StyleView",
            "bar_color": null,
            "description_width": ""
          }
        },
        "cebb1022874c4d44853f7a7fac1bdd3e": {
          "model_module": "@jupyter-widgets/controls",
          "model_module_version": "1.5.0",
          "model_name": "DescriptionStyleModel",
          "state": {
            "_model_module": "@jupyter-widgets/controls",
            "_model_module_version": "1.5.0",
            "_model_name": "DescriptionStyleModel",
            "_view_count": null,
            "_view_module": "@jupyter-widgets/base",
            "_view_module_version": "1.2.0",
            "_view_name": "StyleView",
            "description_width": ""
          }
        },
        "d26e28b574b8489096d0b4aeb74f6fb2": {
          "model_module": "@jupyter-widgets/controls",
          "model_module_version": "1.5.0",
          "model_name": "HTMLModel",
          "state": {
            "_dom_classes": [],
            "_model_module": "@jupyter-widgets/controls",
            "_model_module_version": "1.5.0",
            "_model_name": "HTMLModel",
            "_view_count": null,
            "_view_module": "@jupyter-widgets/controls",
            "_view_module_version": "1.5.0",
            "_view_name": "HTMLView",
            "description": "",
            "description_tooltip": null,
            "layout": "IPY_MODEL_9d0cbd55227749a8b4320262411ae66e",
            "placeholder": "​",
            "style": "IPY_MODEL_739523bd3ecc46238c97ab618853e583",
            "value": " 160k/160k [00:00&lt;00:00, 2.52MB/s]"
          }
        },
        "d3bba415f9e642f9aed1e9250d89899e": {
          "model_module": "@jupyter-widgets/controls",
          "model_module_version": "1.5.0",
          "model_name": "FloatProgressModel",
          "state": {
            "_dom_classes": [],
            "_model_module": "@jupyter-widgets/controls",
            "_model_module_version": "1.5.0",
            "_model_name": "FloatProgressModel",
            "_view_count": null,
            "_view_module": "@jupyter-widgets/controls",
            "_view_module_version": "1.5.0",
            "_view_name": "ProgressView",
            "bar_style": "success",
            "description": "",
            "description_tooltip": null,
            "layout": "IPY_MODEL_7ca0570d9d66475b81cd507191dc07f6",
            "max": 57,
            "min": 0,
            "orientation": "horizontal",
            "style": "IPY_MODEL_688af11b87eb412cac72cc026fe81d4e",
            "value": 57
          }
        },
        "d9a994d844a848c1b041b17f5f396c86": {
          "model_module": "@jupyter-widgets/base",
          "model_module_version": "1.2.0",
          "model_name": "LayoutModel",
          "state": {
            "_model_module": "@jupyter-widgets/base",
            "_model_module_version": "1.2.0",
            "_model_name": "LayoutModel",
            "_view_count": null,
            "_view_module": "@jupyter-widgets/base",
            "_view_module_version": "1.2.0",
            "_view_name": "LayoutView",
            "align_content": null,
            "align_items": null,
            "align_self": null,
            "border": null,
            "bottom": null,
            "display": null,
            "flex": null,
            "flex_flow": null,
            "grid_area": null,
            "grid_auto_columns": null,
            "grid_auto_flow": null,
            "grid_auto_rows": null,
            "grid_column": null,
            "grid_gap": null,
            "grid_row": null,
            "grid_template_areas": null,
            "grid_template_columns": null,
            "grid_template_rows": null,
            "height": null,
            "justify_content": null,
            "justify_items": null,
            "left": null,
            "margin": null,
            "max_height": null,
            "max_width": null,
            "min_height": null,
            "min_width": null,
            "object_fit": null,
            "object_position": null,
            "order": null,
            "overflow": null,
            "overflow_x": null,
            "overflow_y": null,
            "padding": null,
            "right": null,
            "top": null,
            "visibility": null,
            "width": null
          }
        },
        "df4226c6aede42aa8b184107f0cf1dee": {
          "model_module": "@jupyter-widgets/controls",
          "model_module_version": "1.5.0",
          "model_name": "FloatProgressModel",
          "state": {
            "_dom_classes": [],
            "_model_module": "@jupyter-widgets/controls",
            "_model_module_version": "1.5.0",
            "_model_name": "FloatProgressModel",
            "_view_count": null,
            "_view_module": "@jupyter-widgets/controls",
            "_view_module_version": "1.5.0",
            "_view_name": "ProgressView",
            "bar_style": "success",
            "description": "",
            "description_tooltip": null,
            "layout": "IPY_MODEL_470b81a7be8f412d9ce2812283e7a1d1",
            "max": 5069051,
            "min": 0,
            "orientation": "horizontal",
            "style": "IPY_MODEL_7572011c32c94db79882581ed609b205",
            "value": 5069051
          }
        },
        "e1e36bfd48af4d72a9d9c3bed1d0069e": {
          "model_module": "@jupyter-widgets/base",
          "model_module_version": "1.2.0",
          "model_name": "LayoutModel",
          "state": {
            "_model_module": "@jupyter-widgets/base",
            "_model_module_version": "1.2.0",
            "_model_name": "LayoutModel",
            "_view_count": null,
            "_view_module": "@jupyter-widgets/base",
            "_view_module_version": "1.2.0",
            "_view_name": "LayoutView",
            "align_content": null,
            "align_items": null,
            "align_self": null,
            "border": null,
            "bottom": null,
            "display": null,
            "flex": null,
            "flex_flow": null,
            "grid_area": null,
            "grid_auto_columns": null,
            "grid_auto_flow": null,
            "grid_auto_rows": null,
            "grid_column": null,
            "grid_gap": null,
            "grid_row": null,
            "grid_template_areas": null,
            "grid_template_columns": null,
            "grid_template_rows": null,
            "height": null,
            "justify_content": null,
            "justify_items": null,
            "left": null,
            "margin": null,
            "max_height": null,
            "max_width": null,
            "min_height": null,
            "min_width": null,
            "object_fit": null,
            "object_position": null,
            "order": null,
            "overflow": null,
            "overflow_x": null,
            "overflow_y": null,
            "padding": null,
            "right": null,
            "top": null,
            "visibility": null,
            "width": null
          }
        },
        "e384e1bd7fc648a5b42fa45a7e71fd55": {
          "model_module": "@jupyter-widgets/base",
          "model_module_version": "1.2.0",
          "model_name": "LayoutModel",
          "state": {
            "_model_module": "@jupyter-widgets/base",
            "_model_module_version": "1.2.0",
            "_model_name": "LayoutModel",
            "_view_count": null,
            "_view_module": "@jupyter-widgets/base",
            "_view_module_version": "1.2.0",
            "_view_name": "LayoutView",
            "align_content": null,
            "align_items": null,
            "align_self": null,
            "border": null,
            "bottom": null,
            "display": null,
            "flex": null,
            "flex_flow": null,
            "grid_area": null,
            "grid_auto_columns": null,
            "grid_auto_flow": null,
            "grid_auto_rows": null,
            "grid_column": null,
            "grid_gap": null,
            "grid_row": null,
            "grid_template_areas": null,
            "grid_template_columns": null,
            "grid_template_rows": null,
            "height": null,
            "justify_content": null,
            "justify_items": null,
            "left": null,
            "margin": null,
            "max_height": null,
            "max_width": null,
            "min_height": null,
            "min_width": null,
            "object_fit": null,
            "object_position": null,
            "order": null,
            "overflow": null,
            "overflow_x": null,
            "overflow_y": null,
            "padding": null,
            "right": null,
            "top": null,
            "visibility": null,
            "width": null
          }
        },
        "e627f0b603864a2db0ee85696499598d": {
          "model_module": "@jupyter-widgets/controls",
          "model_module_version": "1.5.0",
          "model_name": "HTMLModel",
          "state": {
            "_dom_classes": [],
            "_model_module": "@jupyter-widgets/controls",
            "_model_module_version": "1.5.0",
            "_model_name": "HTMLModel",
            "_view_count": null,
            "_view_module": "@jupyter-widgets/controls",
            "_view_module_version": "1.5.0",
            "_view_name": "HTMLView",
            "description": "",
            "description_tooltip": null,
            "layout": "IPY_MODEL_15767a20027243d59778c3406c602df0",
            "placeholder": "​",
            "style": "IPY_MODEL_ed8055bc4b5f419582833483066c566f",
            "value": "sentence_bert_config.json: 100%"
          }
        },
        "e711d6b8c09348249bcf2a03d2e367a3": {
          "model_module": "@jupyter-widgets/base",
          "model_module_version": "1.2.0",
          "model_name": "LayoutModel",
          "state": {
            "_model_module": "@jupyter-widgets/base",
            "_model_module_version": "1.2.0",
            "_model_name": "LayoutModel",
            "_view_count": null,
            "_view_module": "@jupyter-widgets/base",
            "_view_module_version": "1.2.0",
            "_view_name": "LayoutView",
            "align_content": null,
            "align_items": null,
            "align_self": null,
            "border": null,
            "bottom": null,
            "display": null,
            "flex": null,
            "flex_flow": null,
            "grid_area": null,
            "grid_auto_columns": null,
            "grid_auto_flow": null,
            "grid_auto_rows": null,
            "grid_column": null,
            "grid_gap": null,
            "grid_row": null,
            "grid_template_areas": null,
            "grid_template_columns": null,
            "grid_template_rows": null,
            "height": null,
            "justify_content": null,
            "justify_items": null,
            "left": null,
            "margin": null,
            "max_height": null,
            "max_width": null,
            "min_height": null,
            "min_width": null,
            "object_fit": null,
            "object_position": null,
            "order": null,
            "overflow": null,
            "overflow_x": null,
            "overflow_y": null,
            "padding": null,
            "right": null,
            "top": null,
            "visibility": null,
            "width": null
          }
        },
        "eabefb31e00845809bda7b22ebcaa156": {
          "model_module": "@jupyter-widgets/controls",
          "model_module_version": "1.5.0",
          "model_name": "HTMLModel",
          "state": {
            "_dom_classes": [],
            "_model_module": "@jupyter-widgets/controls",
            "_model_module_version": "1.5.0",
            "_model_name": "HTMLModel",
            "_view_count": null,
            "_view_module": "@jupyter-widgets/controls",
            "_view_module_version": "1.5.0",
            "_view_name": "HTMLView",
            "description": "",
            "description_tooltip": null,
            "layout": "IPY_MODEL_90721150710d4804bf436f9691854b5a",
            "placeholder": "​",
            "style": "IPY_MODEL_80a4f7e730f246d48d4ffe665441e58d",
            "value": "model.safetensors: 100%"
          }
        },
        "eb8122b67c6c47a8ae77a6cc7fe78f02": {
          "model_module": "@jupyter-widgets/controls",
          "model_module_version": "1.5.0",
          "model_name": "ProgressStyleModel",
          "state": {
            "_model_module": "@jupyter-widgets/controls",
            "_model_module_version": "1.5.0",
            "_model_name": "ProgressStyleModel",
            "_view_count": null,
            "_view_module": "@jupyter-widgets/base",
            "_view_module_version": "1.2.0",
            "_view_name": "StyleView",
            "bar_color": null,
            "description_width": ""
          }
        },
        "ed8055bc4b5f419582833483066c566f": {
          "model_module": "@jupyter-widgets/controls",
          "model_module_version": "1.5.0",
          "model_name": "DescriptionStyleModel",
          "state": {
            "_model_module": "@jupyter-widgets/controls",
            "_model_module_version": "1.5.0",
            "_model_name": "DescriptionStyleModel",
            "_view_count": null,
            "_view_module": "@jupyter-widgets/base",
            "_view_module_version": "1.2.0",
            "_view_name": "StyleView",
            "description_width": ""
          }
        },
        "effcc1c0afc148b3aee8e0480a464d94": {
          "model_module": "@jupyter-widgets/base",
          "model_module_version": "1.2.0",
          "model_name": "LayoutModel",
          "state": {
            "_model_module": "@jupyter-widgets/base",
            "_model_module_version": "1.2.0",
            "_model_name": "LayoutModel",
            "_view_count": null,
            "_view_module": "@jupyter-widgets/base",
            "_view_module_version": "1.2.0",
            "_view_name": "LayoutView",
            "align_content": null,
            "align_items": null,
            "align_self": null,
            "border": null,
            "bottom": null,
            "display": null,
            "flex": null,
            "flex_flow": null,
            "grid_area": null,
            "grid_auto_columns": null,
            "grid_auto_flow": null,
            "grid_auto_rows": null,
            "grid_column": null,
            "grid_gap": null,
            "grid_row": null,
            "grid_template_areas": null,
            "grid_template_columns": null,
            "grid_template_rows": null,
            "height": null,
            "justify_content": null,
            "justify_items": null,
            "left": null,
            "margin": null,
            "max_height": null,
            "max_width": null,
            "min_height": null,
            "min_width": null,
            "object_fit": null,
            "object_position": null,
            "order": null,
            "overflow": null,
            "overflow_x": null,
            "overflow_y": null,
            "padding": null,
            "right": null,
            "top": null,
            "visibility": null,
            "width": null
          }
        },
        "f09eba13998e4596805b47df4101f124": {
          "model_module": "@jupyter-widgets/controls",
          "model_module_version": "1.5.0",
          "model_name": "DescriptionStyleModel",
          "state": {
            "_model_module": "@jupyter-widgets/controls",
            "_model_module_version": "1.5.0",
            "_model_name": "DescriptionStyleModel",
            "_view_count": null,
            "_view_module": "@jupyter-widgets/base",
            "_view_module_version": "1.2.0",
            "_view_name": "StyleView",
            "description_width": ""
          }
        },
        "f0abe4ffc8724f77b4c35920a633fdbb": {
          "model_module": "@jupyter-widgets/base",
          "model_module_version": "1.2.0",
          "model_name": "LayoutModel",
          "state": {
            "_model_module": "@jupyter-widgets/base",
            "_model_module_version": "1.2.0",
            "_model_name": "LayoutModel",
            "_view_count": null,
            "_view_module": "@jupyter-widgets/base",
            "_view_module_version": "1.2.0",
            "_view_name": "LayoutView",
            "align_content": null,
            "align_items": null,
            "align_self": null,
            "border": null,
            "bottom": null,
            "display": null,
            "flex": null,
            "flex_flow": null,
            "grid_area": null,
            "grid_auto_columns": null,
            "grid_auto_flow": null,
            "grid_auto_rows": null,
            "grid_column": null,
            "grid_gap": null,
            "grid_row": null,
            "grid_template_areas": null,
            "grid_template_columns": null,
            "grid_template_rows": null,
            "height": null,
            "justify_content": null,
            "justify_items": null,
            "left": null,
            "margin": null,
            "max_height": null,
            "max_width": null,
            "min_height": null,
            "min_width": null,
            "object_fit": null,
            "object_position": null,
            "order": null,
            "overflow": null,
            "overflow_x": null,
            "overflow_y": null,
            "padding": null,
            "right": null,
            "top": null,
            "visibility": null,
            "width": null
          }
        },
        "f12de04464a04fd3acddd8bee1f190f9": {
          "model_module": "@jupyter-widgets/controls",
          "model_module_version": "1.5.0",
          "model_name": "DescriptionStyleModel",
          "state": {
            "_model_module": "@jupyter-widgets/controls",
            "_model_module_version": "1.5.0",
            "_model_name": "DescriptionStyleModel",
            "_view_count": null,
            "_view_module": "@jupyter-widgets/base",
            "_view_module_version": "1.2.0",
            "_view_name": "StyleView",
            "description_width": ""
          }
        },
        "f26ebea8ac6f44ff93da4012d7db7a24": {
          "model_module": "@jupyter-widgets/controls",
          "model_module_version": "1.5.0",
          "model_name": "DescriptionStyleModel",
          "state": {
            "_model_module": "@jupyter-widgets/controls",
            "_model_module_version": "1.5.0",
            "_model_name": "DescriptionStyleModel",
            "_view_count": null,
            "_view_module": "@jupyter-widgets/base",
            "_view_module_version": "1.2.0",
            "_view_name": "StyleView",
            "description_width": ""
          }
        },
        "f868dd2902e04d0da87c78d23d1db9f2": {
          "model_module": "@jupyter-widgets/controls",
          "model_module_version": "1.5.0",
          "model_name": "DescriptionStyleModel",
          "state": {
            "_model_module": "@jupyter-widgets/controls",
            "_model_module_version": "1.5.0",
            "_model_name": "DescriptionStyleModel",
            "_view_count": null,
            "_view_module": "@jupyter-widgets/base",
            "_view_module_version": "1.2.0",
            "_view_name": "StyleView",
            "description_width": ""
          }
        },
        "f8a656d767d14dbcba756952d5ed5752": {
          "model_module": "@jupyter-widgets/controls",
          "model_module_version": "1.5.0",
          "model_name": "ProgressStyleModel",
          "state": {
            "_model_module": "@jupyter-widgets/controls",
            "_model_module_version": "1.5.0",
            "_model_name": "ProgressStyleModel",
            "_view_count": null,
            "_view_module": "@jupyter-widgets/base",
            "_view_module_version": "1.2.0",
            "_view_name": "StyleView",
            "bar_color": null,
            "description_width": ""
          }
        },
        "f9acf3181d6d4a92a666600e713a928d": {
          "model_module": "@jupyter-widgets/controls",
          "model_module_version": "1.5.0",
          "model_name": "HTMLModel",
          "state": {
            "_dom_classes": [],
            "_model_module": "@jupyter-widgets/controls",
            "_model_module_version": "1.5.0",
            "_model_name": "HTMLModel",
            "_view_count": null,
            "_view_module": "@jupyter-widgets/controls",
            "_view_module_version": "1.5.0",
            "_view_name": "HTMLView",
            "description": "",
            "description_tooltip": null,
            "layout": "IPY_MODEL_fd946dcd97544f53ba25f9d2c1f0f6f7",
            "placeholder": "​",
            "style": "IPY_MODEL_f09eba13998e4596805b47df4101f124",
            "value": " 201/201 [00:00&lt;00:00, 17.2kB/s]"
          }
        },
        "fd289cdfd7d4470189deb94b5d76d4f5": {
          "model_module": "@jupyter-widgets/controls",
          "model_module_version": "1.5.0",
          "model_name": "DescriptionStyleModel",
          "state": {
            "_model_module": "@jupyter-widgets/controls",
            "_model_module_version": "1.5.0",
            "_model_name": "DescriptionStyleModel",
            "_view_count": null,
            "_view_module": "@jupyter-widgets/base",
            "_view_module_version": "1.2.0",
            "_view_name": "StyleView",
            "description_width": ""
          }
        },
        "fd946dcd97544f53ba25f9d2c1f0f6f7": {
          "model_module": "@jupyter-widgets/base",
          "model_module_version": "1.2.0",
          "model_name": "LayoutModel",
          "state": {
            "_model_module": "@jupyter-widgets/base",
            "_model_module_version": "1.2.0",
            "_model_name": "LayoutModel",
            "_view_count": null,
            "_view_module": "@jupyter-widgets/base",
            "_view_module_version": "1.2.0",
            "_view_name": "LayoutView",
            "align_content": null,
            "align_items": null,
            "align_self": null,
            "border": null,
            "bottom": null,
            "display": null,
            "flex": null,
            "flex_flow": null,
            "grid_area": null,
            "grid_auto_columns": null,
            "grid_auto_flow": null,
            "grid_auto_rows": null,
            "grid_column": null,
            "grid_gap": null,
            "grid_row": null,
            "grid_template_areas": null,
            "grid_template_columns": null,
            "grid_template_rows": null,
            "height": null,
            "justify_content": null,
            "justify_items": null,
            "left": null,
            "margin": null,
            "max_height": null,
            "max_width": null,
            "min_height": null,
            "min_width": null,
            "object_fit": null,
            "object_position": null,
            "order": null,
            "overflow": null,
            "overflow_x": null,
            "overflow_y": null,
            "padding": null,
            "right": null,
            "top": null,
            "visibility": null,
            "width": null
          }
        },
        "fdb53af8b2f6426db6de461cfa89759b": {
          "model_module": "@jupyter-widgets/controls",
          "model_module_version": "1.5.0",
          "model_name": "HTMLModel",
          "state": {
            "_dom_classes": [],
            "_model_module": "@jupyter-widgets/controls",
            "_model_module_version": "1.5.0",
            "_model_name": "HTMLModel",
            "_view_count": null,
            "_view_module": "@jupyter-widgets/controls",
            "_view_module_version": "1.5.0",
            "_view_name": "HTMLView",
            "description": "",
            "description_tooltip": null,
            "layout": "IPY_MODEL_e1e36bfd48af4d72a9d9c3bed1d0069e",
            "placeholder": "​",
            "style": "IPY_MODEL_58104b0e965a4e13994b2fe76b32988b",
            "value": " 26/26 [00:00&lt;00:00, 361.65it/s]"
          }
        },
        "ff5cea38426649a8a5d6dbd34e6f4625": {
          "model_module": "@jupyter-widgets/controls",
          "model_module_version": "1.5.0",
          "model_name": "ProgressStyleModel",
          "state": {
            "_model_module": "@jupyter-widgets/controls",
            "_model_module_version": "1.5.0",
            "_model_name": "ProgressStyleModel",
            "_view_count": null,
            "_view_module": "@jupyter-widgets/base",
            "_view_module_version": "1.2.0",
            "_view_name": "StyleView",
            "bar_color": null,
            "description_width": ""
          }
        },
        "ff612591ea584e028dee12c17aabfa57": {
          "model_module": "@jupyter-widgets/base",
          "model_module_version": "1.2.0",
          "model_name": "LayoutModel",
          "state": {
            "_model_module": "@jupyter-widgets/base",
            "_model_module_version": "1.2.0",
            "_model_name": "LayoutModel",
            "_view_count": null,
            "_view_module": "@jupyter-widgets/base",
            "_view_module_version": "1.2.0",
            "_view_name": "LayoutView",
            "align_content": null,
            "align_items": null,
            "align_self": null,
            "border": null,
            "bottom": null,
            "display": null,
            "flex": null,
            "flex_flow": null,
            "grid_area": null,
            "grid_auto_columns": null,
            "grid_auto_flow": null,
            "grid_auto_rows": null,
            "grid_column": null,
            "grid_gap": null,
            "grid_row": null,
            "grid_template_areas": null,
            "grid_template_columns": null,
            "grid_template_rows": null,
            "height": null,
            "justify_content": null,
            "justify_items": null,
            "left": null,
            "margin": null,
            "max_height": null,
            "max_width": null,
            "min_height": null,
            "min_width": null,
            "object_fit": null,
            "object_position": null,
            "order": null,
            "overflow": null,
            "overflow_x": null,
            "overflow_y": null,
            "padding": null,
            "right": null,
            "top": null,
            "visibility": null,
            "width": null
          }
        }
      }
    }
  },
  "nbformat": 4,
  "nbformat_minor": 0
}